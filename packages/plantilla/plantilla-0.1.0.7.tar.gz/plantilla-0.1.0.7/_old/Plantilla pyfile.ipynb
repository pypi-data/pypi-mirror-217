{
 "cells": [
  {
   "cell_type": "code",
   "execution_count": 8,
   "metadata": {},
   "outputs": [
    {
     "name": "stdout",
     "output_type": "stream",
     "text": [
      "El directorio en Script existe. Creando carpetas.\n",
      "C:\\Users\\Administrador\\Documents\\MECON\\2. Segmentación\\data ya existe\n",
      "C:\\Users\\Administrador\\Documents\\MECON\\2. Segmentación\\data\\data_in ya existe\n",
      "C:\\Users\\Administrador\\Documents\\MECON\\2. Segmentación\\data\\data_out ya existe\n",
      "C:\\Users\\Administrador\\Documents\\MECON\\2. Segmentación\\docs ya existe\n",
      "C:\\Users\\Administrador\\Documents\\MECON\\2. Segmentación\\scripts ya existe\n",
      "C:\\Users\\Administrador\\Documents\\MECON\\2. Segmentación\\scripts\\2.3.Variable_Latente [REVISAR DIRS] ya existe\n",
      "C:\\Users\\Administrador\\Documents\\MECON\\2. Segmentación\\outputs ya existe\n",
      "C:\\Users\\Administrador\\Documents\\MECON\\2. Segmentación\\outputs\\figures ya existe\n",
      "C:\\Users\\Administrador\\Documents\\MECON\\2. Segmentación\\outputs\\figures\\2.3.Variable_Latente [REVISAR DIRS] Creado\n",
      "C:\\Users\\Administrador\\Documents\\MECON\\2. Segmentación\\outputs\\maps ya existe\n",
      "C:\\Users\\Administrador\\Documents\\MECON\\2. Segmentación\\outputs\\maps\\2.3.Variable_Latente [REVISAR DIRS] Creado\n",
      "C:\\Users\\Administrador\\Documents\\MECON\\2. Segmentación\\outputs\\tables ya existe\n",
      "C:\\Users\\Administrador\\Documents\\MECON\\2. Segmentación\\outputs\\tables\\2.3.Variable_Latente [REVISAR DIRS] Creado\n"
     ]
    }
   ],
   "source": [
    "import os\n",
    "# from sfi import Macro\n",
    "\n",
    "# proyecto = Macro.getGlobal(\"proyecto\")\n",
    "\n",
    "\n",
    "proyecto = r'2. Segmentación'\n",
    "subproyecto = r'2.3.Variable_Latente [REVISAR DIRS]'\n",
    "\n",
    "path_user = ''\n",
    " \n",
    "test_path = fr\"C:\\Users\\Administrador\\Documents\\MECON\\{proyecto}\"\n",
    "\n",
    "\n",
    "if os.path.isdir(test_path):\n",
    "    path_user = test_path\n",
    "\n",
    "else:\n",
    "    path = os.path.normpath(os.getcwd() + os.sep + os.pardir) # Get padre de la ruta del archivo\n",
    "\n",
    "    path_user = path + '\\\\' + str(proyecto)\n",
    "\n",
    "    if os.path.isdir(path_user)==False:\n",
    "        raise NameError(\"Error 404. Directorio no encontrado, revisar nombre del proyecto\")\n",
    " \n",
    "folders = []\n",
    "\n",
    "                \n",
    "\n",
    "if os.path.isdir(path_user + fr'\\scripts\\{subproyecto}'):\n",
    "    \n",
    "    print(\"El directorio en Script existe. Creando carpetas.\")\n",
    "    \n",
    "    try:\n",
    "        folders = [r'\\data',\n",
    "                    r'\\data\\data_in',\n",
    "                    r'\\data\\data_out',\n",
    "                    r'\\docs',\n",
    "                    r'\\scripts',\n",
    "                    fr'\\scripts\\{subproyecto}',\n",
    "                    r'\\outputs',\n",
    "                    r'\\outputs\\figures',\n",
    "                    fr'\\outputs\\figures\\{subproyecto}',\n",
    "                    r'\\outputs\\maps',\n",
    "                    fr'\\outputs\\maps\\{subproyecto}',\n",
    "                    r'\\outputs\\tables',\n",
    "                    fr'\\outputs\\tables\\{subproyecto}']\n",
    "\n",
    "    except:\n",
    "        folders = [ r'\\data',\n",
    "                    r'\\data\\data_in',\n",
    "                    r'\\data\\data_out',\n",
    "                    r'\\docs',\n",
    "                    r'\\scripts',\n",
    "                    r'\\outputs',\n",
    "                    r'\\outputs\\figures',\n",
    "                    r'\\outputs\\maps',\n",
    "                    r'\\outputs\\tables']\n",
    "\n",
    "\n",
    "    for folder in folders:\n",
    "\n",
    "        mkdir = path_user + folder\n",
    "        if os.path.isdir(mkdir)==False:\n",
    "            os.mkdir(mkdir)\n",
    "            print(mkdir, 'Creado')\n",
    "        else:\n",
    "            print(mkdir, 'ya existe')\n",
    "\n",
    "else:\n",
    "     raise NameError(\"El directorio en Script no existe. Por favor, crear una carpeta en Script con el nombre del subproyecto.\")\n",
    "          \n",
    "path_datain\t = path_user + r'\\data\\data_in'\n",
    "path_dataout = path_user + r'\\data\\data_out'\n",
    "path_scripts = path_user + fr'\\scripts\\{subproyecto}'\n",
    "path_figures = path_user + fr'\\output\\figures\\{subproyecto}'\n",
    "path_maps\t = path_user + fr'\\output\\maps\\{subproyecto}'\n",
    "path_tables\t = path_user + fr'\\output\\tables\\{subproyecto}'\n",
    "\n"
   ]
  },
  {
   "cell_type": "code",
   "execution_count": 1,
   "metadata": {},
   "outputs": [
    {
     "ename": "ModuleNotFoundError",
     "evalue": "No module named 'sfi'",
     "output_type": "error",
     "traceback": [
      "\u001b[1;31m---------------------------------------------------------------------------\u001b[0m",
      "\u001b[1;31mModuleNotFoundError\u001b[0m                       Traceback (most recent call last)",
      "\u001b[1;32mC:\\Users\\ADMINI~1\\AppData\\Local\\Temp/ipykernel_14516/2482397846.py\u001b[0m in \u001b[0;36m<module>\u001b[1;34m\u001b[0m\n\u001b[1;32m----> 1\u001b[1;33m \u001b[1;32mfrom\u001b[0m \u001b[0msfi\u001b[0m \u001b[1;32mimport\u001b[0m \u001b[0mMacro\u001b[0m\u001b[1;33m\u001b[0m\u001b[1;33m\u001b[0m\u001b[0m\n\u001b[0m\u001b[0;32m      2\u001b[0m \u001b[1;33m\u001b[0m\u001b[0m\n\u001b[0;32m      3\u001b[0m \u001b[0mproyecto\u001b[0m \u001b[1;33m=\u001b[0m \u001b[0mMacro\u001b[0m\u001b[1;33m.\u001b[0m\u001b[0mgetGlobal\u001b[0m\u001b[1;33m(\u001b[0m\u001b[1;34m\"proyecto\"\u001b[0m\u001b[1;33m)\u001b[0m\u001b[1;33m\u001b[0m\u001b[1;33m\u001b[0m\u001b[0m\n\u001b[0;32m      4\u001b[0m \u001b[0mproyecto\u001b[0m\u001b[1;33m\u001b[0m\u001b[1;33m\u001b[0m\u001b[0m\n",
      "\u001b[1;31mModuleNotFoundError\u001b[0m: No module named 'sfi'"
     ]
    }
   ],
   "source": [
    "from sfi import Macro\n",
    "\n",
    "proyecto = Macro.getGlobal(\"proyecto\")\n",
    "proyecto"
   ]
  },
  {
   "cell_type": "code",
   "execution_count": 16,
   "metadata": {},
   "outputs": [
    {
     "name": "stdout",
     "output_type": "stream",
     "text": [
      "El directorio en Script existe. Creando carpetas.\n",
      "C:\\Users\\Administrador\\Documents\\MECON\\2. Segmentación\\data ya existe\n",
      "C:\\Users\\Administrador\\Documents\\MECON\\2. Segmentación\\data\\data_in ya existe\n",
      "C:\\Users\\Administrador\\Documents\\MECON\\2. Segmentación\\data\\data_out ya existe\n",
      "C:\\Users\\Administrador\\Documents\\MECON\\2. Segmentación\\docs ya existe\n",
      "C:\\Users\\Administrador\\Documents\\MECON\\2. Segmentación\\scripts ya existe\n",
      "C:\\Users\\Administrador\\Documents\\MECON\\2. Segmentación\\scripts\\2.3.Variable_Latente ya existe\n",
      "C:\\Users\\Administrador\\Documents\\MECON\\2. Segmentación\\outputs ya existe\n",
      "C:\\Users\\Administrador\\Documents\\MECON\\2. Segmentación\\outputs\\figures ya existe\n",
      "C:\\Users\\Administrador\\Documents\\MECON\\2. Segmentación\\outputs\\figures\\2.3.Variable_Latente ya existe\n",
      "C:\\Users\\Administrador\\Documents\\MECON\\2. Segmentación\\outputs\\maps ya existe\n",
      "C:\\Users\\Administrador\\Documents\\MECON\\2. Segmentación\\outputs\\maps\\2.3.Variable_Latente ya existe\n",
      "C:\\Users\\Administrador\\Documents\\MECON\\2. Segmentación\\outputs\\tables ya existe\n",
      "C:\\Users\\Administrador\\Documents\\MECON\\2. Segmentación\\outputs\\tables\\2.3.Variable_Latente ya existe\n"
     ]
    }
   ],
   "source": [
    "import plantilla\n",
    "\n",
    "plantilla.plantilla('2. Segmentación','2.3.Variable_Latente')"
   ]
  }
 ],
 "metadata": {
  "interpreter": {
   "hash": "ac59ebe37160ed0dfa835113d9b8498d9f09ceb179beaac4002f036b9467c963"
  },
  "kernelspec": {
   "display_name": "Python 3 (ipykernel)",
   "language": "python",
   "name": "python3"
  },
  "language_info": {
   "codemirror_mode": {
    "name": "ipython",
    "version": 3
   },
   "file_extension": ".py",
   "mimetype": "text/x-python",
   "name": "python",
   "nbconvert_exporter": "python",
   "pygments_lexer": "ipython3",
   "version": "3.10.0"
  }
 },
 "nbformat": 4,
 "nbformat_minor": 4
}
