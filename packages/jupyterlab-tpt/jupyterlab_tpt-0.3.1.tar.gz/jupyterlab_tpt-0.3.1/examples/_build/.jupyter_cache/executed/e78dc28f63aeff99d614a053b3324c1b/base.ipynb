{
 "cells": [
  {
   "cell_type": "code",
   "execution_count": 1,
   "id": "22c9e4a7",
   "metadata": {},
   "outputs": [],
   "source": [
    "# this is the required piece\n",
    "#%pip show jupyterlab-myst jupyterlab-jupytext jupyterlab-courselevels"
   ]
  },
  {
   "cell_type": "code",
   "execution_count": 2,
   "id": "7d16fa8d",
   "metadata": {
    "editable": true,
    "hide_input": true,
    "slideshow": {
     "slide_type": ""
    },
    "tags": [
     "hide-input"
    ]
   },
   "outputs": [
    {
     "name": "stdout",
     "output_type": "stream",
     "text": [
      "should show the output but not the code\n"
     ]
    }
   ],
   "source": [
    "# this text whould be hidden\n",
    "print(\"should show the output but not the code\")"
   ]
  },
  {
   "cell_type": "code",
   "execution_count": 3,
   "id": "4ec50ba6",
   "metadata": {
    "hide_input": true,
    "tags": [
     "hide-input"
    ]
   },
   "outputs": [
    {
     "name": "stdout",
     "output_type": "stream",
     "text": [
      "and another hide-input cell\n"
     ]
    }
   ],
   "source": [
    "print('and another hide-input cell')"
   ]
  },
  {
   "cell_type": "code",
   "execution_count": 4,
   "id": "ee8b68a5",
   "metadata": {
    "tags": [
     "level_basic"
    ]
   },
   "outputs": [],
   "source": [
    "# a basic cell\n",
    "\n",
    "def fact(n):\n",
    "    if n <= 1:\n",
    "        return 1\n",
    "    else:\n",
    "        return n * fact(n-1)"
   ]
  },
  {
   "cell_type": "code",
   "execution_count": 5,
   "id": "b4bc43b5",
   "metadata": {},
   "outputs": [
    {
     "data": {
      "text/plain": [
       "3628800"
      ]
     },
     "execution_count": 5,
     "metadata": {},
     "output_type": "execute_result"
    }
   ],
   "source": [
    "fact(10)"
   ]
  },
  {
   "cell_type": "code",
   "execution_count": 6,
   "id": "8249d0c9",
   "metadata": {
    "tags": [
     "level_intermediate"
    ]
   },
   "outputs": [],
   "source": [
    "# an intermediate cell\n",
    "\n",
    "def fact(n):\n",
    "    return 1 if n <= 1 else n * fact(n-1)"
   ]
  },
  {
   "cell_type": "code",
   "execution_count": 7,
   "id": "dec0dfcb",
   "metadata": {},
   "outputs": [
    {
     "data": {
      "text/plain": [
       "3628800"
      ]
     },
     "execution_count": 7,
     "metadata": {},
     "output_type": "execute_result"
    }
   ],
   "source": [
    "fact(10)"
   ]
  },
  {
   "cell_type": "code",
   "execution_count": 8,
   "id": "c70ec1b6",
   "metadata": {
    "tags": [
     "level_advanced"
    ]
   },
   "outputs": [],
   "source": [
    "# an advanced cell\n",
    "\n",
    "from functools import reduce\n",
    "from operator import mul\n",
    "\n",
    "def fact(n):\n",
    "    return reduce(mul, range(1, n+1))"
   ]
  },
  {
   "cell_type": "code",
   "execution_count": 9,
   "id": "87beab79",
   "metadata": {},
   "outputs": [
    {
     "data": {
      "text/plain": [
       "3628800"
      ]
     },
     "execution_count": 9,
     "metadata": {},
     "output_type": "execute_result"
    }
   ],
   "source": [
    "fact(10)"
   ]
  }
 ],
 "metadata": {
  "celltoolbar": "Edit Metadata",
  "jupytext": {
   "cell_metadata_filter": "all,-hidden,-heading_collapsed,-run_control,-trusted",
   "notebook_metadata_filter": "all,-language_info,-toc,-jupytext.text_representation.jupytext_version,-jupytext.text_representation.format_version",
   "text_representation": {
    "extension": ".md",
    "format_name": "myst"
   }
  },
  "kernelspec": {
   "display_name": "Python 3 (ipykernel)",
   "language": "python",
   "name": "python3"
  },
  "language_info": {
   "codemirror_mode": {
    "name": "ipython",
    "version": 3
   },
   "file_extension": ".py",
   "mimetype": "text/x-python",
   "name": "python",
   "nbconvert_exporter": "python",
   "pygments_lexer": "ipython3",
   "version": "3.11.4"
  },
  "nbhosting": {
   "title": "React apps basics"
  },
  "rise": {
   "autolaunch": true,
   "slideNumber": "c/t",
   "start_slideshow_at": "selected",
   "theme": "sky",
   "transition": "cube"
  },
  "source_map": [
   23,
   27,
   31,
   46,
   59,
   62,
   66,
   74,
   85,
   96,
   102,
   113,
   119,
   125,
   136,
   142,
   148,
   154,
   160,
   164,
   168,
   178,
   187,
   191,
   203,
   208,
   212,
   216,
   230,
   237,
   241,
   253,
   257,
   261,
   273,
   277,
   286,
   290,
   302,
   304,
   308,
   317,
   324,
   331,
   338,
   345,
   349,
   359,
   367,
   371,
   383,
   396,
   400,
   408,
   415
  ]
 },
 "nbformat": 4,
 "nbformat_minor": 5
}