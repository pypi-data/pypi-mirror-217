{
 "cells": [
  {
   "cell_type": "code",
   "execution_count": 1,
   "id": "c80d2529",
   "metadata": {},
   "outputs": [],
   "source": [
    "# this is the required piece\n",
    "#%pip show jupyterlab-myst jupyterlab-jupytext jupyterlab-courselevels"
   ]
  },
  {
   "cell_type": "code",
   "execution_count": 2,
   "id": "b1c64dbe",
   "metadata": {
    "editable": true,
    "hide_input": true,
    "slideshow": {
     "slide_type": ""
    },
    "tags": [
     "hide-input"
    ]
   },
   "outputs": [
    {
     "name": "stdout",
     "output_type": "stream",
     "text": [
      "should show the output but not the code\n"
     ]
    }
   ],
   "source": [
    "# this text whould be hidden\n",
    "print(\"should show the output but not the code\")"
   ]
  },
  {
   "cell_type": "code",
   "execution_count": 3,
   "id": "342cf97d",
   "metadata": {
    "hide_input": true,
    "tags": [
     "hide-input"
    ]
   },
   "outputs": [
    {
     "name": "stdout",
     "output_type": "stream",
     "text": [
      "and another hide-input cell\n"
     ]
    }
   ],
   "source": [
    "print('and another hide-input cell')"
   ]
  },
  {
   "cell_type": "code",
   "execution_count": 4,
   "id": "6995b439",
   "metadata": {
    "editable": true,
    "slideshow": {
     "slide_type": ""
    },
    "tags": [
     "level_basic"
    ]
   },
   "outputs": [],
   "source": [
    "# a basic cell\n",
    "\n",
    "def fact(n):\n",
    "    if n <= 1:\n",
    "        return 1\n",
    "    else:\n",
    "        return n * fact(n-1)"
   ]
  },
  {
   "cell_type": "code",
   "execution_count": 5,
   "id": "ca68e69d",
   "metadata": {
    "editable": true,
    "slideshow": {
     "slide_type": ""
    },
    "tags": []
   },
   "outputs": [
    {
     "data": {
      "text/plain": [
       "3628800"
      ]
     },
     "execution_count": 5,
     "metadata": {},
     "output_type": "execute_result"
    }
   ],
   "source": [
    "fact(10)"
   ]
  },
  {
   "cell_type": "code",
   "execution_count": 6,
   "id": "8808895b",
   "metadata": {
    "editable": true,
    "slideshow": {
     "slide_type": ""
    },
    "tags": [
     "level_intermediate"
    ]
   },
   "outputs": [],
   "source": [
    "# an intermediate cell\n",
    "\n",
    "def fact(n):\n",
    "    return 1 if n <= 1 else n * fact(n-1)"
   ]
  },
  {
   "cell_type": "code",
   "execution_count": 7,
   "id": "7fff4276",
   "metadata": {
    "editable": true,
    "slideshow": {
     "slide_type": ""
    },
    "tags": []
   },
   "outputs": [
    {
     "data": {
      "text/plain": [
       "3628800"
      ]
     },
     "execution_count": 7,
     "metadata": {},
     "output_type": "execute_result"
    }
   ],
   "source": [
    "fact(10)"
   ]
  },
  {
   "cell_type": "code",
   "execution_count": 8,
   "id": "36367a40",
   "metadata": {
    "editable": true,
    "slideshow": {
     "slide_type": ""
    },
    "tags": [
     "level_advanced"
    ]
   },
   "outputs": [],
   "source": [
    "# an advanced cell\n",
    "\n",
    "from functools import reduce\n",
    "from operator import mul\n",
    "\n",
    "def fact(n):\n",
    "    return reduce(mul, range(1, n+1))"
   ]
  },
  {
   "cell_type": "code",
   "execution_count": 9,
   "id": "9eae6bda",
   "metadata": {
    "editable": true,
    "slideshow": {
     "slide_type": ""
    },
    "tags": []
   },
   "outputs": [
    {
     "data": {
      "text/plain": [
       "3628800"
      ]
     },
     "execution_count": 9,
     "metadata": {},
     "output_type": "execute_result"
    }
   ],
   "source": [
    "fact(10)"
   ]
  }
 ],
 "metadata": {
  "celltoolbar": "Edit Metadata",
  "jupytext": {
   "cell_metadata_filter": "all,-hidden,-heading_collapsed,-run_control,-trusted",
   "notebook_metadata_filter": "all,-language_info,-toc,-jupytext.text_representation.jupytext_version,-jupytext.text_representation.format_version",
   "text_representation": {
    "extension": ".md",
    "format_name": "myst"
   }
  },
  "kernelspec": {
   "display_name": "Python 3 (ipykernel)",
   "language": "python",
   "name": "python3"
  },
  "language_info": {
   "codemirror_mode": {
    "name": "ipython",
    "version": 3
   },
   "file_extension": ".py",
   "mimetype": "text/x-python",
   "name": "python",
   "nbconvert_exporter": "python",
   "pygments_lexer": "ipython3",
   "version": "3.11.4"
  },
  "nbhosting": {
   "title": "React apps basics"
  },
  "rise": {
   "autolaunch": true,
   "slideNumber": "c/t",
   "start_slideshow_at": "selected",
   "theme": "sky",
   "transition": "cube"
  },
  "source_map": [
   23,
   27,
   31,
   46,
   59,
   62,
   66,
   74,
   85,
   96,
   102,
   113,
   119,
   125,
   136,
   142,
   148,
   154,
   160,
   164,
   168,
   178,
   187,
   191,
   203,
   208,
   212,
   216,
   230,
   234,
   246,
   250,
   256,
   260,
   264,
   280,
   290,
   303,
   313,
   329,
   339,
   345,
   354,
   361,
   368,
   375,
   382,
   386,
   396,
   404,
   408,
   420,
   433,
   437,
   445,
   452
  ]
 },
 "nbformat": 4,
 "nbformat_minor": 5
}