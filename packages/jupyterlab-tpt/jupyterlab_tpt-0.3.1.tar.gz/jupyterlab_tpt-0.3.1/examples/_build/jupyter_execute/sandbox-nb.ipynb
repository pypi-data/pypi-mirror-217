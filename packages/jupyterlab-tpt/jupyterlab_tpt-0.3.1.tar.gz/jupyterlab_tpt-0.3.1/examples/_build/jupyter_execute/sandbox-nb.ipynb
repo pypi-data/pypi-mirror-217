{
 "cells": [
  {
   "cell_type": "markdown",
   "id": "7439449a",
   "metadata": {
    "slideshow": {
     "slide_type": "-"
    }
   },
   "source": [
    "Licence CC BY-NC-ND, Thierry Parmentelat"
   ]
  },
  {
   "cell_type": "markdown",
   "id": "1d9ee6a1",
   "metadata": {
    "tags": []
   },
   "source": [
    "# purpose"
   ]
  },
  {
   "cell_type": "markdown",
   "id": "d6535425",
   "metadata": {
    "tags": []
   },
   "source": [
    "````{attention} what\n",
    "summarize most of our notebook recipes, \n",
    "\n",
    "* regular admonitions\n",
    "* hide-input artefact (a code cell whose input code is hidden)\n",
    "* collapsible (texts where some part is toggable with a right or down arrow)\n",
    "  note that collapsible also applies to admonitions\n",
    "* course levels:\n",
    "  * using tags to specifiy a level among basic=green, intermediate=blue, advanced=red\n",
    "  * also the ability to put a frame around a cell\n",
    "* miscell usual tricks (link to a downloadable file, iframe with some static html, ...)\n",
    "````"
   ]
  },
  {
   "cell_type": "markdown",
   "id": "147c2530",
   "metadata": {
    "tags": []
   },
   "source": [
    "````{seealso} targets\n",
    "\n",
    "and check how that renders in the following contexts\n",
    "\n",
    "* jupyter book output, which is now our primary output medium\n",
    "* jlab4, with a cocktail of extensions, at least\n",
    "  * jupytext, myst, courselevels\n",
    "* notebook 7, which as of 2023 June is about to get released \n",
    "* there was also nbclassic, but it's getting deprecated so..\n",
    "````"
   ]
  },
  {
   "cell_type": "code",
   "execution_count": 1,
   "id": "b559b8bd",
   "metadata": {},
   "outputs": [],
   "source": [
    "# this is the required piece\n",
    "#%pip show jupyterlab-myst jupyterlab-jupytext jupyterlab-courselevels"
   ]
  },
  {
   "cell_type": "markdown",
   "id": "ae37eab0",
   "metadata": {},
   "source": [
    "## admonitions"
   ]
  },
  {
   "cell_type": "markdown",
   "id": "faafb2e6",
   "metadata": {},
   "source": [
    "```{attention}\n",
    "without the dropdown class\n",
    "this is a regular *admonition* with a custom title  \n",
    "any of the types below accept a superseded title\n",
    "```"
   ]
  },
  {
   "cell_type": "markdown",
   "id": "bd3ec9ce",
   "metadata": {},
   "source": [
    "````{tip} \n",
    "Let's give readers a helpful `tip` - this one uses quadruple ```` like this\n",
    "```\n",
    "    ````{tip}\n",
    "    a tip\n",
    "    ````\n",
    "```\n",
    "````"
   ]
  },
  {
   "cell_type": "markdown",
   "id": "fd3674c1",
   "metadata": {},
   "source": [
    "````{hint} my title\n",
    "this is a `hint` admonition with an overridden title\n",
    "```\n",
    "    ````{hint} my title\n",
    "    some text\n",
    "    ````\n",
    "```\n",
    "````"
   ]
  },
  {
   "cell_type": "markdown",
   "id": "321db2ab",
   "metadata": {},
   "source": [
    "````{seealso}\n",
    "let us try `seealso`\n",
    "````"
   ]
  },
  {
   "cell_type": "markdown",
   "id": "04b87089",
   "metadata": {},
   "source": [
    "````{note}\n",
    "this is a `note`\n",
    "```\n",
    ":::{note}\n",
    "this would work too\n",
    ":::\n",
    "```\n",
    "````"
   ]
  },
  {
   "cell_type": "markdown",
   "id": "68710856",
   "metadata": {},
   "source": [
    "````{important}\n",
    "let us try `important`\n",
    "````"
   ]
  },
  {
   "cell_type": "markdown",
   "id": "43fa354d",
   "metadata": {},
   "source": [
    "````{admonition} This requires an ad hoc title\n",
    "let us try `admonition`\n",
    "````"
   ]
  },
  {
   "cell_type": "markdown",
   "id": "31039bfc",
   "metadata": {},
   "source": [
    "````{attention} my title\n",
    "this is an `attention` admonition with an overridden title\n",
    "```\n",
    "    ````{attention} my title\n",
    "    some text\n",
    "    ````\n",
    "```\n",
    "````"
   ]
  },
  {
   "cell_type": "markdown",
   "id": "4da01dd1",
   "metadata": {},
   "source": [
    "````{caution}\n",
    "let us try `caution`\n",
    "````"
   ]
  },
  {
   "cell_type": "markdown",
   "id": "f3e4d372",
   "metadata": {},
   "source": [
    "````{warning}\n",
    "let us try `warning`\n",
    "````"
   ]
  },
  {
   "cell_type": "markdown",
   "id": "8452ae5f",
   "metadata": {},
   "source": [
    "````{danger}\n",
    "let us try `danger`\n",
    "````"
   ]
  },
  {
   "cell_type": "markdown",
   "id": "c19ea9d3",
   "metadata": {},
   "source": [
    "````{error}\n",
    "let us try `error`\n",
    "````"
   ]
  },
  {
   "cell_type": "markdown",
   "id": "d8e7e54f",
   "metadata": {},
   "source": [
    "## hide-input"
   ]
  },
  {
   "cell_type": "markdown",
   "id": "85f38646",
   "metadata": {
    "editable": true,
    "slideshow": {
     "slide_type": ""
    },
    "tags": []
   },
   "source": [
    "### code cells"
   ]
  },
  {
   "cell_type": "markdown",
   "id": "9ab6f073",
   "metadata": {
    "editable": true,
    "slideshow": {
     "slide_type": ""
    },
    "tags": []
   },
   "source": [
    "````{caution}\n",
    "the next code cell is marked as\n",
    "\n",
    "1. `metadata.tags` contains `hide-input`\n",
    "1. and also `metadata.hide_input=true`  \n",
    "  see below, this second setting is not useful unless you aim at nbclassic\n",
    "````"
   ]
  },
  {
   "cell_type": "markdown",
   "id": "8deb9d16",
   "metadata": {
    "editable": true,
    "slideshow": {
     "slide_type": ""
    },
    "tags": []
   },
   "source": [
    "````{note}\n",
    "* thanks to (1) the jb HTML output will come as a collapsible\n",
    "* thanks to the `jupyterlab-courselevels` extension, with (1) the code cell input should be hidden in jupyterlab (and hopefully nb7 as well)\n",
    "* because of (2) the cell input will not show under nbclassic  \n",
    "  this requires the jupyter contrib extensions installed, and the hide-input extension enabled\n",
    "````"
   ]
  },
  {
   "cell_type": "markdown",
   "id": "b3442df0",
   "metadata": {
    "editable": true,
    "slideshow": {
     "slide_type": ""
    },
    "tags": []
   },
   "source": [
    "↓↓↓↓↓↓↓↓↓↓↓↓↓↓↓↓↓↓↓↓↓↓↓↓ 2 hide-input cells below"
   ]
  },
  {
   "cell_type": "code",
   "execution_count": 2,
   "id": "4131fdfb",
   "metadata": {
    "editable": true,
    "hide_input": true,
    "slideshow": {
     "slide_type": ""
    },
    "tags": [
     "hide-input"
    ]
   },
   "outputs": [
    {
     "name": "stdout",
     "output_type": "stream",
     "text": [
      "should show the output but not the code\n"
     ]
    }
   ],
   "source": [
    "# this text whould be hidden\n",
    "print(\"should show the output but not the code\")"
   ]
  },
  {
   "cell_type": "markdown",
   "id": "a61c71db",
   "metadata": {},
   "source": [
    "something"
   ]
  },
  {
   "cell_type": "markdown",
   "id": "ebe0e181",
   "metadata": {},
   "source": [
    "```{caution}\n",
    "sdf\n",
    "```"
   ]
  },
  {
   "cell_type": "code",
   "execution_count": 3,
   "id": "b9563f5a",
   "metadata": {
    "hide_input": true,
    "tags": [
     "hide-input"
    ]
   },
   "outputs": [
    {
     "name": "stdout",
     "output_type": "stream",
     "text": [
      "and another hide-input cell\n"
     ]
    }
   ],
   "source": [
    "print('and another hide-input cell')"
   ]
  },
  {
   "cell_type": "markdown",
   "id": "fe799a55",
   "metadata": {},
   "source": [
    "↑↑↑↑↑↑↑↑↑↑↑↑↑↑↑↑↑↑↑↑↑↑↑↑ hide-input cells above"
   ]
  },
  {
   "cell_type": "markdown",
   "id": "d767454f",
   "metadata": {},
   "source": [
    "## collapsable"
   ]
  },
  {
   "cell_type": "markdown",
   "id": "2b21bebc",
   "metadata": {
    "editable": true,
    "slideshow": {
     "slide_type": ""
    },
    "tags": []
   },
   "source": [
    "here is an simple untagged admonition with the `dropdown` class:\n",
    "\n",
    "````{admonition} Click the button to reveal!\n",
    ":class: dropdown\n",
    "Some hidden collapsible content !\n",
    "```\n",
    "    ```{admonition} click me\n",
    "    :class: dropdown\n",
    "    the text to be hidden\n",
    "    ```\n",
    "````"
   ]
  },
  {
   "cell_type": "markdown",
   "id": "9761b587",
   "metadata": {
    "editable": true,
    "slideshow": {
     "slide_type": ""
    },
    "tags": []
   },
   "source": [
    "### using raw HTML"
   ]
  },
  {
   "cell_type": "markdown",
   "id": "849241b1",
   "metadata": {},
   "source": [
    "it should also be possible to do this using plain HTML with a `details` tag\n",
    "\n",
    "<details>\n",
    "<summary>the visible part</summary>\n",
    "\n",
    "and the rest of the message is just mentioned directly in the &lt;details&gt; tag\n",
    "</details>\n",
    "\n",
    "however apparently this requires extra configuration ?"
   ]
  },
  {
   "cell_type": "markdown",
   "id": "e6fea437",
   "metadata": {
    "editable": true,
    "slideshow": {
     "slide_type": ""
    },
    "tags": []
   },
   "source": [
    "## course levels"
   ]
  },
  {
   "cell_type": "markdown",
   "id": "d306c4df",
   "metadata": {
    "editable": true,
    "slideshow": {
     "slide_type": ""
    },
    "tags": []
   },
   "source": [
    "somthing we had in place before admonitions; 3 levels defined, + the framed cell business\n",
    "\n",
    "(in the mix, it comes with css support for the `hide-input` cell tag, tested above)"
   ]
  },
  {
   "cell_type": "markdown",
   "id": "fa2384a4",
   "metadata": {
    "editable": true,
    "slideshow": {
     "slide_type": ""
    },
    "tags": []
   },
   "source": [
    "### code"
   ]
  },
  {
   "cell_type": "markdown",
   "id": "60521f05",
   "metadata": {
    "editable": true,
    "slideshow": {
     "slide_type": ""
    },
    "tags": []
   },
   "source": [
    "code cells will work in both worlds (jlab + jbook)"
   ]
  },
  {
   "cell_type": "code",
   "execution_count": 4,
   "id": "a06bad95",
   "metadata": {
    "editable": true,
    "slideshow": {
     "slide_type": ""
    },
    "tags": [
     "level_basic"
    ]
   },
   "outputs": [],
   "source": [
    "# a basic cell\n",
    "\n",
    "def fact(n):\n",
    "    if n <= 1:\n",
    "        return 1\n",
    "    else:\n",
    "        return n * fact(n-1)"
   ]
  },
  {
   "cell_type": "code",
   "execution_count": 5,
   "id": "a2526744",
   "metadata": {
    "editable": true,
    "slideshow": {
     "slide_type": ""
    },
    "tags": []
   },
   "outputs": [
    {
     "data": {
      "text/plain": [
       "3628800"
      ]
     },
     "execution_count": 5,
     "metadata": {},
     "output_type": "execute_result"
    }
   ],
   "source": [
    "fact(10)"
   ]
  },
  {
   "cell_type": "code",
   "execution_count": 6,
   "id": "331e9d7e",
   "metadata": {
    "editable": true,
    "slideshow": {
     "slide_type": ""
    },
    "tags": [
     "level_intermediate"
    ]
   },
   "outputs": [],
   "source": [
    "# an intermediate cell\n",
    "\n",
    "def fact(n):\n",
    "    return 1 if n <= 1 else n * fact(n-1)"
   ]
  },
  {
   "cell_type": "code",
   "execution_count": 7,
   "id": "8b3bce42",
   "metadata": {
    "editable": true,
    "slideshow": {
     "slide_type": ""
    },
    "tags": []
   },
   "outputs": [
    {
     "data": {
      "text/plain": [
       "3628800"
      ]
     },
     "execution_count": 7,
     "metadata": {},
     "output_type": "execute_result"
    }
   ],
   "source": [
    "fact(10)"
   ]
  },
  {
   "cell_type": "code",
   "execution_count": 8,
   "id": "cb57b0b1",
   "metadata": {
    "editable": true,
    "slideshow": {
     "slide_type": ""
    },
    "tags": [
     "level_advanced"
    ]
   },
   "outputs": [],
   "source": [
    "# an advanced cell\n",
    "\n",
    "from functools import reduce\n",
    "from operator import mul\n",
    "\n",
    "def fact(n):\n",
    "    return reduce(mul, range(1, n+1))"
   ]
  },
  {
   "cell_type": "code",
   "execution_count": 9,
   "id": "e2823669",
   "metadata": {
    "editable": true,
    "slideshow": {
     "slide_type": ""
    },
    "tags": []
   },
   "outputs": [
    {
     "data": {
      "text/plain": [
       "3628800"
      ]
     },
     "execution_count": 9,
     "metadata": {},
     "output_type": "execute_result"
    }
   ],
   "source": [
    "fact(10)"
   ]
  },
  {
   "cell_type": "markdown",
   "id": "e60ca594",
   "metadata": {
    "editable": true,
    "slideshow": {
     "slide_type": ""
    },
    "tags": []
   },
   "source": [
    "### text\n",
    "\n",
    "unfortunately text cells is another matter entirely, as when producing markdown (intermediary step in jbook to produce html) the cell structure gets lost entirely\n",
    "\n",
    "<https://github.com/orgs/executablebooks/discussions/1033#discussioncomment-6198957>"
   ]
  },
  {
   "cell_type": "markdown",
   "id": "e8b9ac83",
   "metadata": {
    "editable": true,
    "slideshow": {
     "slide_type": ""
    },
    "tags": [
     "framed_cell"
    ]
   },
   "source": [
    "#### let's start with a framed cell\n",
    "\n",
    "Lorem Ipsum is simply dummy text of the printing and typesetting industry. Lorem Ipsum has been the industry's standard dummy text ever since the 1500s, when an unknown printer took a galley of type and scrambled it to make a type specimen book. It has survived not only five centuries, but also the leap into electronic typesetting, remaining essentially unchanged. It was popularised in the 1960s with the release of Letraset sheets containing Lorem Ipsum passages, and more recently with desktop publishing software like Aldus PageMaker including versions of Lorem Ipsum.\n",
    "\n",
    "Where does it come from?\n",
    "Contrary to popular belief, Lorem Ipsum is not simply random text. It has roots in a piece of classical Latin literature from 45 BC, making it over 2000 years old. Richard McClintock, a Latin professor at Hampden-Sydney College in Virginia, looked up one of the more obscure Latin words, consectetur, from a Lorem Ipsum passage, and going through the cites of the word in classical literature, discovered the undoubtable source. Lorem Ipsum comes from sections 1.10.32 and 1.10.33 of \"de Finibus Bonorum et Malorum\" (The Extremes of Good and Evil) by Cicero, written in 45 BC. This book is a treatise on the theory of ethics, very popular during the Renaissance. The first line of Lorem Ipsum, \"Lorem ipsum dolor sit amet..\", comes from a line in section 1.10.32."
   ]
  },
  {
   "cell_type": "markdown",
   "id": "1dba35b5",
   "metadata": {
    "editable": true,
    "slideshow": {
     "slide_type": ""
    },
    "tags": [
     "level_basic"
    ]
   },
   "source": [
    "#### basic text (^X)\n",
    "\n",
    "Where does it come from?\n",
    "Contrary to popular belief, Lorem Ipsum is not simply random text. It has roots in a piece of classical Latin literature from 45 BC, making it over 2000 years old. Richard McClintock, a Latin professor at Hampden-Sydney College in Virginia, looked up one of the more obscure Latin words, consectetur, from a Lorem Ipsum passage, and going through the cites of the word in classical literature, discovered the undoubtable source. Lorem Ipsum comes from sections 1.10.32 and 1.10.33 of \"de Finibus Bonorum et Malorum\" (The Extremes of Good and Evil) by Cicero, written in 45 BC. This book is a treatise on the theory of ethics, very popular during the Renaissance. The first line of Lorem Ipsum, \"Lorem ipsum dolor sit amet..\", comes from a line in section 1.10.32."
   ]
  },
  {
   "cell_type": "markdown",
   "id": "cbd22feb",
   "metadata": {
    "tags": [
     "level_intermediate"
    ]
   },
   "source": [
    "#### intermediate text (^Y)\n",
    "\n",
    "Where does it come from?\n",
    "Contrary to popular belief, Lorem Ipsum is not simply random text. It has roots in a piece of classical Latin literature from 45 BC, making it over 2000 years old. Richard McClintock, a Latin professor at Hampden-Sydney College in Virginia, looked up one of the more obscure Latin words, consectetur, from a Lorem Ipsum passage, and going through the cites of the word in classical literature, discovered the undoubtable source. Lorem Ipsum comes from sections 1.10.32 and 1.10.33 of \"de Finibus Bonorum et Malorum\" (The Extremes of Good and Evil) by Cicero, written in 45 BC. This book is a treatise on the theory of ethics, very popular during the Renaissance. The first line of Lorem Ipsum, \"Lorem ipsum dolor sit amet..\", comes from a line in section 1.10.32."
   ]
  },
  {
   "cell_type": "markdown",
   "id": "e6d5334b",
   "metadata": {
    "tags": [
     "level_advanced"
    ]
   },
   "source": [
    "#### advanced text (^Z)\n",
    "\n",
    "Where does it come from?\n",
    "Contrary to popular belief, Lorem Ipsum is not simply random text. It has roots in a piece of classical Latin literature from 45 BC, making it over 2000 years old. Richard McClintock, a Latin professor at Hampden-Sydney College in Virginia, looked up one of the more obscure Latin words, consectetur, from a Lorem Ipsum passage, and going through the cites of the word in classical literature, discovered the undoubtable source. Lorem Ipsum comes from sections 1.10.32 and 1.10.33 of \"de Finibus Bonorum et Malorum\" (The Extremes of Good and Evil) by Cicero, written in 45 BC. This book is a treatise on the theory of ethics, very popular during the Renaissance. The first line of Lorem Ipsum, \"Lorem ipsum dolor sit amet..\", comes from a line in section 1.10.32."
   ]
  },
  {
   "cell_type": "markdown",
   "id": "3d7b6fcc",
   "metadata": {
    "tags": [
     "level_intermediate",
     "framed_cell"
    ]
   },
   "source": [
    "#### framed and colored (^M)\n",
    "\n",
    "Where does it come from?\n",
    "Contrary to popular belief, Lorem Ipsum is not simply random text. It has roots in a piece of classical Latin literature from 45 BC, making it over 2000 years old. Richard McClintock, a Latin professor at Hampden-Sydney College in Virginia, looked up one of the more obscure Latin words, consectetur, from a Lorem Ipsum passage, and going through the cites of the word in classical literature, discovered the undoubtable source. Lorem Ipsum comes from sections 1.10.32 and 1.10.33 of \"de Finibus Bonorum et Malorum\" (The Extremes of Good and Evil) by Cicero, written in 45 BC. This book is a treatise on the theory of ethics, very popular during the Renaissance. The first line of Lorem Ipsum, \"Lorem ipsum dolor sit amet..\", comes from a line in section 1.10.32."
   ]
  },
  {
   "cell_type": "markdown",
   "id": "21a29477",
   "metadata": {},
   "source": [
    "## miscell"
   ]
  },
  {
   "cell_type": "markdown",
   "id": "6fe86ad0",
   "metadata": {},
   "source": [
    "### dollarmath\n",
    "\n",
    "same for latex-math inline $\\forall x\\in \\mathbb{C}$ like this, or double-dollars like that\n",
    "\n",
    "$$\n",
    "\\forall x\\in \\mathbb{C}\n",
    "$$"
   ]
  },
  {
   "cell_type": "markdown",
   "id": "7a8c6d3f",
   "metadata": {},
   "source": [
    "### strikethrough\n",
    "\n",
    "this requires an extra config step ~~so that one can see text in strikethrough mode~~\n",
    "\n",
    "not yet working with jupyterlab(-myst)"
   ]
  },
  {
   "cell_type": "markdown",
   "id": "11464c89",
   "metadata": {},
   "source": [
    "### download links"
   ]
  },
  {
   "cell_type": "markdown",
   "id": "8355013a",
   "metadata": {
    "tags": []
   },
   "source": [
    "#### MyST download role\n",
    "\n",
    "mostly we use this to create a link to download an exercise as a zip\n",
    "\n",
    "```{error} BEWARE\n",
    "this works in the jupyter book output only at this point\n",
    "```\n",
    "\n",
    " {download}`commencez par télécharger le zip<./downloadable.zip>`"
   ]
  },
  {
   "cell_type": "markdown",
   "id": "6bce3d50",
   "metadata": {},
   "source": [
    "#### regular html link\n",
    "\n",
    "instead we could try and use a regular `<a>` tag; \n",
    "it remains to check however if that is going to play well with jupyter-book though\n",
    "\n",
    "\n",
    "avec la construction standard markdown pour les liens `[]()`: [commencez par télécharger le zip](./dowloadable.zip)\n",
    "\n",
    "---\n",
    "le tag html `<a>` marche vraiment très mal: <a href=\"./downloadable.zip\">commencez par télécharger le zip</a>"
   ]
  },
  {
   "cell_type": "markdown",
   "id": "f51453c2",
   "metadata": {},
   "source": [
    "### iframe"
   ]
  },
  {
   "cell_type": "markdown",
   "id": "4bea43d7",
   "metadata": {},
   "source": [
    "#### html tag\n",
    "\n",
    "not working in jlab, and works in jupyter book only if the target is in `_static`\n",
    "\n",
    "<iframe src=\"_static/addresses-final.html\" width=\"100%\" height=\"600px\">"
   ]
  },
  {
   "cell_type": "code",
   "execution_count": 10,
   "id": "be6b30f3",
   "metadata": {},
   "outputs": [],
   "source": [
    "### matplotlib"
   ]
  },
  {
   "cell_type": "code",
   "execution_count": 11,
   "id": "b1c58853",
   "metadata": {},
   "outputs": [],
   "source": [
    "import numpy as np\n",
    "\n",
    "X = np.linspace(-10, 10)\n",
    "Y = X ** 2"
   ]
  },
  {
   "cell_type": "code",
   "execution_count": 12,
   "id": "de591cd0",
   "metadata": {},
   "outputs": [],
   "source": [
    "import matplotlib.pyplot as plt\n",
    "#%matplotlib notebook\n",
    "#%matplotlib widget\n",
    "%matplotlib ipympl"
   ]
  },
  {
   "cell_type": "code",
   "execution_count": 13,
   "id": "4257929a",
   "metadata": {},
   "outputs": [
    {
     "data": {
      "application/vnd.jupyter.widget-view+json": {
       "model_id": "13bdf3389c1545fd8e51fb01b67f4f3e",
       "version_major": 2,
       "version_minor": 0
      },
      "image/png": "[encoded data removed]",
      "text/html": [
       "\n",
       "            <div style=\"display: inline-block;\">\n",
       "                <div class=\"jupyter-widgets widget-label\" style=\"text-align: center;\">\n",
       "                    Figure\n",
       "                </div>\n",
       "                <img src='data:image/png;base64,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' width=640.0/>\n",
       "            </div>\n",
       "        "
      ],
      "text/plain": [
       "Canvas(toolbar=Toolbar(toolitems=[('Home', 'Reset original view', 'home', 'home'), ('Back', 'Back to previous …"
      ]
     },
     "metadata": {},
     "output_type": "display_data"
    }
   ],
   "source": [
    "plt.figure()\n",
    "plt.plot(X, Y);"
   ]
  },
  {
   "cell_type": "markdown",
   "id": "1af23d4a",
   "metadata": {
    "tags": [
     "framed_cell"
    ]
   },
   "source": [
    "## references\n",
    "\n",
    "* jbook: <https://jupyterbook.org/en/stable/interactive/hiding.html>\n",
    "* myst: <https://myst-tools.org/docs/spec/admonitions>"
   ]
  },
  {
   "cell_type": "markdown",
   "id": "ce514ab9",
   "metadata": {
    "tags": []
   },
   "source": [
    "***"
   ]
  }
 ],
 "metadata": {
  "celltoolbar": "Edit Metadata",
  "jupytext": {
   "cell_metadata_filter": "all,-hidden,-heading_collapsed,-run_control,-trusted",
   "notebook_metadata_filter": "all,-language_info,-toc,-jupytext.text_representation.jupytext_version,-jupytext.text_representation.format_version",
   "text_representation": {
    "extension": ".md",
    "format_name": "myst"
   }
  },
  "kernelspec": {
   "display_name": "Python 3 (ipykernel)",
   "language": "python",
   "name": "python3"
  },
  "language_info": {
   "codemirror_mode": {
    "name": "ipython",
    "version": 3
   },
   "file_extension": ".py",
   "mimetype": "text/x-python",
   "name": "python",
   "nbconvert_exporter": "python",
   "pygments_lexer": "ipython3",
   "version": "3.11.4"
  },
  "nbhosting": {
   "title": "React apps basics"
  },
  "rise": {
   "autolaunch": true,
   "slideNumber": "c/t",
   "start_slideshow_at": "selected",
   "theme": "sky",
   "transition": "cube"
  },
  "source_map": [
   23,
   31,
   35,
   50,
   63,
   66,
   70,
   78,
   89,
   100,
   106,
   117,
   123,
   129,
   140,
   146,
   152,
   158,
   164,
   168,
   172,
   182,
   191,
   195,
   205,
   209,
   215,
   220,
   224,
   228,
   242,
   246,
   258,
   262,
   268,
   272,
   276,
   292,
   302,
   315,
   325,
   341,
   351,
   359,
   368,
   375,
   382,
   389,
   396,
   400,
   410,
   418,
   422,
   434,
   447,
   451,
   459,
   463,
   470,
   477,
   482,
   489
  ],
  "widgets": {
   "application/vnd.jupyter.widget-state+json": {
    "state": {
     "088ece6236054f0f8cc1d40ab5cf2cb8": {
      "model_module": "@jupyter-widgets/base",
      "model_module_version": "2.0.0",
      "model_name": "LayoutModel",
      "state": {
       "_model_module": "@jupyter-widgets/base",
       "_model_module_version": "2.0.0",
       "_model_name": "LayoutModel",
       "_view_count": null,
       "_view_module": "@jupyter-widgets/base",
       "_view_module_version": "2.0.0",
       "_view_name": "LayoutView",
       "align_content": null,
       "align_items": null,
       "align_self": null,
       "border_bottom": null,
       "border_left": null,
       "border_right": null,
       "border_top": null,
       "bottom": null,
       "display": null,
       "flex": null,
       "flex_flow": null,
       "grid_area": null,
       "grid_auto_columns": null,
       "grid_auto_flow": null,
       "grid_auto_rows": null,
       "grid_column": null,
       "grid_gap": null,
       "grid_row": null,
       "grid_template_areas": null,
       "grid_template_columns": null,
       "grid_template_rows": null,
       "height": null,
       "justify_content": null,
       "justify_items": null,
       "left": null,
       "margin": null,
       "max_height": null,
       "max_width": null,
       "min_height": null,
       "min_width": null,
       "object_fit": null,
       "object_position": null,
       "order": null,
       "overflow": null,
       "padding": null,
       "right": null,
       "top": null,
       "visibility": null,
       "width": null
      }
     },
     "13bdf3389c1545fd8e51fb01b67f4f3e": {
      "model_module": "jupyter-matplotlib",
      "model_module_version": "^0.11",
      "model_name": "MPLCanvasModel",
      "state": {
       "_cursor": "pointer",
       "_data_url": "data:image/png;base64,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",
       "_dom_classes": [],
       "_figure_label": "Figure",
       "_image_mode": "full",
       "_message": "",
       "_model_module": "jupyter-matplotlib",
       "_model_module_version": "^0.11",
       "_model_name": "MPLCanvasModel",
       "_rubberband_height": 0,
       "_rubberband_width": 0,
       "_rubberband_x": 0,
       "_rubberband_y": 0,
       "_size": [
        640.0,
        480.0
       ],
       "_view_count": null,
       "_view_module": "jupyter-matplotlib",
       "_view_module_version": "^0.11",
       "_view_name": "MPLCanvasView",
       "capture_scroll": false,
       "footer_visible": true,
       "header_visible": true,
       "layout": "IPY_MODEL_088ece6236054f0f8cc1d40ab5cf2cb8",
       "pan_zoom_throttle": 33.0,
       "resizable": true,
       "tabbable": null,
       "toolbar": "IPY_MODEL_8d993b45a537496b8ab637741233fe7b",
       "toolbar_position": "left",
       "toolbar_visible": "fade-in-fade-out",
       "tooltip": null
      }
     },
     "8d993b45a537496b8ab637741233fe7b": {
      "model_module": "jupyter-matplotlib",
      "model_module_version": "^0.11",
      "model_name": "ToolbarModel",
      "state": {
       "_current_action": "",
       "_dom_classes": [],
       "_model_module": "jupyter-matplotlib",
       "_model_module_version": "^0.11",
       "_model_name": "ToolbarModel",
       "_view_count": null,
       "_view_module": "jupyter-matplotlib",
       "_view_module_version": "^0.11",
       "_view_name": "ToolbarView",
       "button_style": "",
       "collapsed": true,
       "layout": "IPY_MODEL_991f0ab634ad4f6c9b05a88646ce6e1c",
       "orientation": "vertical",
       "tabbable": null,
       "toolitems": [
        [
         "Home",
         "Reset original view",
         "home",
         "home"
        ],
        [
         "Back",
         "Back to previous view",
         "arrow-left",
         "back"
        ],
        [
         "Forward",
         "Forward to next view",
         "arrow-right",
         "forward"
        ],
        [
         "Pan",
         "Left button pans, Right button zooms\nx/y fixes axis, CTRL fixes aspect",
         "arrows",
         "pan"
        ],
        [
         "Zoom",
         "Zoom to rectangle\nx/y fixes axis",
         "square-o",
         "zoom"
        ],
        [
         "Download",
         "Download plot",
         "floppy-o",
         "save_figure"
        ]
       ],
       "tooltip": null
      }
     },
     "991f0ab634ad4f6c9b05a88646ce6e1c": {
      "model_module": "@jupyter-widgets/base",
      "model_module_version": "2.0.0",
      "model_name": "LayoutModel",
      "state": {
       "_model_module": "@jupyter-widgets/base",
       "_model_module_version": "2.0.0",
       "_model_name": "LayoutModel",
       "_view_count": null,
       "_view_module": "@jupyter-widgets/base",
       "_view_module_version": "2.0.0",
       "_view_name": "LayoutView",
       "align_content": null,
       "align_items": null,
       "align_self": null,
       "border_bottom": null,
       "border_left": null,
       "border_right": null,
       "border_top": null,
       "bottom": null,
       "display": null,
       "flex": null,
       "flex_flow": null,
       "grid_area": null,
       "grid_auto_columns": null,
       "grid_auto_flow": null,
       "grid_auto_rows": null,
       "grid_column": null,
       "grid_gap": null,
       "grid_row": null,
       "grid_template_areas": null,
       "grid_template_columns": null,
       "grid_template_rows": null,
       "height": null,
       "justify_content": null,
       "justify_items": null,
       "left": null,
       "margin": null,
       "max_height": null,
       "max_width": null,
       "min_height": null,
       "min_width": null,
       "object_fit": null,
       "object_position": null,
       "order": null,
       "overflow": null,
       "padding": null,
       "right": null,
       "top": null,
       "visibility": null,
       "width": null
      }
     }
    },
    "version_major": 2,
    "version_minor": 0
   }
  }
 },
 "nbformat": 4,
 "nbformat_minor": 5
}