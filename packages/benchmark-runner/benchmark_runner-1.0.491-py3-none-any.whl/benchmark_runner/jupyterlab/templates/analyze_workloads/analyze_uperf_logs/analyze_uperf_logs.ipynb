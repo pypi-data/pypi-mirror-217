{
 "cells": [
  {
   "cell_type": "markdown",
   "id": "e2a8ed22-4615-4073-963d-9e18d591b375",
   "metadata": {
    "tags": []
   },
   "source": [
    "# Analyze Uperf Logs"
   ]
  },
  {
   "cell_type": "raw",
   "id": "550b3a69-e36b-4dfe-8ffb-c8de74701146",
   "metadata": {
    "tags": []
   },
   "source": [
    "This notebook performs the following tasks:\n",
    "\n",
    "1. Downloads vdbench logs from an S3 bucket.\n",
    "2. Display the results in Bokeh Graph.\n",
    "\n",
    "Please paste the S3_LOGS_URL in the designated field and click the '>>' button to proceed."
   ]
  },
  {
   "cell_type": "code",
   "execution_count": null,
   "id": "7487323b-5b4b-4606-b6fe-7f614609c699",
   "metadata": {
    "tags": []
   },
   "outputs": [],
   "source": [
    "S3_LOGS_URL = ''"
   ]
  },
  {
   "cell_type": "markdown",
   "id": "8008cf50-d0cd-486d-afc3-e9c5fe43433b",
   "metadata": {
    "tags": []
   },
   "source": [
    "# Prerequsite"
   ]
  },
  {
   "cell_type": "code",
   "execution_count": null,
   "id": "55c36e8c-8eb5-4b1d-b699-aecb5bcfbfc8",
   "metadata": {
    "tags": []
   },
   "outputs": [],
   "source": [
    "\n",
    "# SET log level\n",
    "# logging\n",
    "import logging\n",
    "logger = logging.getLogger()\n",
    "logger.setLevel(logging.WARN)\n",
    "logging.info(\"Prerequisite\")\n",
    "\n",
    "# extract credentials\n",
    "import configparser\n",
    "config = configparser.ConfigParser()\n",
    "config.read('logs.conf')\n",
    "username = config.get(\"data\", 'user') \n",
    "password = config.get(\"data\", 'password')\n",
    "\n",
    "\n",
    "# Update fedora\n",
    "!dnf update -y\n",
    "\n",
    "# Logs operations\n",
    "from benchmark_runner.jupyterlab.templates.logs_operations.logs_operations import LogsOperations\n",
    "logs_operations = LogsOperations(s3_logs_url=S3_LOGS_URL)\n",
    "# Logs cleanup\n",
    "logs_operations.cleanup()\n",
    "\n",
    "from benchmark_runner.jupyterlab.templates.analyze_workloads.analyze_uperf_logs.analyze_uperf_logs import AnalyzeUperfLogs\n",
    "analyze_uperf_logs = AnalyzeUperfLogs(s3_logs_url=S3_LOGS_URL)"
   ]
  },
  {
   "cell_type": "markdown",
   "id": "7990b566-7ca2-4d87-8b3b-f8c5d5cf7f69",
   "metadata": {
    "tags": []
   },
   "source": [
    "## Download S3 logs"
   ]
  },
  {
   "cell_type": "code",
   "execution_count": null,
   "id": "7779d25a-e20c-4411-8c1c-e329812a3475",
   "metadata": {
    "tags": []
   },
   "outputs": [],
   "source": [
    "logs_operations.download_s3_logs(username=username, password=password)"
   ]
  },
  {
   "cell_type": "markdown",
   "id": "8e9613e9-b7b8-4f76-b85a-4aa19240a3ae",
   "metadata": {
    "tags": []
   },
   "source": [
    "## Untar logs & chmod "
   ]
  },
  {
   "cell_type": "code",
   "execution_count": null,
   "id": "d0256f41-607f-4b0c-ba82-14ce0108bee3",
   "metadata": {
    "tags": []
   },
   "outputs": [],
   "source": [
    "logs_operations.untar_and_chmod_logs()"
   ]
  },
  {
   "cell_type": "markdown",
   "id": "2cd2016e-0403-47dd-8773-c8577dacbceb",
   "metadata": {
    "tags": []
   },
   "source": [
    "# Get Uperf log file"
   ]
  },
  {
   "cell_type": "code",
   "execution_count": null,
   "id": "e15c2f5d-43da-4ac4-83b7-7153f29c384f",
   "metadata": {
    "tags": []
   },
   "outputs": [],
   "source": [
    "workload_log_file = analyze_uperf_logs.get_uperf_log_file()"
   ]
  },
  {
   "cell_type": "markdown",
   "id": "18a8187d-8f40-4f00-98b3-a2347fc9e07f",
   "metadata": {
    "tags": []
   },
   "source": [
    "# Extract Uperf result"
   ]
  },
  {
   "cell_type": "code",
   "execution_count": null,
   "id": "ad2dcb2d-dd0e-4d70-a694-536ccf422a42",
   "metadata": {
    "tags": []
   },
   "outputs": [],
   "source": [
    "uperf_result = analyze_uperf_logs.extract_uperf_result(workload_log_file=workload_log_file)"
   ]
  },
  {
   "cell_type": "markdown",
   "id": "9fb6fd77-8df7-4836-a5fc-b70b63656a3d",
   "metadata": {},
   "source": [
    "# Display Uperf result"
   ]
  },
  {
   "cell_type": "code",
   "execution_count": null,
   "id": "6aa80706-5c0c-4947-9f1c-25b248d36fa7",
   "metadata": {
    "tags": []
   },
   "outputs": [],
   "source": [
    "analyze_uperf_logs.display_uperf_result(uperf_result=uperf_result, workload_log_file=workload_log_file)"
   ]
  },
  {
   "cell_type": "code",
   "execution_count": null,
   "id": "54e68a40-645c-48da-a78d-86fc8d37364b",
   "metadata": {},
   "outputs": [],
   "source": []
  }
 ],
 "metadata": {
  "kernelspec": {
   "display_name": "Python 3 (ipykernel)",
   "language": "python",
   "name": "python3"
  },
  "language_info": {
   "codemirror_mode": {
    "name": "ipython",
    "version": 3
   },
   "file_extension": ".py",
   "mimetype": "text/x-python",
   "name": "python",
   "nbconvert_exporter": "python",
   "pygments_lexer": "ipython3",
   "version": "3.11.3"
  }
 },
 "nbformat": 4,
 "nbformat_minor": 5
}
