{
 "cells": [
  {
   "cell_type": "markdown",
   "id": "4715223f-1dfe-4a92-a3f1-a744785573f4",
   "metadata": {
    "tags": []
   },
   "source": [
    "# Analyze Vdbench Logs"
   ]
  },
  {
   "cell_type": "raw",
   "id": "550b3a69-e36b-4dfe-8ffb-c8de74701146",
   "metadata": {
    "tags": []
   },
   "source": [
    "This notebook performs the following tasks:\n",
    "\n",
    "1. Downloads vdbench logs from an S3 bucket.\n",
    "2. Display the results in Bokeh Graph.\n",
    "\n",
    "Please paste the S3_LOGS_URL in the designated field and click the '>>' button to proceed."
   ]
  },
  {
   "cell_type": "code",
   "execution_count": null,
   "id": "7487323b-5b4b-4606-b6fe-7f614609c699",
   "metadata": {
    "tags": []
   },
   "outputs": [],
   "source": [
    "S3_LOGS_URL = ''"
   ]
  },
  {
   "cell_type": "markdown",
   "id": "8008cf50-d0cd-486d-afc3-e9c5fe43433b",
   "metadata": {
    "tags": []
   },
   "source": [
    "# Prerequsite"
   ]
  },
  {
   "cell_type": "code",
   "execution_count": null,
   "id": "55c36e8c-8eb5-4b1d-b699-aecb5bcfbfc8",
   "metadata": {
    "tags": []
   },
   "outputs": [],
   "source": [
    "\n",
    "# SET log level\n",
    "# logging\n",
    "import logging\n",
    "logger = logging.getLogger()\n",
    "logger.setLevel(logging.WARN)\n",
    "logging.info(\"Prerequisite\")\n",
    "\n",
    "# extract credentials\n",
    "import configparser\n",
    "config = configparser.ConfigParser()\n",
    "config.read('logs.conf')\n",
    "username = config.get(\"data\", 'user') \n",
    "password = config.get(\"data\", 'password')\n",
    "\n",
    "\n",
    "# Update fedora\n",
    "!dnf update -y\n",
    "\n",
    "# Logs operations\n",
    "from benchmark_runner.jupyterlab.templates.logs_operations.logs_operations import LogsOperations\n",
    "logs_operations = LogsOperations(s3_logs_url=S3_LOGS_URL)\n",
    "# Logs cleanup\n",
    "logs_operations.cleanup()\n",
    "\n",
    "from benchmark_runner.jupyterlab.templates.analyze_workloads.analyze_vdbench_logs.analyze_vdbench_logs import AnalyzeVdbenchLogs\n",
    "analyze_vdbench_logs = AnalyzeVdbenchLogs(s3_logs_url=S3_LOGS_URL)"
   ]
  },
  {
   "cell_type": "markdown",
   "id": "7990b566-7ca2-4d87-8b3b-f8c5d5cf7f69",
   "metadata": {
    "tags": []
   },
   "source": [
    "## Download S3 logs"
   ]
  },
  {
   "cell_type": "code",
   "execution_count": null,
   "id": "7779d25a-e20c-4411-8c1c-e329812a3475",
   "metadata": {
    "tags": []
   },
   "outputs": [],
   "source": [
    "logs_operations.download_s3_logs(username=username, password=password)"
   ]
  },
  {
   "cell_type": "markdown",
   "id": "8e9613e9-b7b8-4f76-b85a-4aa19240a3ae",
   "metadata": {
    "tags": []
   },
   "source": [
    "## Untar logs & chmod "
   ]
  },
  {
   "cell_type": "code",
   "execution_count": null,
   "id": "d0256f41-607f-4b0c-ba82-14ce0108bee3",
   "metadata": {
    "tags": []
   },
   "outputs": [],
   "source": [
    "logs_operations.untar_and_chmod_logs()"
   ]
  },
  {
   "cell_type": "markdown",
   "id": "c4a82a6e-0b5d-41d6-aae5-c2de10b36cc9",
   "metadata": {
    "tags": []
   },
   "source": [
    "# Get vdbench log files"
   ]
  },
  {
   "cell_type": "code",
   "execution_count": null,
   "id": "0894ce21-60ef-4314-a128-7c8bda760118",
   "metadata": {
    "tags": []
   },
   "outputs": [],
   "source": [
    "csv_log_files = analyze_vdbench_logs.get_vdbench_csv_log_files()"
   ]
  },
  {
   "cell_type": "markdown",
   "id": "993ae33e-1c61-48c1-b46a-cbc5ab9a7aa0",
   "metadata": {},
   "source": [
    "# Display Dataframe"
   ]
  },
  {
   "cell_type": "code",
   "execution_count": null,
   "id": "838c58b1-9099-4e77-834a-0dea6a601e4d",
   "metadata": {
    "tags": []
   },
   "outputs": [],
   "source": [
    "analyze_vdbench_logs.display_df()"
   ]
  },
  {
   "cell_type": "markdown",
   "id": "61d8fd3f-68f6-4fef-a3e6-a99fb485a521",
   "metadata": {
    "tags": []
   },
   "source": [
    "## Vdbench latency (sec)"
   ]
  },
  {
   "cell_type": "code",
   "execution_count": null,
   "id": "44e91065-e379-420e-a631-cacb25e09f43",
   "metadata": {
    "tags": []
   },
   "outputs": [],
   "source": [
    "analyze_vdbench_logs.display_latency_horizontal()"
   ]
  },
  {
   "cell_type": "markdown",
   "id": "3731693b-119e-42db-a0a2-3b8b5d11c700",
   "metadata": {},
   "source": [
    "## Vdbench IOPS"
   ]
  },
  {
   "cell_type": "code",
   "execution_count": null,
   "id": "0f535a85-a4eb-4036-a3a0-d0b28466054d",
   "metadata": {},
   "outputs": [],
   "source": [
    "analyze_vdbench_logs.display_iops_horizontal()"
   ]
  },
  {
   "cell_type": "code",
   "execution_count": null,
   "id": "42dc20d2-3e43-4676-84e7-4feec8c580df",
   "metadata": {},
   "outputs": [],
   "source": []
  },
  {
   "cell_type": "code",
   "execution_count": null,
   "id": "68a58b9c-3f1e-4d33-9694-d265d85be1f2",
   "metadata": {},
   "outputs": [],
   "source": []
  },
  {
   "cell_type": "code",
   "execution_count": null,
   "id": "8a356805-eefe-4c05-877f-daf1d5f9899b",
   "metadata": {},
   "outputs": [],
   "source": []
  }
 ],
 "metadata": {
  "kernelspec": {
   "display_name": "Python 3 (ipykernel)",
   "language": "python",
   "name": "python3"
  },
  "language_info": {
   "codemirror_mode": {
    "name": "ipython",
    "version": 3
   },
   "file_extension": ".py",
   "mimetype": "text/x-python",
   "name": "python",
   "nbconvert_exporter": "python",
   "pygments_lexer": "ipython3",
   "version": "3.11.3"
  }
 },
 "nbformat": 4,
 "nbformat_minor": 5
}
