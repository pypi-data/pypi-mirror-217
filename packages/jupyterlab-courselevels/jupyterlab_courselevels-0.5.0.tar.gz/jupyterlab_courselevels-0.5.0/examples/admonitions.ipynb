{
 "cells": [
  {
   "cell_type": "markdown",
   "id": "fcf0d860",
   "metadata": {
    "slideshow": {
     "slide_type": "-"
    },
    "tags": [
     "licence"
    ],
    "user_expressions": []
   },
   "source": [
    "Licence CC BY-NC-ND, Thierry Parmentelat"
   ]
  },
  {
   "cell_type": "markdown",
   "id": "585cf0fc",
   "metadata": {
    "user_expressions": []
   },
   "source": [
    "# admonitions"
   ]
  },
  {
   "cell_type": "code",
   "execution_count": 1,
   "id": "eab22b8e",
   "metadata": {},
   "outputs": [
    {
     "name": "stdout",
     "output_type": "stream",
     "text": [
      "\u001b[33mWARNING: Package(s) not found: jupyterlab-myst\u001b[0m\u001b[33m\n",
      "\u001b[0mNote: you may need to restart the kernel to use updated packages.\n"
     ]
    }
   ],
   "source": [
    "# this is the required piece\n",
    "# it is not yet available under jupyterlab4 though\n",
    "\n",
    "%pip show jupyterlab-myst"
   ]
  },
  {
   "cell_type": "markdown",
   "id": "0acbbb19-e0be-4b85-beda-9cf056cc0133",
   "metadata": {
    "tags": [
     "framed_cell"
    ]
   },
   "source": [
    "## known types"
   ]
  },
  {
   "cell_type": "markdown",
   "id": "7d182a69",
   "metadata": {
    "user_expressions": []
   },
   "source": [
    "```{tip} \n",
    "1/10 tip Let's give readers a helpful hint! - this one uses ```\n",
    "```"
   ]
  },
  {
   "cell_type": "markdown",
   "id": "6eac522e",
   "metadata": {
    "user_expressions": []
   },
   "source": [
    "```{note}\n",
    "2/10 note: you can use either ``` or :::\n",
    "```"
   ]
  },
  {
   "cell_type": "markdown",
   "id": "3b5e4901",
   "metadata": {
    "user_expressions": []
   },
   "source": [
    "```{attention}\n",
    "3/10 attention let us try this\n",
    "```"
   ]
  },
  {
   "cell_type": "markdown",
   "id": "161ebb84",
   "metadata": {
    "user_expressions": []
   },
   "source": [
    "```{caution}\n",
    "4/10 caution let us try this\n",
    "```"
   ]
  },
  {
   "cell_type": "markdown",
   "id": "72a6cac8",
   "metadata": {
    "user_expressions": []
   },
   "source": [
    "```{danger}\n",
    "5/10 danger let us try this\n",
    "```"
   ]
  },
  {
   "cell_type": "markdown",
   "id": "059a9fda",
   "metadata": {
    "user_expressions": []
   },
   "source": [
    "```{error}\n",
    "6/10 error let us try this\n",
    "```"
   ]
  },
  {
   "cell_type": "markdown",
   "id": "da2ae405",
   "metadata": {
    "user_expressions": []
   },
   "source": [
    "```{hint}\n",
    "7/10 hint let us try this\n",
    "```"
   ]
  },
  {
   "cell_type": "markdown",
   "id": "7d046bb3",
   "metadata": {
    "user_expressions": []
   },
   "source": [
    "```{important}\n",
    "8/10 important let us try this\n",
    "```"
   ]
  },
  {
   "cell_type": "markdown",
   "id": "6f06f9e8",
   "metadata": {
    "tags": [],
    "user_expressions": []
   },
   "source": [
    "```{seealso}\n",
    "9/10 seealso let us try this\n",
    "```"
   ]
  },
  {
   "cell_type": "markdown",
   "id": "7fea419b",
   "metadata": {
    "user_expressions": []
   },
   "source": [
    "```{warning}\n",
    "10/10 warning let us try this\n",
    "```"
   ]
  },
  {
   "cell_type": "markdown",
   "id": "708422eb-bcac-45af-b7d6-cf604e78591b",
   "metadata": {},
   "source": [
    "## with the `dropdown` class"
   ]
  },
  {
   "cell_type": "markdown",
   "id": "389e089f-5115-462a-bdb5-6a3f5dbba0a9",
   "metadata": {
    "user_expressions": []
   },
   "source": [
    "here is an simple untagged admonition with the `dropdown` class:\n",
    "\n",
    "```{admonition} Click the button to reveal!\n",
    ":class: dropdown\n",
    "Some hidden toggle content!\n",
    "```"
   ]
  },
  {
   "cell_type": "markdown",
   "id": "d71c10a1-ea8d-48a4-9ee9-151a6ccb0c94",
   "metadata": {
    "tags": [],
    "user_expressions": []
   },
   "source": [
    "```{admonition} without the dropdown class\n",
    "this is a regular *admonition* with a custom title  \n",
    "not sure how to change the color then\n",
    "```"
   ]
  },
  {
   "cell_type": "markdown",
   "id": "c5999a24",
   "metadata": {
    "tags": [],
    "user_expressions": []
   },
   "source": [
    "```{danger} with class dropdown\n",
    ":class: dropdown\n",
    "note: you can use either ``` or :::\n",
    "```"
   ]
  },
  {
   "cell_type": "markdown",
   "id": "52b3728b-0a79-407d-9dcb-9401eaead8ca",
   "metadata": {},
   "source": [
    "# test zone"
   ]
  },
  {
   "cell_type": "markdown",
   "id": "2378706a-36a4-4056-82eb-4fa40394c555",
   "metadata": {},
   "source": [
    "```{important}\n",
    "important: here's the deal\n",
    "```"
   ]
  },
  {
   "cell_type": "markdown",
   "id": "607f260a-6b91-4a5b-9006-24ce47857e45",
   "metadata": {},
   "source": [
    "```{error}\n",
    "error: something has gone wrong\n",
    "```"
   ]
  }
 ],
 "metadata": {
  "celltoolbar": "Edit Metadata",
  "jupytext": {
   "cell_metadata_filter": "all,-hidden,-heading_collapsed,-run_control,-trusted",
   "notebook_metadata_filter": "all,-language_info,-toc,-jupytext.text_representation.jupytext_version,-jupytext.text_representation.format_version"
  },
  "kernelspec": {
   "display_name": "Python 3 (ipykernel)",
   "language": "python",
   "name": "python3"
  },
  "language_info": {
   "codemirror_mode": {
    "name": "ipython",
    "version": 3
   },
   "file_extension": ".py",
   "mimetype": "text/x-python",
   "name": "python",
   "nbconvert_exporter": "python",
   "pygments_lexer": "ipython3",
   "version": "3.11.3"
  },
  "nbhosting": {
   "title": "React apps basics"
  },
  "rise": {
   "autolaunch": true,
   "slideNumber": "c/t",
   "start_slideshow_at": "selected",
   "theme": "sky",
   "transition": "cube"
  }
 },
 "nbformat": 4,
 "nbformat_minor": 5
}
