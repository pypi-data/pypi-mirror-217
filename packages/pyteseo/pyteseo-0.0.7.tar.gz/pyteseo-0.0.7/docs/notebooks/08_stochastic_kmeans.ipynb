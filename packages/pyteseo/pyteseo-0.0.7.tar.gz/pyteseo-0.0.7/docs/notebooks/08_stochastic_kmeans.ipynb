{
 "cells": [
  {
   "attachments": {},
   "cell_type": "markdown",
   "metadata": {},
   "source": [
    "# Kmeans clustering methodology"
   ]
  },
  {
   "cell_type": "code",
   "execution_count": null,
   "metadata": {},
   "outputs": [],
   "source": [
    "print(\"To be completed...\")"
   ]
  }
 ],
 "metadata": {
  "kernelspec": {
   "display_name": "pyteseo-dev",
   "language": "python",
   "name": "python3"
  },
  "language_info": {
   "name": "python",
   "version": "3.10.8 | packaged by conda-forge | (main, Nov 22 2022, 08:26:04) [GCC 10.4.0]"
  },
  "orig_nbformat": 4,
  "vscode": {
   "interpreter": {
    "hash": "792594d832ea4326378f39c6741adae5559c80a209244a934d002d1e59cc9c68"
   }
  }
 },
 "nbformat": 4,
 "nbformat_minor": 2
}
