{
 "cells": [
  {
   "attachments": {},
   "cell_type": "markdown",
   "metadata": {},
   "source": [
    "# Read TESEO's forcing files"
   ]
  },
  {
   "cell_type": "markdown",
   "metadata": {},
   "source": [
    "[![Open In Colab](https://colab.research.google.com/assets/colab-badge.svg)](https://colab.research.google.com/github/IHCantabria/pyteseo/blob/main/docs/notebooks/02_read_forcings.ipynb)"
   ]
  },
  {
   "attachments": {},
   "cell_type": "markdown",
   "metadata": {},
   "source": [
    "## Install pyTESEO\n",
    "- If you are running this notebook from `Google colab` uncomment and run `!pip install pyteseo && pyteseo-tests` in the cell below. \n",
    "Doing this you will install `pyteseo` from `pypi` repository and run `pyteseo-tests` to check the installation (all tests have to succeed).\n",
    "\n",
    "- If you are using this notebook in your own local machine you need to install the library from the local repo `pip install .` or pypi `pip install pyteseo`."
   ]
  },
  {
   "cell_type": "code",
   "execution_count": 1,
   "metadata": {},
   "outputs": [],
   "source": [
    "# !pip install pyteseo && pyteseo-tests"
   ]
  },
  {
   "attachments": {},
   "cell_type": "markdown",
   "metadata": {},
   "source": [
    "## Read TESEO's forcings files (currents and winds) and plot them.\n"
   ]
  },
  {
   "cell_type": "code",
   "execution_count": 2,
   "metadata": {},
   "outputs": [],
   "source": [
    "import warnings\n",
    "\n",
    "warnings.simplefilter(action=\"ignore\")"
   ]
  },
  {
   "attachments": {},
   "cell_type": "markdown",
   "metadata": {},
   "source": [
    "1. Define Paths"
   ]
  },
  {
   "cell_type": "code",
   "execution_count": 3,
   "metadata": {},
   "outputs": [
    {
     "name": "stdout",
     "output_type": "stream",
     "text": [
      "\n",
      "WARNING - .env file has not been loaded!\n"
     ]
    }
   ],
   "source": [
    "from pathlib import Path\n",
    "import pyteseo.tests as tests_\n",
    "\n",
    "data_path = Path(tests_.__file__).parent / \"data\"\n",
    "lstcurr_path = data_path / \"lstcurr.pre\"\n",
    "lstwinds_path = data_path / \"lstwinds.pre\""
   ]
  },
  {
   "attachments": {},
   "cell_type": "markdown",
   "metadata": {},
   "source": [
    "2. Read bathymetry and coastline from TESEO's format files"
   ]
  },
  {
   "cell_type": "code",
   "execution_count": 4,
   "metadata": {},
   "outputs": [
    {
     "data": {
      "text/html": [
       "<div>\n",
       "<style scoped>\n",
       "    .dataframe tbody tr th:only-of-type {\n",
       "        vertical-align: middle;\n",
       "    }\n",
       "\n",
       "    .dataframe tbody tr th {\n",
       "        vertical-align: top;\n",
       "    }\n",
       "\n",
       "    .dataframe thead th {\n",
       "        text-align: right;\n",
       "    }\n",
       "</style>\n",
       "<table border=\"1\" class=\"dataframe\">\n",
       "  <thead>\n",
       "    <tr style=\"text-align: right;\">\n",
       "      <th></th>\n",
       "      <th>time</th>\n",
       "      <th>lon</th>\n",
       "      <th>lat</th>\n",
       "      <th>u</th>\n",
       "      <th>v</th>\n",
       "    </tr>\n",
       "  </thead>\n",
       "  <tbody>\n",
       "    <tr>\n",
       "      <th>0</th>\n",
       "      <td>0.0</td>\n",
       "      <td>9.618706</td>\n",
       "      <td>43.98785</td>\n",
       "      <td>-3.765736</td>\n",
       "      <td>0.509148</td>\n",
       "    </tr>\n",
       "    <tr>\n",
       "      <th>1</th>\n",
       "      <td>0.0</td>\n",
       "      <td>9.618706</td>\n",
       "      <td>44.11285</td>\n",
       "      <td>-3.765736</td>\n",
       "      <td>0.509148</td>\n",
       "    </tr>\n",
       "    <tr>\n",
       "      <th>2</th>\n",
       "      <td>0.0</td>\n",
       "      <td>9.618706</td>\n",
       "      <td>44.23785</td>\n",
       "      <td>-3.765736</td>\n",
       "      <td>0.509148</td>\n",
       "    </tr>\n",
       "    <tr>\n",
       "      <th>3</th>\n",
       "      <td>0.0</td>\n",
       "      <td>9.743706</td>\n",
       "      <td>43.98785</td>\n",
       "      <td>-3.765736</td>\n",
       "      <td>0.509148</td>\n",
       "    </tr>\n",
       "    <tr>\n",
       "      <th>4</th>\n",
       "      <td>0.0</td>\n",
       "      <td>9.743706</td>\n",
       "      <td>44.11285</td>\n",
       "      <td>-3.765736</td>\n",
       "      <td>0.509148</td>\n",
       "    </tr>\n",
       "  </tbody>\n",
       "</table>\n",
       "</div>"
      ],
      "text/plain": [
       "   time       lon       lat         u         v\n",
       "0   0.0  9.618706  43.98785 -3.765736  0.509148\n",
       "1   0.0  9.618706  44.11285 -3.765736  0.509148\n",
       "2   0.0  9.618706  44.23785 -3.765736  0.509148\n",
       "3   0.0  9.743706  43.98785 -3.765736  0.509148\n",
       "4   0.0  9.743706  44.11285 -3.765736  0.509148"
      ]
     },
     "execution_count": 4,
     "metadata": {},
     "output_type": "execute_result"
    }
   ],
   "source": [
    "from pyteseo.io.forcings import read_forcing\n",
    "\n",
    "currents_df = read_forcing(lstcurr_path, forcing_type=\"currents\")\n",
    "winds_df = read_forcing(lstwinds_path, forcing_type=\"winds\")\n",
    "winds_df.head(5)"
   ]
  },
  {
   "attachments": {},
   "cell_type": "markdown",
   "metadata": {},
   "source": [
    "3. Plot velocity fields"
   ]
  },
  {
   "cell_type": "code",
   "execution_count": 5,
   "metadata": {},
   "outputs": [
    {
     "data": {
      "image/png": "[encoded data removed]",
      "text/plain": [
       "<Figure size 640x480 with 2 Axes>"
      ]
     },
     "metadata": {},
     "output_type": "display_data"
    }
   ],
   "source": [
    "from matplotlib import pyplot as plt\n",
    "import numpy as np\n",
    "\n",
    "\n",
    "currents_df[\"mod\"] = np.sqrt(currents_df.u**2 + currents_df.v**2)\n",
    "winds_df[\"mod\"] = np.sqrt(winds_df.u**2 + winds_df.v**2)\n",
    "\n",
    "currents_time = 1\n",
    "currents = currents_df.loc[currents_df[\"time\"] == currents_time]\n",
    "\n",
    "winds_time = 3\n",
    "winds = winds_df.loc[winds_df[\"time\"] == winds_time]\n",
    "\n",
    "fig = plt.figure()\n",
    "ax1 = fig.add_subplot(211)\n",
    "plt.title(f\"currents @ time = {currents_time}\")\n",
    "q1 = ax1.quiver(\n",
    "    currents[\"lon\"],\n",
    "    currents[\"lat\"],\n",
    "    currents[\"u\"],\n",
    "    currents[\"v\"],\n",
    "    currents[\"mod\"],\n",
    "    cmap=\"jet\",\n",
    ")\n",
    "\n",
    "time = 3\n",
    "ax2 = fig.add_subplot(212)\n",
    "plt.title(f\"winds @ time = {winds_time}\")\n",
    "q2 = ax2.quiver(\n",
    "    winds[\"lon\"],\n",
    "    winds[\"lat\"],\n",
    "    winds[\"u\"],\n",
    "    winds[\"v\"],\n",
    "    winds[\"mod\"],\n",
    "    cmap=\"jet\",\n",
    ")\n",
    "\n",
    "plt.subplots_adjust(hspace=0.5)"
   ]
  }
 ],
 "metadata": {
  "kernelspec": {
   "display_name": "pyteseo-dev",
   "language": "python",
   "name": "python3"
  },
  "language_info": {
   "codemirror_mode": {
    "name": "ipython",
    "version": 3
   },
   "file_extension": ".py",
   "mimetype": "text/x-python",
   "name": "python",
   "nbconvert_exporter": "python",
   "pygments_lexer": "ipython3",
   "version": "3.11.3"
  },
  "orig_nbformat": 4,
  "vscode": {
   "interpreter": {
    "hash": "792594d832ea4326378f39c6741adae5559c80a209244a934d002d1e59cc9c68"
   }
  }
 },
 "nbformat": 4,
 "nbformat_minor": 2
}
