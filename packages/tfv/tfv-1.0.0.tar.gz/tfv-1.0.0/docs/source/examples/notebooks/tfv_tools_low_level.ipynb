{
 "cells": [
  {
   "cell_type": "markdown",
   "id": "92bf6a7b-edfc-4b92-90d9-da59976f63ed",
   "metadata": {},
   "source": [
    "# Example of Model Post-Processing\n",
    "\n",
    "**This is an example of the low-level TUFLOW-FV python tools, which provides all the base methods to accessing TUFLOW-FV Results.\n",
    "\n",
    "The easier to use interface is the \"Xarray\" accessor - see \"tfv_tools_with_xarray.ipynb\"**\n",
    "\n",
    "This is a notebook that provides a number of examples on how the tfv package can be used to view and post-process tuflow fv model results."
   ]
  },
  {
   "cell_type": "markdown",
   "id": "ff43f769-7553-4ef9-978f-8401d61d04fd",
   "metadata": {},
   "source": [
    "First we start by importing the usual suspects: `numpy` and `matplotlib`. <br>We'll also make use of the `pathlib` module to assist with managing file-paths, although this is entirely optional! "
   ]
  },
  {
   "cell_type": "code",
   "execution_count": null,
   "id": "8d60d85a-bcf8-492b-baa3-3ba90e27282f",
   "metadata": {},
   "outputs": [],
   "source": [
    "import matplotlib.pyplot as plt\n",
    "import numpy as np\n",
    "from pathlib import Path"
   ]
  },
  {
   "cell_type": "markdown",
   "id": "e3d2aa5b-eeb9-40cc-a626-7586c2c26f2e",
   "metadata": {},
   "source": [
    "From the tfv package, lets start with the `FvExtractor` object. <br> \n",
    "This is the arguably the most important module in the tfv package. It is used for extracting data from a tuflow fv spatial model output, including:\n",
    "- Extracting sheet cell or nodal values (i.e., 2D cell center or nodal values)\n",
    "- Extract profile values (i.e., 1D vertical profiles)\n",
    "- Extract curtain grid or curtain cells (i.e., 2D slices along a chainage)"
   ]
  },
  {
   "cell_type": "code",
   "execution_count": null,
   "id": "6ae405ec-359e-4232-bbb7-7da9b1c6dafa",
   "metadata": {},
   "outputs": [],
   "source": [
    "from tfv.extractor import FvExtractor"
   ]
  },
  {
   "cell_type": "markdown",
   "id": "cac143a7-2111-45c5-a9e0-425fa21ac016",
   "metadata": {},
   "source": [
    "### Load a model result\n",
    "This example uses our TUFLOW FV Tamar Island model.<br> Note that we typically use `Path` objects to manage unix/dos path format and other benefits, but this is optional and you could use text strings instead."
   ]
  },
  {
   "cell_type": "code",
   "execution_count": null,
   "id": "102d90ea-aa4d-4728-b9a9-98c59f51bcf1",
   "metadata": {},
   "outputs": [],
   "source": [
    "# model_folder = Path(r'./data')\n",
    "model_folder = Path(r\"C:\\Users\\alexander.waterhouse\\Python\\tfv\\working\")\n",
    "model_file = 'HYD_002_extended.nc'"
   ]
  },
  {
   "cell_type": "markdown",
   "id": "c0afa85d-340e-4951-b2a0-64098bfc1992",
   "metadata": {},
   "source": [
    "Now we'll initialise our extractor object that will be used throughout the rest of this notebook"
   ]
  },
  {
   "cell_type": "code",
   "execution_count": null,
   "id": "a206cdd3-9ebd-473a-bfe5-d51e35a6b96a",
   "metadata": {},
   "outputs": [],
   "source": [
    "xtr = FvExtractor(model_folder / model_file)"
   ]
  },
  {
   "cell_type": "markdown",
   "id": "a76ac072-df76-4626-aaa3-3b2aa1313568",
   "metadata": {},
   "source": [
    "The ```FvExtractor``` object uses `xarray` under the hood in the latest versions of the tfv package (which this notebook tutorial is based on). <br>\n",
    "Xarray provides are great number of built in ways to subset and extract data - and you can utilise the raw xarray object itself. <br> You can view the underlying dataset anytime:"
   ]
  },
  {
   "cell_type": "code",
   "execution_count": null,
   "id": "59d4f06d-f464-4c18-b639-f8e35c00f981",
   "metadata": {},
   "outputs": [],
   "source": [
    "xtr.ds"
   ]
  },
  {
   "cell_type": "markdown",
   "id": "ff9d6682-c0b5-4710-8663-a87ccddf8a15",
   "metadata": {},
   "source": [
    "A common task is to cut down a large tuflow-fv result into a much smaller subset, for example to view the file in the QGIS TUFLOW Viewer, or to transfer over a network. <br> The following cell shows how we can leverage Xarray's inbuilt functionality to subset a 6-hr period from the result, and then export a much smaller netcdf result.  "
   ]
  },
  {
   "cell_type": "code",
   "execution_count": null,
   "id": "fc050b16-5b45-4393-8e1b-a197a11ebd3b",
   "metadata": {},
   "outputs": [],
   "source": [
    "start = '2011-02-03 12:00'\n",
    "stop = '2011-02-03 18:00'\n",
    "period = slice(start, stop) # We use a slice object with the start and stop times to specify the period we want\n",
    "\n",
    "ds_sliced = xtr.ds.sel(Time=period)  # Now we have a \"cut\" down xarray dataset\n",
    "\n",
    "ds_sliced\n",
    "\n",
    "# To export this to a new netcdf file, use:\n",
    "# ds_sliced.to_netcdf('./example_sliced_tuflowfv_result.nc')"
   ]
  },
  {
   "cell_type": "markdown",
   "id": "1181f03b-5297-41fc-8bfa-fafe781e78fa",
   "metadata": {},
   "source": [
    "### Extracting data\n",
    "Now that we have our `xtr` object loaded, let's look at some common methods to pull out data. <br>\n",
    "These can be used in a variety of ways, so please experiment! "
   ]
  },
  {
   "cell_type": "code",
   "execution_count": null,
   "id": "d403f906-71ac-42d9-b511-232e6c4e6893",
   "metadata": {},
   "outputs": [],
   "source": [
    "# Pull out cell center depth-averaged data for the 5th timestep\n",
    "cell_center_result = xtr.get_sheet_cell('SAL', 5)\n",
    "\n",
    "# Pull out node depth-averaged data for a specific date\n",
    "node_result = xtr.get_sheet_node('SAL', '2011-02-05 12:00:00')\n",
    "\n",
    "# Pull out a profile\n",
    "profile_result = xtr.get_profile_cell('TEMP', '2011-02-02 03:00', (159.09, -31.39))"
   ]
  },
  {
   "cell_type": "markdown",
   "id": "b4f55610-49fa-4fb3-b1f1-f264e6f606d2",
   "metadata": {},
   "source": [
    "The examples above are building blocks to helping you understand your model result. However, an array of cell center values isn't very useful, unless you're aiming to do further processing to the values. <br>So, let's move onto looking at how we can plot our data!"
   ]
  },
  {
   "cell_type": "markdown",
   "id": "f98318d7-f2e7-429a-a905-77556c67ec59",
   "metadata": {},
   "source": [
    "# Viewing the data"
   ]
  },
  {
   "cell_type": "markdown",
   "id": "1b3bc722-2abe-4389-83c9-5dadd76fffac",
   "metadata": {},
   "source": [
    "The tfv.visual module has several convenient  functions to plot model results. \n",
    "<br>It is easiest to import them all with '*' <br>Please note that this is generally not good practice in python, and should be limited to small packages (like `tfv`!)"
   ]
  },
  {
   "cell_type": "code",
   "execution_count": null,
   "id": "f19a2051-7e2b-495a-b733-498be750ce04",
   "metadata": {},
   "outputs": [],
   "source": [
    "from tfv.visual import *"
   ]
  },
  {
   "cell_type": "markdown",
   "id": "113f8870-65b8-45a3-a34c-1c600fbaaaea",
   "metadata": {},
   "source": [
    "### Spatial Plots"
   ]
  },
  {
   "cell_type": "markdown",
   "id": "89d8aed4-e11b-40ed-afca-008e9c34ef63",
   "metadata": {},
   "source": [
    "Let's start by looking at velocity (current) in the model. <br>There are some typical plotting settings in the cell below, that are used to adjust colormaps and vector sizes - this is a good one to copy and save for later use!"
   ]
  },
  {
   "cell_type": "code",
   "execution_count": null,
   "id": "f0694b76-4572-4dd7-9382-0ef4464a21fc",
   "metadata": {},
   "outputs": [],
   "source": [
    "col_spec = dict(cmap=cm.turbo, clim=[0.0, 0.25]) # Colormap and color scale\n",
    "vec_spec = dict(units='dots', scale_units='dots', scale=1/100, width=0.5,\n",
    "                headwidth=10, headlength=10, angles='uv', pivot='middle')  # Vector settings\n",
    "\n",
    "def style_ax(ax):\n",
    "    ax.set_xlabel('Longitude (°)')\n",
    "    ax.set_ylabel('Latitude (°)')\n",
    "    \n",
    "    ax.set_aspect('equal')\n",
    "    for tick in ax.get_xticklabels():\n",
    "            tick.set_rotation(0)"
   ]
  },
  {
   "cell_type": "markdown",
   "id": "2f84bc6d-7f90-4c13-a834-ced7b7cf6582",
   "metadata": {},
   "source": [
    "Now we can draw our plot. The general steps are:\n",
    "1. Create a matplotlib figure and axis. We simply use `fig, ax = plt.subplots` for this. \n",
    "2. Call our chosen plotting function. We'll use `SheetPatch`. <br>Note, it's important for the next step that we assign this to a variable - e.g., `sheet = SheetPatch(...)`\n",
    "3. Finally, call `(obj).set_time_current` to modifiy the time being plotted"
   ]
  },
  {
   "cell_type": "markdown",
   "id": "22cedaa9-1f2d-4ce7-a0ff-65e03fa60954",
   "metadata": {},
   "source": [
    "We will plot velocity. While TUFLOW FV outputs `V_x` and `V_y` separately, the `tfv` tools will recognise `V` as the combination of these two variables (Current Speed). For the vectors however, we need to tell it to use the components, so we pass a list of `['V_x', 'V_y']`"
   ]
  },
  {
   "cell_type": "code",
   "execution_count": null,
   "id": "16ff3e75-5794-4ba5-9ffc-a2b5082fe1a8",
   "metadata": {},
   "outputs": [],
   "source": [
    "fig, ax = plt.subplots(figsize=(8,6))\n",
    "sheet = SheetPatch(ax, xtr, 'V', shading='interp', **col_spec) # See note below\n",
    "vector = SheetVector(ax, xtr, ['V_x', 'V_y'], **vec_spec)\n",
    "\n",
    "sheet.set_time_current('2011-02-03 12:00') # Pick a date to look at the result\n",
    "vector.set_time_current('2011-02-03 12:00') # Pick a date to look at the result\n",
    "style_ax(ax)"
   ]
  },
  {
   "cell_type": "markdown",
   "id": "c6df27b7-bcba-48c3-8501-3f9ee3ba68b7",
   "metadata": {},
   "source": [
    "<i> Note on `SheetPatch`: the optional shading argument can be equal to `interp` or `flat` for a smooth or cell based figure. <br>\n",
    "If plotting with \"shading=flat\", you may wish to hide the mesh outline using `edgecolor=face` as well!\n",
    "<br>"
   ]
  },
  {
   "cell_type": "markdown",
   "id": "48701c32-6ca6-498a-9c6a-cf13b722b20c",
   "metadata": {},
   "source": [
    "### Vertical Averaging"
   ]
  },
  {
   "cell_type": "markdown",
   "id": "3b8d4ca9-ee90-4874-ae8b-6ae5b5ad06cb",
   "metadata": {},
   "source": [
    "What if we were interested in how the model result varies vertically? <br>We can provide the optional arguments to perform depth-averaging logic: `datum` and `limits` <br>\n",
    "A good description of these are provided here: https://fvwiki.tuflow.com/index.php?title=Depth_Averaging_Results"
   ]
  },
  {
   "cell_type": "markdown",
   "id": "74db10ca-d87f-4a57-bc81-40d6874808d2",
   "metadata": {},
   "source": [
    "As an example, we'll plot a figure with two subplots showing water-temperature for the top 2m (surface) and bottom 2m (near seabed)"
   ]
  },
  {
   "cell_type": "code",
   "execution_count": null,
   "id": "26d3fe8d-c953-424d-b62d-edbfd49c3dcd",
   "metadata": {},
   "outputs": [],
   "source": [
    "temp_color_spec = {'clim':(10, 20), 'cmap': 'inferno'}"
   ]
  },
  {
   "cell_type": "code",
   "execution_count": null,
   "id": "061fa16a-f8b9-447b-a2ae-8fddcdc23d1c",
   "metadata": {},
   "outputs": [],
   "source": [
    "fig, axes = plt.subplots(ncols=2, figsize=(8,4), constrained_layout=True)\n",
    "fig.suptitle('Modelled Temperature', fontweight='bold', y=1.06) # y is used to adjust the label position.\n",
    "\n",
    "# Surface Temperature - top 2m\n",
    "ax = axes[0]; style_ax(ax)\n",
    "sheet1 = SheetPatch(ax, xtr, 'TEMP', datum='depth', limits=(0, 2), shading='interp', **temp_color_spec)\n",
    "ax.set_title('Surface')\n",
    "\n",
    "# Near Seabed Temperature - bottom 2m \n",
    "ax = axes[1]; style_ax(ax)\n",
    "sheet2 = SheetPatch(ax, xtr, 'TEMP', datum='height', limits=(0, 2), shading='interp', **temp_color_spec)\n",
    "ax.set_title('Seabed')\n",
    "\n",
    "# Now let's update the time\n",
    "time = '2011-02-03 12:00'\n",
    "sheet1.set_time_current(time)\n",
    "sheet2.set_time_current(time)\n",
    "\n",
    "# Add a colorbar \n",
    "# (Note, you must supply something to matplotlib's colorbar function so it knows what the range is).\n",
    "# For SheetPatch, this is sheet.patch; for SheetContour, this is sheet.cont\n",
    "cbar = fig.colorbar(sheet1.patch, ax=axes.ravel().tolist())\n",
    "cbar.set_label(\"Temperature (°C)\")"
   ]
  },
  {
   "cell_type": "markdown",
   "id": "6f94c1aa-aedc-4855-9193-8d1dd5c3f472",
   "metadata": {},
   "source": [
    "# Plotting Custom Data"
   ]
  },
  {
   "cell_type": "markdown",
   "id": "b99f0afe-4e22-4622-a6e8-cb9560672b8e",
   "metadata": {},
   "source": [
    "What if we want to do some statistics on the model results and then plot them. For example, the mean surface temperature during the simulation?"
   ]
  },
  {
   "cell_type": "markdown",
   "id": "0a35c38e-5b1c-40e7-a9f7-8e8bb601bf9d",
   "metadata": {},
   "source": [
    "No issue - first we need to extract the surface temperature and then pass the data through to the plotting functions. <br> <b> We're going to extract both the cell-centered AND node values - we'll explain why in the next cell."
   ]
  },
  {
   "cell_type": "code",
   "execution_count": null,
   "id": "659fe57b-f8cd-49f6-abf7-86df31a01599",
   "metadata": {},
   "outputs": [],
   "source": [
    "data_cells = np.zeros((xtr.nt, xtr.nc2)) # ntimesteps x ncells\n",
    "data_nodes = np.zeros((xtr.nt, xtr.nv2)) # ntimesteps x nnodes (aka num verticies, or nv)\n",
    "\n",
    "for t in range(xtr.nt):\n",
    "    data_cells[t, :] = xtr.get_sheet_cell('TEMP', t, datum='depth', limits=(0,1))\n",
    "    data_nodes[t, :] = xtr.get_sheet_node('TEMP', t, datum='depth', limits=(0,1))\n",
    "\n",
    "mean_temp_cells = data_cells.mean(axis=0) # Now we can average\n",
    "mean_temp_nodes = data_nodes.mean(axis=0) # Now we can average"
   ]
  },
  {
   "cell_type": "markdown",
   "id": "38fed6cf-43c1-4800-81ce-6628511a8f57",
   "metadata": {},
   "source": [
    "Now we can plot our data. We can choose to use `SheetPatch` or `SheetContour`. <br>\n",
    "<b>Note</b>:\n",
    "- `SheetPatch` with `shading=flat` uses cell-centered results to draw the figure. So the data must be cell centered\n",
    "- `SheetContour` OR `SheetPatch` with `shading=interp` uses node results, so we need to supply nodal results. "
   ]
  },
  {
   "cell_type": "markdown",
   "id": "f86d73e0-d964-4da6-b701-cbb7d83900f4",
   "metadata": {},
   "source": [
    "To pass custom data to the plot objects, we just replace the variable input with the data itself"
   ]
  },
  {
   "cell_type": "code",
   "execution_count": null,
   "id": "9fb6b130-9153-4405-91c7-754f47539988",
   "metadata": {},
   "outputs": [],
   "source": [
    "fig, axes = plt.subplots(ncols=3, figsize=(10,8), constrained_layout=True)\n",
    "# fig.suptitle('Modelled Temperature', fontweight='bold', y=1.06) # y is used to adjust the label position.\n",
    "\n",
    "# Cells with SheetPatch\n",
    "ax = axes[0]; style_ax(ax)\n",
    "sheet1 = SheetPatch(ax, xtr, mean_temp_cells, shading='flat', **temp_color_spec)\n",
    "ax.set_title('Cells with SheetPatch')\n",
    "\n",
    "# Nodes with SheetPatch\n",
    "ax = axes[1]; style_ax(ax)\n",
    "sheet2 = SheetPatch(ax, xtr, mean_temp_nodes, shading='interp', **temp_color_spec)\n",
    "ax.set_title('Nodes with SheetPatch')\n",
    "\n",
    "# Node Based\n",
    "ax = axes[2]; style_ax(ax)\n",
    "sheet3 = SheetContour(ax, xtr, mean_temp_nodes, levels=np.arange(10, 20, 0.25), **temp_color_spec)\n",
    "ax.set_title('Nodes with SheetContour')\n",
    "\n",
    "plt.show()"
   ]
  },
  {
   "cell_type": "markdown",
   "id": "46f5f833-4f79-4b91-83ce-1cf7f77862cc",
   "metadata": {},
   "source": [
    "# Learning More"
   ]
  },
  {
   "cell_type": "markdown",
   "id": "d9a9320f-0790-40a4-be35-4e4923abf457",
   "metadata": {},
   "source": [
    "This notebook has been an example on some of the high-level uses of the `tfv` tools. \n",
    "Plenty of other examples are provided in the user group! "
   ]
  },
  {
   "cell_type": "code",
   "execution_count": null,
   "id": "912c1191-c50a-4516-8a94-fbaf6a4d81ad",
   "metadata": {},
   "outputs": [],
   "source": []
  },
  {
   "cell_type": "code",
   "execution_count": null,
   "id": "ecd914d5-707e-4abc-b80c-e0df42b3265b",
   "metadata": {},
   "outputs": [],
   "source": []
  }
 ],
 "metadata": {
  "kernelspec": {
   "display_name": "Python 3 (ipykernel)",
   "language": "python",
   "name": "python3"
  },
  "language_info": {
   "codemirror_mode": {
    "name": "ipython",
    "version": 3
   },
   "file_extension": ".py",
   "mimetype": "text/x-python",
   "name": "python",
   "nbconvert_exporter": "python",
   "pygments_lexer": "ipython3",
   "version": "3.9.6"
  }
 },
 "nbformat": 4,
 "nbformat_minor": 5
}
