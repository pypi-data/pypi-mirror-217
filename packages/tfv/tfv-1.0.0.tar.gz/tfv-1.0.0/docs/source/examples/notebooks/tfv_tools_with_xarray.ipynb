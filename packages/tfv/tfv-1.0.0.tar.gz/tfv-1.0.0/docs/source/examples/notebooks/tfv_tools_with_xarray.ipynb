{
 "cells": [
  {
   "cell_type": "markdown",
   "id": "432ff2e6-ace8-4986-83e5-3c2a9dce8186",
   "metadata": {},
   "source": [
    "# Python Tuflow Tools - Xarray Accessor"
   ]
  },
  {
   "cell_type": "markdown",
   "id": "3e238435-3741-47f8-a436-769aecd7b2d4",
   "metadata": {},
   "source": [
    "**The XARRAY addon is in development!**\n",
    "\n",
    "The functions provided in the other modules, e.g., `FvExtractor (from tfv.extractor import FvExtractor)` are STABLE.\n",
    "\n",
    "For the STABLE tools that look very similar to the MATLAB tools - see \"tfv_tools_low_level.ipynb\"\n",
    "\n",
    "Expect bugs :) Please feel free to open issues, with good descriptions, to here: https://gitlab.com/tuflow/tfv (see Issues tab on left)."
   ]
  },
  {
   "cell_type": "code",
   "execution_count": null,
   "id": "48f2fac6-febb-4a4a-ab67-d537ca59376e",
   "metadata": {
    "jp-MarkdownHeadingCollapsed": true,
    "tags": []
   },
   "outputs": [],
   "source": [
    "import tfv.xarray\n",
    "import xarray as xr"
   ]
  },
  {
   "cell_type": "markdown",
   "id": "f22b445b-8358-4822-8fc7-f1717247631d",
   "metadata": {},
   "source": [
    "# Opening files\n",
    "We treat our TUFLOW-FV result like any normal xarray object. \n",
    "\n",
    "**warning:** Old versions of TUFLOW-FV have non-compatible \"TIME\" variable unit description for xarray. To fix this, simply add `decode_times=False` if you're workign with old results. New versions of TUFLOW-FV will work directly with xarray :) "
   ]
  },
  {
   "cell_type": "code",
   "execution_count": null,
   "id": "4b93008f-b337-4f99-ac25-b0ad3826caa1",
   "metadata": {},
   "outputs": [],
   "source": [
    "# NOTE - Python only likes \"/\". Long story short, if you want to copy paste in WINDOWS paths, just put an \"r\" infront of the string, e.g., see below. \n",
    "ds = xr.open_dataset(r\"C:\\Users\\alexander.waterhouse\\Python\\tfv\\working\\HYD_002_extended.nc\", decode_times=False)"
   ]
  },
  {
   "cell_type": "code",
   "execution_count": null,
   "id": "c20e2553-6a6f-400f-9306-d87d7c31668b",
   "metadata": {},
   "outputs": [],
   "source": [
    "ds"
   ]
  },
  {
   "cell_type": "markdown",
   "id": "5c73a967-c402-4857-9e76-9d64c582b377",
   "metadata": {},
   "source": [
    "However we can access a bunch of TUFLOW-FV Specific functions by then running `.tfv`"
   ]
  },
  {
   "cell_type": "code",
   "execution_count": null,
   "id": "23bc0c73-6347-451c-896d-a93eb3a4cb8b",
   "metadata": {},
   "outputs": [],
   "source": [
    "ds.tfv"
   ]
  },
  {
   "cell_type": "markdown",
   "id": "9ee411d8-5ee1-4730-8c4a-1d38259faa00",
   "metadata": {},
   "source": [
    "Conceptually - this \"accessor\" just adds on a bunch of functions, and helps you look at the results. \n",
    "All the hard work is being done by the existing tools available in `FvExtractor`, or the plotting functions in `Visual`. "
   ]
  },
  {
   "cell_type": "markdown",
   "id": "9dc07b3a-a053-459d-b124-c72b0c0b8254",
   "metadata": {},
   "source": [
    "# Common Examples"
   ]
  },
  {
   "cell_type": "markdown",
   "id": "c4d12109-f355-460b-ba2c-d02f85aaa50f",
   "metadata": {},
   "source": [
    "## Spatial Plots"
   ]
  },
  {
   "cell_type": "markdown",
   "id": "1bacaea8-72ea-489c-8039-57a4f6956f8e",
   "metadata": {},
   "source": [
    "By default, the tool will plot the first variable it finds, with the first timestep it finds."
   ]
  },
  {
   "cell_type": "code",
   "execution_count": null,
   "id": "c6e05636-0b2e-44e6-9b2e-41927beb733d",
   "metadata": {},
   "outputs": [],
   "source": [
    "ds.tfv.plot()"
   ]
  },
  {
   "cell_type": "markdown",
   "id": "7dc67943-58f2-4dbe-a9cc-4d671a4c2d1b",
   "metadata": {},
   "source": [
    "You can add lots of arguments to style plots to your liking. \n",
    "There is also some magic behind the scenes - if you have `V_x` and `V_y` in your dataset, you can request `V` or `VDir` directly. "
   ]
  },
  {
   "cell_type": "code",
   "execution_count": null,
   "id": "4670bd7c-ccd1-4562-b9a8-f85a265e8778",
   "metadata": {},
   "outputs": [],
   "source": [
    "ds.tfv.plot('V', '2011-02-05 02:00', cmap='turbo', clim=(0, 0.5), datum='depth')\n",
    "\n",
    "# Other things to try:\n",
    "# Depth-averaging, e.g., datum=[\"sigma\", \"height\", \"depth\"], combined with limits\n",
    "# Shading = [\"interp\", \"patch\", \"contour\"]\n",
    "\n",
    "# Time can be provided as a str, a Timestamp object, or a simple integer."
   ]
  },
  {
   "cell_type": "markdown",
   "id": "dee84d7b-db12-4d8f-88b6-0b5e8346a332",
   "metadata": {},
   "source": [
    "You can compose plots as per normal matplotlib methods. This will hopefully make preparing reports for figures easier :) "
   ]
  },
  {
   "cell_type": "code",
   "execution_count": null,
   "id": "ce67055c-9ac7-4be0-94cf-148139080bac",
   "metadata": {},
   "outputs": [],
   "source": [
    "import matplotlib.pyplot as plt"
   ]
  },
  {
   "cell_type": "markdown",
   "id": "0ca62383-24d0-4ac6-984e-43ce7535aaf0",
   "metadata": {},
   "source": [
    "Here is a very simple example and are just some common building blocks you might use. "
   ]
  },
  {
   "cell_type": "code",
   "execution_count": null,
   "id": "de710870-158b-41e1-9506-c107e26554ef",
   "metadata": {},
   "outputs": [],
   "source": [
    "fig, axes = plt.subplots(ncols=3, figsize=(12, 6), constrained_layout=True)\n",
    "\n",
    "ts = 50\n",
    "\n",
    "ax = axes[0]\n",
    "p1 = ds.tfv.plot('H', ts, ax=ax, shading='interp', colorbar=False)\n",
    "ax.set_title('Surf-ele')\n",
    "plt.colorbar(p1.patch, ax=ax, orientation='horizontal')\n",
    "\n",
    "ax = axes[1]\n",
    "p2 = ds.tfv.plot('V', ts, ax=ax,  shading='interp', colorbar=False)\n",
    "v2 = ds.tfv.plot_vector('V', ts, ax=ax, color='w')\n",
    "ax.set_title('Velocity')\n",
    "plt.colorbar(p2.patch, ax=ax, orientation='horizontal')\n",
    "\n",
    "ax = axes[2]\n",
    "p3 = ds.tfv.plot('TEMP', ts, ax=ax, shading='interp', colorbar=False)\n",
    "ax.set_title('Temperature')\n",
    "plt.colorbar(p3.patch, ax=ax, orientation='horizontal')"
   ]
  },
  {
   "cell_type": "markdown",
   "id": "b4b99f7c-c71c-42a9-a2b2-8a265b650f90",
   "metadata": {},
   "source": [
    "## Timeseries"
   ]
  },
  {
   "cell_type": "code",
   "execution_count": null,
   "id": "abf050da-5d45-473a-87b9-32105a62269e",
   "metadata": {},
   "outputs": [],
   "source": [
    "locs = {\n",
    "    'P1': (159.1, -31.39), \n",
    "    'P2': (159.115, -31.395), \n",
    "}\n",
    "\n",
    "ts = ds.tfv.get_timeseries(['H', 'V', 'TEMP'], locs)\n",
    "ts"
   ]
  },
  {
   "cell_type": "code",
   "execution_count": null,
   "id": "eee55e5f-2f22-47b1-a551-e3cd5791ab46",
   "metadata": {},
   "outputs": [],
   "source": [
    "ts['V'][:, 1].plot()"
   ]
  },
  {
   "cell_type": "markdown",
   "id": "3a8bde16-6cbd-45da-8728-1cb9cfced7e6",
   "metadata": {},
   "source": [
    "## Sheet Timeseries"
   ]
  },
  {
   "cell_type": "markdown",
   "id": "c9ed213d-c8ad-4564-bafd-9d16b9e80194",
   "metadata": {},
   "source": [
    "What if you want to make your own wild function that works on the sheet (2D) results? "
   ]
  },
  {
   "cell_type": "code",
   "execution_count": null,
   "id": "6a807ddf-8321-40c3-893f-255faf898f3c",
   "metadata": {},
   "outputs": [],
   "source": [
    "# This grabs ALL timesteps between the 2nd to 4th of Feb 2011, and takes the average of the top 2m! \n",
    "sht = ds.tfv.get_sheet('SAL', slice('2011-02-02', '2011-02-04'), datum='depth', limits=(0,2))\n",
    "sht"
   ]
  },
  {
   "cell_type": "markdown",
   "id": "50132862-a5d6-48bb-a2d2-99b22e44b241",
   "metadata": {},
   "source": [
    "## Built-in statistics"
   ]
  },
  {
   "cell_type": "markdown",
   "id": "31b7f891-8155-4b0c-903b-0612d85a7da5",
   "metadata": {},
   "source": [
    "We are always doing the same set of statistics - so they've been built in. Here's an example"
   ]
  },
  {
   "cell_type": "code",
   "execution_count": null,
   "id": "76704e9d-337c-4d71-9bf2-af6975ab260f",
   "metadata": {},
   "outputs": [],
   "source": [
    "# List of percentiles to grab, as well as some common stats\n",
    "stats = ['p5', 'p50', 'p97.5', 'p99', 'min', 'mean', 'max']\n",
    "\n",
    "# Do stats on velocity, for the bottom 1m (default of limits is (0, 1), thus 1m). \n",
    "stat = ds.tfv.get_statistics(stats, 'V', datum='height')\n",
    "stat"
   ]
  },
  {
   "cell_type": "markdown",
   "id": "96924d22-8d07-4e26-a62b-d3aea1a3ecab",
   "metadata": {},
   "source": [
    "Now we can plot them"
   ]
  },
  {
   "cell_type": "code",
   "execution_count": null,
   "id": "a305b86d-2a16-409c-9252-19ff8cbffdd3",
   "metadata": {},
   "outputs": [],
   "source": [
    "stat.plot('V_p99', cmap='turbo', clim=(0,0.5))"
   ]
  },
  {
   "cell_type": "markdown",
   "id": "b0a8dc04-6b0c-46af-808c-ef927b6a99cf",
   "metadata": {},
   "source": [
    "## Export to QGIS"
   ]
  },
  {
   "cell_type": "markdown",
   "id": "247a6924-457b-46e8-9ac0-fd6a599361b6",
   "metadata": {},
   "source": [
    "You can chop down a tfv result and send to QGIS at any time. "
   ]
  },
  {
   "cell_type": "markdown",
   "id": "0ad56e60-2f1e-4206-b7bc-b3f666531d61",
   "metadata": {},
   "source": [
    "Simply run `ds.tfv.to_netcdf('my_tfv_result.nc')` on any of the results and it should be all good - including from the statistics results, etc. "
   ]
  },
  {
   "cell_type": "markdown",
   "id": "f8027a09-a0f9-4696-b2c0-17e47aaafcac",
   "metadata": {},
   "source": [
    "# Interactive Plotting"
   ]
  },
  {
   "cell_type": "markdown",
   "id": "1360467f-9151-4baa-97de-209a52ea62a3",
   "metadata": {},
   "source": [
    "Lastly, if you want to investigate your results interactively, you can use matplotlib's widget mode. "
   ]
  },
  {
   "cell_type": "markdown",
   "id": "07a2e3d7-4fa0-4efb-887e-bc99677fc65d",
   "metadata": {},
   "source": [
    "First turn it on with `%matplotlib widget`. THIS WILL MAKE THE CHANGE FOR THE ENTIRE NOTEBOOK. \n",
    "\n",
    "To turn it off, run `%matplotlib inline`"
   ]
  },
  {
   "cell_type": "code",
   "execution_count": null,
   "id": "706739bc-f7a3-40d3-b07f-b39994ef705d",
   "metadata": {},
   "outputs": [],
   "source": [
    "%matplotlib widget"
   ]
  },
  {
   "cell_type": "code",
   "execution_count": null,
   "id": "bd795193-fdda-4950-b3f4-bc2fbe37dc19",
   "metadata": {},
   "outputs": [],
   "source": [
    "ds.tfv.plot_interactive('V', cmap='turbo', clim=(0,0.5), datum='depth', vectors=True)"
   ]
  },
  {
   "cell_type": "markdown",
   "id": "f1250957-08f0-4215-b162-04c4fc7662c2",
   "metadata": {},
   "source": [
    "# Other features"
   ]
  },
  {
   "cell_type": "markdown",
   "id": "dd21e5a6-3b83-4e9b-a950-7a78f342f103",
   "metadata": {},
   "source": [
    "I'm way behind with documentation, but in the meantime, if you think there should be a way to do something, there probably is! "
   ]
  },
  {
   "cell_type": "markdown",
   "id": "387ed93b-36eb-4210-b723-867c9adc73e9",
   "metadata": {},
   "source": [
    "Try typing `ds.tfv.` into a new cell, and then pressing \"tab\" to see a list of functions that are available to try (e.g., `plot_curtain`)"
   ]
  },
  {
   "cell_type": "markdown",
   "id": "aad3f93e-8942-4f0f-b7ed-fc4a71848197",
   "metadata": {},
   "source": [
    "If you have new ideas, let me (A.Waterhouse) know.\n",
    "\n",
    "Note, these tools are PUBLIC - and hence we won't be adding anything specific workflows. Only simple methdos to do basic things like assistance with plotting and getting results.\n",
    "\n",
    "If you have a BMT Specific workflow you want to save / share - that's what this git repo is for. It should be an internal resource for sharing examples. "
   ]
  },
  {
   "cell_type": "code",
   "execution_count": null,
   "id": "3b32f43d-ed92-4273-b0c2-2b87cf4ad667",
   "metadata": {},
   "outputs": [],
   "source": []
  }
 ],
 "metadata": {
  "kernelspec": {
   "display_name": "Python 3 (ipykernel)",
   "language": "python",
   "name": "python3"
  },
  "language_info": {
   "codemirror_mode": {
    "name": "ipython",
    "version": 3
   },
   "file_extension": ".py",
   "mimetype": "text/x-python",
   "name": "python",
   "nbconvert_exporter": "python",
   "pygments_lexer": "ipython3",
   "version": "3.9.6"
  }
 },
 "nbformat": 4,
 "nbformat_minor": 5
}
