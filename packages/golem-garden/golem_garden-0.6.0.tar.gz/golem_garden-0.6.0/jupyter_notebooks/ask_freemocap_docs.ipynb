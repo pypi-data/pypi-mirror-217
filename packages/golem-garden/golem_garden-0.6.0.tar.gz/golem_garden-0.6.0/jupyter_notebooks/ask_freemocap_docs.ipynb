{
  "cells": [
    {
      "cell_type": "markdown",
      "metadata": {
        "id": "QFTi1HFe3Vxf"
      },
      "source": [
        "<img src=\"https://fsdl.me/logo-720-dark-horizontal\">"
      ]
    },
    {
      "cell_type": "markdown",
      "metadata": {
        "id": "_jgVeBh73WBf"
      },
      "source": [
        "This notebook accompanies [this YouTube video](https://www.youtube.com/watch?v=zaYTXQFR0_s)\n",
        "walking through what LangChain is and interviewing the creator, Harrison Chase."
      ]
    },
    {
      "cell_type": "markdown",
      "metadata": {
        "id": "t8Loy7nBuu-8"
      },
      "source": [
        "## Auth"
      ]
    },
    {
      "cell_type": "code",
      "execution_count": 33,
      "metadata": {
        "colab": {
          "base_uri": "https://localhost:8080/"
        },
        "id": "lQFKCcwUDkCX",
        "outputId": "6aebf7b9-234d-443d-f6b3-75a6a8cd12cc"
      },
      "outputs": [
        {
          "name": "stdout",
          "output_type": "stream",
          "text": [
            "Note: you may need to restart the kernel to use updated packages.\n",
            "Note: you may need to restart the kernel to use updated packages.\n",
            "Note: you may need to restart the kernel to use updated packages.\n",
            "Note: you may need to restart the kernel to use updated packages.\n",
            "Note: you may need to restart the kernel to use updated packages.\n"
          ]
        }
      ],
      "source": [
        "%pip install -qqq langchain openai\n",
        "%pip install -qqq beautifulsoup4\n",
        "%pip install -qqq unstructured\n",
        "%pip install -qqq tiktoken\n",
        "%pip install -qqq faiss-cpu"
      ]
    },
    {
      "cell_type": "code",
      "execution_count": 1,
      "metadata": {
        "colab": {
          "base_uri": "https://localhost:8080/"
        },
        "id": "8lTk21-dEYyy",
        "outputId": "356ef28a-a043-425c-9263-29fa9256fd2b"
      },
      "outputs": [],
      "source": [
        "import os\n",
        "from dotenv import load_dotenv\n",
        "load_dotenv()\n",
        "\n",
        "#set up for tracing\n",
        "os.environ[\"LANGCHAIN_HANDLER\"] = \"langchain\""
      ]
    },
    {
      "cell_type": "code",
      "execution_count": 2,
      "metadata": {
        "id": "9scp87XTHp1r"
      },
      "outputs": [
        {
          "name": "stderr",
          "output_type": "stream",
          "text": [
            "WARNING:root:Failed to default session, using empty session: HTTPConnectionPool(host='localhost', port=8000): Max retries exceeded with url: /sessions (Caused by NewConnectionError('<urllib3.connection.HTTPConnection object at 0x0000022C1632EB80>: Failed to establish a new connection: [WinError 10061] No connection could be made because the target machine actively refused it'))\n"
          ]
        },
        {
          "name": "stdout",
          "output_type": "stream",
          "text": [
            "[]\n"
          ]
        }
      ],
      "source": [
        "from langchain.vectorstores import FAISS\n",
        "from langchain.document_loaders import DirectoryLoader\n",
        "\n",
        "loader = DirectoryLoader(r'C:\\Users\\jonma\\github_repos\\freemocap_organization\\documentation\\docs', glob=\"**/*.md\")\n",
        "documents = loader.load()\n",
        "print(documents)"
      ]
    },
    {
      "cell_type": "code",
      "execution_count": 44,
      "metadata": {},
      "outputs": [],
      "source": [
        "\n",
        "\n",
        "from langchain.embeddings.openai import OpenAIEmbeddings\n",
        "\n",
        "embeddings = OpenAIEmbeddings()\n",
        "\n"
      ]
    },
    {
      "cell_type": "code",
      "execution_count": 45,
      "metadata": {},
      "outputs": [],
      "source": [
        "\n",
        "\n",
        "from langchain.vectorstores import FAISS\n",
        "\n",
        "docsearch = FAISS.from_documents(documents, embeddings)\n",
        "\n"
      ]
    },
    {
      "cell_type": "markdown",
      "metadata": {
        "id": "V3xX9KUF1KxG"
      },
      "source": [
        "### Ask questions and get answers"
      ]
    },
    {
      "cell_type": "code",
      "execution_count": 47,
      "metadata": {
        "id": "hiuGx6cqH8cd"
      },
      "outputs": [],
      "source": [
        "from langchain.chains.qa_with_sources import load_qa_with_sources_chain\n",
        "\n",
        "\n",
        "from langchain.chat_models import ChatOpenAI\n",
        "\n",
        "llm = ChatOpenAI(model_name=\"gpt-4\", temperature=0)\n",
        "\n",
        "\n",
        "\n",
        "chain = load_qa_with_sources_chain(llm, chain_type=\"stuff\")"
      ]
    },
    {
      "cell_type": "code",
      "execution_count": 48,
      "metadata": {
        "colab": {
          "base_uri": "https://localhost:8080/"
        },
        "id": "Wu96kQNy1SFi",
        "outputId": "cb00330f-be19-4646-8c48-a862ee8d4f51"
      },
      "outputs": [
        {
          "name": "stdout",
          "output_type": "stream",
          "text": [
            "FreeMoCap is a project that aims to provide research-grade markerless\n",
            "motion capture software for free. It connects various open-source\n",
            "tools from the computer vision and machine learning communities to\n",
            "accurately record full-body 3D movement of humans, animals, robots,\n",
            "and other objects. The current documentation does not mention real-\n",
            "time capacity. A charuco board is used for calibrating the capture\n",
            "volume in the motion capture process. The creators of FreeMoCap are\n",
            "not explicitly mentioned in the provided content.\n",
            "\n",
            "SOURCES:\n",
            "C:\\Users\\jo\n",
            "nma\\github_repos\\freemocap_organization\\documentation\\docs\\about_us.md\n",
            ", C:\\Users\\jonma\\github_repos\\freemocap_organization\\documentation\\doc\n",
            "s\\terminology\\terminology.md\n"
          ]
        }
      ],
      "source": [
        "query = \"What is FreeMoCap? Does it have realtime capacity? Who made it? What is a charuco board?\"\n",
        "# query = \"What is LangChainHub?\"\n",
        "# query = \"Does LangChain integrate with OpenAI? If so, how?\"\n",
        "\n",
        "docs = docsearch.similarity_search(query)\n",
        "result = chain({\"input_documents\": docs, \"question\": query})\n",
        "\n",
        "text = \"\\n\".join(textwrap.wrap(result[\"output_text\"]))\n",
        "text = \"\\n\\nSOURCES:\\n\".join(map(lambda s: s.strip(), text.split(\"SOURCES:\")))\n",
        "\n",
        "print(text)"
      ]
    },
    {
      "cell_type": "code",
      "execution_count": null,
      "metadata": {
        "colab": {
          "base_uri": "https://localhost:8080/"
        },
        "id": "g7ca9p3o2Cqz",
        "outputId": "0620b36d-e2b2-4db2-8330-03f97d8ff434"
      },
      "outputs": [],
      "source": [
        "print(*textwrap.wrap(result[\"input_documents\"][0].page_content), sep=\"\\n\")"
      ]
    }
  ],
  "metadata": {
    "colab": {
      "provenance": []
    },
    "gpuClass": "standard",
    "kernelspec": {
      "display_name": "Python 3",
      "name": "python3"
    },
    "language_info": {
      "codemirror_mode": {
        "name": "ipython",
        "version": 3
      },
      "file_extension": ".py",
      "mimetype": "text/x-python",
      "name": "python",
      "nbconvert_exporter": "python",
      "pygments_lexer": "ipython3",
      "version": "3.9.16"
    }
  },
  "nbformat": 4,
  "nbformat_minor": 0
}
