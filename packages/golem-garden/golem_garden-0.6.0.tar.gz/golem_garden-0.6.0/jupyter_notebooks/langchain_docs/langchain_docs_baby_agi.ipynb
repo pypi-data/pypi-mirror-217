{
 "cells": [
  {
   "cell_type": "markdown",
   "id": "517a9fd4",
   "metadata": {},
   "source": [
    "# BabyAGI User Guide\n",
    "\n",
    "This notebook demonstrates how to implement [BabyAGI](https://github.com/yoheinakajima/babyagi/tree/main) by [Yohei Nakajima](https://twitter.com/yoheinakajima). BabyAGI is an AI agent that can generate and pretend to execute tasks based on a given objective.\n",
    "\n",
    "This guide will help you understand the components to create your own recursive agents.\n",
    "\n",
    "Although BabyAGI uses specific vectorstores/model providers (Pinecone, OpenAI), one of the benefits of implementing it with LangChain is that you can easily swap those out for different options. In this implementation we use a FAISS vectorstore (because it runs locally and is free)."
   ]
  },
  {
   "cell_type": "markdown",
   "id": "556af556",
   "metadata": {},
   "source": [
    "## Install and Import Required Modules"
   ]
  },
  {
   "cell_type": "code",
   "execution_count": 1,
   "id": "513d4dbd",
   "metadata": {},
   "outputs": [
    {
     "name": "stdout",
     "output_type": "stream",
     "text": [
      "Requirement already satisfied: faiss-cpu in c:\\users\\jonma\\github_repos\\jonmatthis\\golem_garden\\venv\\lib\\site-packages (1.7.3)\n",
      "Note: you may need to restart the kernel to use updated packages.\n",
      "Requirement already satisfied: openai in c:\\users\\jonma\\github_repos\\jonmatthis\\golem_garden\\venv\\lib\\site-packages (0.27.2)\n",
      "Requirement already satisfied: requests>=2.20 in c:\\users\\jonma\\github_repos\\jonmatthis\\golem_garden\\venv\\lib\\site-packages (from openai) (2.28.2)\n",
      "Requirement already satisfied: tqdm in c:\\users\\jonma\\github_repos\\jonmatthis\\golem_garden\\venv\\lib\\site-packages (from openai) (4.65.0)\n",
      "Requirement already satisfied: aiohttp in c:\\users\\jonma\\github_repos\\jonmatthis\\golem_garden\\venv\\lib\\site-packages (from openai) (3.8.4)\n",
      "Requirement already satisfied: charset-normalizer<4,>=2 in c:\\users\\jonma\\github_repos\\jonmatthis\\golem_garden\\venv\\lib\\site-packages (from requests>=2.20->openai) (3.1.0)\n",
      "Requirement already satisfied: idna<4,>=2.5 in c:\\users\\jonma\\github_repos\\jonmatthis\\golem_garden\\venv\\lib\\site-packages (from requests>=2.20->openai) (3.4)\n",
      "Requirement already satisfied: urllib3<1.27,>=1.21.1 in c:\\users\\jonma\\github_repos\\jonmatthis\\golem_garden\\venv\\lib\\site-packages (from requests>=2.20->openai) (1.26.15)\n",
      "Requirement already satisfied: certifi>=2017.4.17 in c:\\users\\jonma\\github_repos\\jonmatthis\\golem_garden\\venv\\lib\\site-packages (from requests>=2.20->openai) (2022.12.7)\n",
      "Requirement already satisfied: attrs>=17.3.0 in c:\\users\\jonma\\github_repos\\jonmatthis\\golem_garden\\venv\\lib\\site-packages (from aiohttp->openai) (22.2.0)\n",
      "Requirement already satisfied: multidict<7.0,>=4.5 in c:\\users\\jonma\\github_repos\\jonmatthis\\golem_garden\\venv\\lib\\site-packages (from aiohttp->openai) (6.0.4)\n",
      "Requirement already satisfied: async-timeout<5.0,>=4.0.0a3 in c:\\users\\jonma\\github_repos\\jonmatthis\\golem_garden\\venv\\lib\\site-packages (from aiohttp->openai) (4.0.2)\n",
      "Requirement already satisfied: yarl<2.0,>=1.0 in c:\\users\\jonma\\github_repos\\jonmatthis\\golem_garden\\venv\\lib\\site-packages (from aiohttp->openai) (1.8.2)\n",
      "Requirement already satisfied: frozenlist>=1.1.1 in c:\\users\\jonma\\github_repos\\jonmatthis\\golem_garden\\venv\\lib\\site-packages (from aiohttp->openai) (1.3.3)\n",
      "Requirement already satisfied: aiosignal>=1.1.2 in c:\\users\\jonma\\github_repos\\jonmatthis\\golem_garden\\venv\\lib\\site-packages (from aiohttp->openai) (1.3.1)\n",
      "Requirement already satisfied: colorama in c:\\users\\jonma\\github_repos\\jonmatthis\\golem_garden\\venv\\lib\\site-packages (from tqdm->openai) (0.4.6)\n",
      "Note: you may need to restart the kernel to use updated packages.\n",
      "Requirement already satisfied: langchain in c:\\users\\jonma\\github_repos\\jonmatthis\\golem_garden\\venv\\lib\\site-packages (0.0.146)\n",
      "Requirement already satisfied: PyYAML>=5.4.1 in c:\\users\\jonma\\github_repos\\jonmatthis\\golem_garden\\venv\\lib\\site-packages (from langchain) (6.0)\n",
      "Requirement already satisfied: SQLAlchemy<2,>=1 in c:\\users\\jonma\\github_repos\\jonmatthis\\golem_garden\\venv\\lib\\site-packages (from langchain) (1.4.47)\n",
      "Requirement already satisfied: aiohttp<4.0.0,>=3.8.3 in c:\\users\\jonma\\github_repos\\jonmatthis\\golem_garden\\venv\\lib\\site-packages (from langchain) (3.8.4)\n",
      "Requirement already satisfied: async-timeout<5.0.0,>=4.0.0 in c:\\users\\jonma\\github_repos\\jonmatthis\\golem_garden\\venv\\lib\\site-packages (from langchain) (4.0.2)\n",
      "Requirement already satisfied: dataclasses-json<0.6.0,>=0.5.7 in c:\\users\\jonma\\github_repos\\jonmatthis\\golem_garden\\venv\\lib\\site-packages (from langchain) (0.5.7)\n",
      "Requirement already satisfied: numexpr<3.0.0,>=2.8.4 in c:\\users\\jonma\\github_repos\\jonmatthis\\golem_garden\\venv\\lib\\site-packages (from langchain) (2.8.4)\n",
      "Requirement already satisfied: numpy<2,>=1 in c:\\users\\jonma\\github_repos\\jonmatthis\\golem_garden\\venv\\lib\\site-packages (from langchain) (1.24.2)\n",
      "Requirement already satisfied: openapi-schema-pydantic<2.0,>=1.2 in c:\\users\\jonma\\github_repos\\jonmatthis\\golem_garden\\venv\\lib\\site-packages (from langchain) (1.2.4)\n",
      "Requirement already satisfied: pydantic<2,>=1 in c:\\users\\jonma\\github_repos\\jonmatthis\\golem_garden\\venv\\lib\\site-packages (from langchain) (1.10.7)\n",
      "Requirement already satisfied: requests<3,>=2 in c:\\users\\jonma\\github_repos\\jonmatthis\\golem_garden\\venv\\lib\\site-packages (from langchain) (2.28.2)\n",
      "Requirement already satisfied: tenacity<9.0.0,>=8.1.0 in c:\\users\\jonma\\github_repos\\jonmatthis\\golem_garden\\venv\\lib\\site-packages (from langchain) (8.2.2)\n",
      "Requirement already satisfied: tqdm>=4.48.0 in c:\\users\\jonma\\github_repos\\jonmatthis\\golem_garden\\venv\\lib\\site-packages (from langchain) (4.65.0)\n",
      "Requirement already satisfied: attrs>=17.3.0 in c:\\users\\jonma\\github_repos\\jonmatthis\\golem_garden\\venv\\lib\\site-packages (from aiohttp<4.0.0,>=3.8.3->langchain) (22.2.0)\n",
      "Requirement already satisfied: charset-normalizer<4.0,>=2.0 in c:\\users\\jonma\\github_repos\\jonmatthis\\golem_garden\\venv\\lib\\site-packages (from aiohttp<4.0.0,>=3.8.3->langchain) (3.1.0)\n",
      "Requirement already satisfied: multidict<7.0,>=4.5 in c:\\users\\jonma\\github_repos\\jonmatthis\\golem_garden\\venv\\lib\\site-packages (from aiohttp<4.0.0,>=3.8.3->langchain) (6.0.4)\n",
      "Requirement already satisfied: yarl<2.0,>=1.0 in c:\\users\\jonma\\github_repos\\jonmatthis\\golem_garden\\venv\\lib\\site-packages (from aiohttp<4.0.0,>=3.8.3->langchain) (1.8.2)\n",
      "Requirement already satisfied: frozenlist>=1.1.1 in c:\\users\\jonma\\github_repos\\jonmatthis\\golem_garden\\venv\\lib\\site-packages (from aiohttp<4.0.0,>=3.8.3->langchain) (1.3.3)\n",
      "Requirement already satisfied: aiosignal>=1.1.2 in c:\\users\\jonma\\github_repos\\jonmatthis\\golem_garden\\venv\\lib\\site-packages (from aiohttp<4.0.0,>=3.8.3->langchain) (1.3.1)\n",
      "Requirement already satisfied: marshmallow<4.0.0,>=3.3.0 in c:\\users\\jonma\\github_repos\\jonmatthis\\golem_garden\\venv\\lib\\site-packages (from dataclasses-json<0.6.0,>=0.5.7->langchain) (3.19.0)\n",
      "Requirement already satisfied: marshmallow-enum<2.0.0,>=1.5.1 in c:\\users\\jonma\\github_repos\\jonmatthis\\golem_garden\\venv\\lib\\site-packages (from dataclasses-json<0.6.0,>=0.5.7->langchain) (1.5.1)\n",
      "Requirement already satisfied: typing-inspect>=0.4.0 in c:\\users\\jonma\\github_repos\\jonmatthis\\golem_garden\\venv\\lib\\site-packages (from dataclasses-json<0.6.0,>=0.5.7->langchain) (0.8.0)\n",
      "Requirement already satisfied: typing-extensions>=4.2.0 in c:\\users\\jonma\\github_repos\\jonmatthis\\golem_garden\\venv\\lib\\site-packages (from pydantic<2,>=1->langchain) (4.5.0)\n",
      "Requirement already satisfied: idna<4,>=2.5 in c:\\users\\jonma\\github_repos\\jonmatthis\\golem_garden\\venv\\lib\\site-packages (from requests<3,>=2->langchain) (3.4)\n",
      "Requirement already satisfied: urllib3<1.27,>=1.21.1 in c:\\users\\jonma\\github_repos\\jonmatthis\\golem_garden\\venv\\lib\\site-packages (from requests<3,>=2->langchain) (1.26.15)\n",
      "Requirement already satisfied: certifi>=2017.4.17 in c:\\users\\jonma\\github_repos\\jonmatthis\\golem_garden\\venv\\lib\\site-packages (from requests<3,>=2->langchain) (2022.12.7)\n",
      "Requirement already satisfied: greenlet!=0.4.17 in c:\\users\\jonma\\github_repos\\jonmatthis\\golem_garden\\venv\\lib\\site-packages (from SQLAlchemy<2,>=1->langchain) (2.0.2)\n",
      "Requirement already satisfied: colorama in c:\\users\\jonma\\github_repos\\jonmatthis\\golem_garden\\venv\\lib\\site-packages (from tqdm>=4.48.0->langchain) (0.4.6)\n",
      "Requirement already satisfied: packaging>=17.0 in c:\\users\\jonma\\github_repos\\jonmatthis\\golem_garden\\venv\\lib\\site-packages (from marshmallow<4.0.0,>=3.3.0->dataclasses-json<0.6.0,>=0.5.7->langchain) (23.1)\n",
      "Requirement already satisfied: mypy-extensions>=0.3.0 in c:\\users\\jonma\\github_repos\\jonmatthis\\golem_garden\\venv\\lib\\site-packages (from typing-inspect>=0.4.0->dataclasses-json<0.6.0,>=0.5.7->langchain) (1.0.0)\n",
      "Note: you may need to restart the kernel to use updated packages.\n",
      "Requirement already satisfied: tiktoken in c:\\users\\jonma\\github_repos\\jonmatthis\\golem_garden\\venv\\lib\\site-packages (0.3.3)\n",
      "Requirement already satisfied: regex>=2022.1.18 in c:\\users\\jonma\\github_repos\\jonmatthis\\golem_garden\\venv\\lib\\site-packages (from tiktoken) (2023.3.23)\n",
      "Requirement already satisfied: requests>=2.26.0 in c:\\users\\jonma\\github_repos\\jonmatthis\\golem_garden\\venv\\lib\\site-packages (from tiktoken) (2.28.2)\n",
      "Requirement already satisfied: charset-normalizer<4,>=2 in c:\\users\\jonma\\github_repos\\jonmatthis\\golem_garden\\venv\\lib\\site-packages (from requests>=2.26.0->tiktoken) (3.1.0)\n",
      "Requirement already satisfied: idna<4,>=2.5 in c:\\users\\jonma\\github_repos\\jonmatthis\\golem_garden\\venv\\lib\\site-packages (from requests>=2.26.0->tiktoken) (3.4)\n",
      "Requirement already satisfied: urllib3<1.27,>=1.21.1 in c:\\users\\jonma\\github_repos\\jonmatthis\\golem_garden\\venv\\lib\\site-packages (from requests>=2.26.0->tiktoken) (1.26.15)\n",
      "Requirement already satisfied: certifi>=2017.4.17 in c:\\users\\jonma\\github_repos\\jonmatthis\\golem_garden\\venv\\lib\\site-packages (from requests>=2.26.0->tiktoken) (2022.12.7)\n",
      "Note: you may need to restart the kernel to use updated packages.\n",
      "Requirement already satisfied: sentence_transformers in c:\\users\\jonma\\github_repos\\jonmatthis\\golem_garden\\venv\\lib\\site-packages (2.2.2)\n",
      "Requirement already satisfied: transformers<5.0.0,>=4.6.0 in c:\\users\\jonma\\github_repos\\jonmatthis\\golem_garden\\venv\\lib\\site-packages (from sentence_transformers) (4.28.1)\n",
      "Requirement already satisfied: tqdm in c:\\users\\jonma\\github_repos\\jonmatthis\\golem_garden\\venv\\lib\\site-packages (from sentence_transformers) (4.65.0)\n",
      "Requirement already satisfied: torch>=1.6.0 in c:\\users\\jonma\\github_repos\\jonmatthis\\golem_garden\\venv\\lib\\site-packages (from sentence_transformers) (2.0.0)\n",
      "Requirement already satisfied: torchvision in c:\\users\\jonma\\github_repos\\jonmatthis\\golem_garden\\venv\\lib\\site-packages (from sentence_transformers) (0.15.1)\n",
      "Requirement already satisfied: numpy in c:\\users\\jonma\\github_repos\\jonmatthis\\golem_garden\\venv\\lib\\site-packages (from sentence_transformers) (1.24.2)\n",
      "Requirement already satisfied: scikit-learn in c:\\users\\jonma\\github_repos\\jonmatthis\\golem_garden\\venv\\lib\\site-packages (from sentence_transformers) (1.2.2)\n",
      "Requirement already satisfied: scipy in c:\\users\\jonma\\github_repos\\jonmatthis\\golem_garden\\venv\\lib\\site-packages (from sentence_transformers) (1.10.1)\n",
      "Requirement already satisfied: nltk in c:\\users\\jonma\\github_repos\\jonmatthis\\golem_garden\\venv\\lib\\site-packages (from sentence_transformers) (3.8.1)\n",
      "Requirement already satisfied: sentencepiece in c:\\users\\jonma\\github_repos\\jonmatthis\\golem_garden\\venv\\lib\\site-packages (from sentence_transformers) (0.1.98)\n",
      "Requirement already satisfied: huggingface-hub>=0.4.0 in c:\\users\\jonma\\github_repos\\jonmatthis\\golem_garden\\venv\\lib\\site-packages (from sentence_transformers) (0.13.4)\n",
      "Requirement already satisfied: filelock in c:\\users\\jonma\\github_repos\\jonmatthis\\golem_garden\\venv\\lib\\site-packages (from huggingface-hub>=0.4.0->sentence_transformers) (3.12.0)\n",
      "Requirement already satisfied: requests in c:\\users\\jonma\\github_repos\\jonmatthis\\golem_garden\\venv\\lib\\site-packages (from huggingface-hub>=0.4.0->sentence_transformers) (2.28.2)\n",
      "Requirement already satisfied: pyyaml>=5.1 in c:\\users\\jonma\\github_repos\\jonmatthis\\golem_garden\\venv\\lib\\site-packages (from huggingface-hub>=0.4.0->sentence_transformers) (6.0)\n",
      "Requirement already satisfied: typing-extensions>=3.7.4.3 in c:\\users\\jonma\\github_repos\\jonmatthis\\golem_garden\\venv\\lib\\site-packages (from huggingface-hub>=0.4.0->sentence_transformers) (4.5.0)\n",
      "Requirement already satisfied: packaging>=20.9 in c:\\users\\jonma\\github_repos\\jonmatthis\\golem_garden\\venv\\lib\\site-packages (from huggingface-hub>=0.4.0->sentence_transformers) (23.1)\n",
      "Requirement already satisfied: sympy in c:\\users\\jonma\\github_repos\\jonmatthis\\golem_garden\\venv\\lib\\site-packages (from torch>=1.6.0->sentence_transformers) (1.11.1)\n",
      "Requirement already satisfied: networkx in c:\\users\\jonma\\github_repos\\jonmatthis\\golem_garden\\venv\\lib\\site-packages (from torch>=1.6.0->sentence_transformers) (3.1)\n",
      "Requirement already satisfied: jinja2 in c:\\users\\jonma\\github_repos\\jonmatthis\\golem_garden\\venv\\lib\\site-packages (from torch>=1.6.0->sentence_transformers) (3.1.2)\n",
      "Requirement already satisfied: colorama in c:\\users\\jonma\\github_repos\\jonmatthis\\golem_garden\\venv\\lib\\site-packages (from tqdm->sentence_transformers) (0.4.6)\n",
      "Requirement already satisfied: regex!=2019.12.17 in c:\\users\\jonma\\github_repos\\jonmatthis\\golem_garden\\venv\\lib\\site-packages (from transformers<5.0.0,>=4.6.0->sentence_transformers) (2023.3.23)\n",
      "Requirement already satisfied: tokenizers!=0.11.3,<0.14,>=0.11.1 in c:\\users\\jonma\\github_repos\\jonmatthis\\golem_garden\\venv\\lib\\site-packages (from transformers<5.0.0,>=4.6.0->sentence_transformers) (0.13.3)\n",
      "Requirement already satisfied: click in c:\\users\\jonma\\github_repos\\jonmatthis\\golem_garden\\venv\\lib\\site-packages (from nltk->sentence_transformers) (8.1.3)\n",
      "Requirement already satisfied: joblib in c:\\users\\jonma\\github_repos\\jonmatthis\\golem_garden\\venv\\lib\\site-packages (from nltk->sentence_transformers) (1.2.0)\n",
      "Requirement already satisfied: threadpoolctl>=2.0.0 in c:\\users\\jonma\\github_repos\\jonmatthis\\golem_garden\\venv\\lib\\site-packages (from scikit-learn->sentence_transformers) (3.1.0)\n",
      "Requirement already satisfied: pillow!=8.3.*,>=5.3.0 in c:\\users\\jonma\\github_repos\\jonmatthis\\golem_garden\\venv\\lib\\site-packages (from torchvision->sentence_transformers) (9.5.0)\n",
      "Requirement already satisfied: MarkupSafe>=2.0 in c:\\users\\jonma\\github_repos\\jonmatthis\\golem_garden\\venv\\lib\\site-packages (from jinja2->torch>=1.6.0->sentence_transformers) (2.1.2)\n",
      "Requirement already satisfied: charset-normalizer<4,>=2 in c:\\users\\jonma\\github_repos\\jonmatthis\\golem_garden\\venv\\lib\\site-packages (from requests->huggingface-hub>=0.4.0->sentence_transformers) (3.1.0)\n",
      "Requirement already satisfied: idna<4,>=2.5 in c:\\users\\jonma\\github_repos\\jonmatthis\\golem_garden\\venv\\lib\\site-packages (from requests->huggingface-hub>=0.4.0->sentence_transformers) (3.4)\n",
      "Requirement already satisfied: urllib3<1.27,>=1.21.1 in c:\\users\\jonma\\github_repos\\jonmatthis\\golem_garden\\venv\\lib\\site-packages (from requests->huggingface-hub>=0.4.0->sentence_transformers) (1.26.15)\n",
      "Requirement already satisfied: certifi>=2017.4.17 in c:\\users\\jonma\\github_repos\\jonmatthis\\golem_garden\\venv\\lib\\site-packages (from requests->huggingface-hub>=0.4.0->sentence_transformers) (2022.12.7)\n",
      "Requirement already satisfied: mpmath>=0.19 in c:\\users\\jonma\\github_repos\\jonmatthis\\golem_garden\\venv\\lib\\site-packages (from sympy->torch>=1.6.0->sentence_transformers) (1.3.0)\n",
      "Note: you may need to restart the kernel to use updated packages.\n"
     ]
    }
   ],
   "source": [
    "\n",
    "%pip install faiss-cpu\n",
    "%pip install openai\n",
    "%pip install langchain\n",
    "%pip install tiktoken\n",
    "%pip install sentence_transformers"
   ]
  },
  {
   "cell_type": "code",
   "execution_count": 2,
   "id": "c8a354b6",
   "metadata": {},
   "outputs": [],
   "source": [
    "import os\n",
    "from collections import deque\n",
    "from typing import Dict, List, Optional, Any\n",
    "\n",
    "from langchain import LLMChain, OpenAI, PromptTemplate\n",
    "from langchain.embeddings import HuggingFaceEmbeddings\n",
    "from langchain.llms import BaseLLM\n",
    "from langchain.vectorstores.base import VectorStore\n",
    "from pydantic import BaseModel, Field\n",
    "from langchain.chains.base import Chain\n",
    "from langchain.experimental import BabyAGI"
   ]
  },
  {
   "cell_type": "markdown",
   "id": "09f70772",
   "metadata": {},
   "source": [
    "## Connect to the Vector Store\n",
    "\n",
    "Depending on what vectorstore you use, this step may look different."
   ]
  },
  {
   "cell_type": "code",
   "execution_count": 3,
   "id": "794045d4",
   "metadata": {},
   "outputs": [],
   "source": []
  },
  {
   "cell_type": "code",
   "execution_count": 9,
   "id": "6e0305eb",
   "metadata": {},
   "outputs": [
    {
     "name": "stdout",
     "output_type": "stream",
     "text": [
      "\u001b[95m\u001b[1m\n",
      "*****TASK LIST*****\n",
      "\u001b[0m\u001b[0m\n",
      "1: Make a todo list\n",
      "\u001b[92m\u001b[1m\n",
      "*****NEXT TASK*****\n",
      "\u001b[0m\u001b[0m\n",
      "1: Make a todo list\n"
     ]
    },
    {
     "ename": "AssertionError",
     "evalue": "",
     "output_type": "error",
     "traceback": [
      "\u001b[1;31m---------------------------------------------------------------------------\u001b[0m",
      "\u001b[1;31mAssertionError\u001b[0m                            Traceback (most recent call last)",
      "Cell \u001b[1;32mIn[9], line 27\u001b[0m\n\u001b[0;32m     22\u001b[0m baby_agi \u001b[39m=\u001b[39m BabyAGI\u001b[39m.\u001b[39mfrom_llm(\n\u001b[0;32m     23\u001b[0m     llm\u001b[39m=\u001b[39mllm, vectorstore\u001b[39m=\u001b[39mvectorstore, verbose\u001b[39m=\u001b[39mverbose, max_iterations\u001b[39m=\u001b[39mmax_iterations\n\u001b[0;32m     24\u001b[0m )\n\u001b[0;32m     26\u001b[0m OBJECTIVE \u001b[39m=\u001b[39m \u001b[39m\"\u001b[39m\u001b[39mWrite a weather report for Boston today\u001b[39m\u001b[39m\"\u001b[39m\n\u001b[1;32m---> 27\u001b[0m baby_agi({\u001b[39m\"\u001b[39;49m\u001b[39mobjective\u001b[39;49m\u001b[39m\"\u001b[39;49m: OBJECTIVE})\n",
      "File \u001b[1;32mc:\\Users\\jonma\\github_repos\\jonmatthis\\golem_garden\\venv\\lib\\site-packages\\langchain\\chains\\base.py:116\u001b[0m, in \u001b[0;36mChain.__call__\u001b[1;34m(self, inputs, return_only_outputs)\u001b[0m\n\u001b[0;32m    114\u001b[0m \u001b[39mexcept\u001b[39;00m (\u001b[39mKeyboardInterrupt\u001b[39;00m, \u001b[39mException\u001b[39;00m) \u001b[39mas\u001b[39;00m e:\n\u001b[0;32m    115\u001b[0m     \u001b[39mself\u001b[39m\u001b[39m.\u001b[39mcallback_manager\u001b[39m.\u001b[39mon_chain_error(e, verbose\u001b[39m=\u001b[39m\u001b[39mself\u001b[39m\u001b[39m.\u001b[39mverbose)\n\u001b[1;32m--> 116\u001b[0m     \u001b[39mraise\u001b[39;00m e\n\u001b[0;32m    117\u001b[0m \u001b[39mself\u001b[39m\u001b[39m.\u001b[39mcallback_manager\u001b[39m.\u001b[39mon_chain_end(outputs, verbose\u001b[39m=\u001b[39m\u001b[39mself\u001b[39m\u001b[39m.\u001b[39mverbose)\n\u001b[0;32m    118\u001b[0m \u001b[39mreturn\u001b[39;00m \u001b[39mself\u001b[39m\u001b[39m.\u001b[39mprep_outputs(inputs, outputs, return_only_outputs)\n",
      "File \u001b[1;32mc:\\Users\\jonma\\github_repos\\jonmatthis\\golem_garden\\venv\\lib\\site-packages\\langchain\\chains\\base.py:113\u001b[0m, in \u001b[0;36mChain.__call__\u001b[1;34m(self, inputs, return_only_outputs)\u001b[0m\n\u001b[0;32m    107\u001b[0m \u001b[39mself\u001b[39m\u001b[39m.\u001b[39mcallback_manager\u001b[39m.\u001b[39mon_chain_start(\n\u001b[0;32m    108\u001b[0m     {\u001b[39m\"\u001b[39m\u001b[39mname\u001b[39m\u001b[39m\"\u001b[39m: \u001b[39mself\u001b[39m\u001b[39m.\u001b[39m\u001b[39m__class__\u001b[39m\u001b[39m.\u001b[39m\u001b[39m__name__\u001b[39m},\n\u001b[0;32m    109\u001b[0m     inputs,\n\u001b[0;32m    110\u001b[0m     verbose\u001b[39m=\u001b[39m\u001b[39mself\u001b[39m\u001b[39m.\u001b[39mverbose,\n\u001b[0;32m    111\u001b[0m )\n\u001b[0;32m    112\u001b[0m \u001b[39mtry\u001b[39;00m:\n\u001b[1;32m--> 113\u001b[0m     outputs \u001b[39m=\u001b[39m \u001b[39mself\u001b[39;49m\u001b[39m.\u001b[39;49m_call(inputs)\n\u001b[0;32m    114\u001b[0m \u001b[39mexcept\u001b[39;00m (\u001b[39mKeyboardInterrupt\u001b[39;00m, \u001b[39mException\u001b[39;00m) \u001b[39mas\u001b[39;00m e:\n\u001b[0;32m    115\u001b[0m     \u001b[39mself\u001b[39m\u001b[39m.\u001b[39mcallback_manager\u001b[39m.\u001b[39mon_chain_error(e, verbose\u001b[39m=\u001b[39m\u001b[39mself\u001b[39m\u001b[39m.\u001b[39mverbose)\n",
      "File \u001b[1;32mc:\\Users\\jonma\\github_repos\\jonmatthis\\golem_garden\\venv\\lib\\site-packages\\langchain\\experimental\\autonomous_agents\\baby_agi\\baby_agi.py:130\u001b[0m, in \u001b[0;36mBabyAGI._call\u001b[1;34m(self, inputs)\u001b[0m\n\u001b[0;32m    127\u001b[0m \u001b[39mself\u001b[39m\u001b[39m.\u001b[39mprint_next_task(task)\n\u001b[0;32m    129\u001b[0m \u001b[39m# Step 2: Execute the task\u001b[39;00m\n\u001b[1;32m--> 130\u001b[0m result \u001b[39m=\u001b[39m \u001b[39mself\u001b[39;49m\u001b[39m.\u001b[39;49mexecute_task(objective, task[\u001b[39m\"\u001b[39;49m\u001b[39mtask_name\u001b[39;49m\u001b[39m\"\u001b[39;49m])\n\u001b[0;32m    131\u001b[0m this_task_id \u001b[39m=\u001b[39m \u001b[39mint\u001b[39m(task[\u001b[39m\"\u001b[39m\u001b[39mtask_id\u001b[39m\u001b[39m\"\u001b[39m])\n\u001b[0;32m    132\u001b[0m \u001b[39mself\u001b[39m\u001b[39m.\u001b[39mprint_task_result(result)\n",
      "File \u001b[1;32mc:\\Users\\jonma\\github_repos\\jonmatthis\\golem_garden\\venv\\lib\\site-packages\\langchain\\experimental\\autonomous_agents\\baby_agi\\baby_agi.py:110\u001b[0m, in \u001b[0;36mBabyAGI.execute_task\u001b[1;34m(self, objective, task, k)\u001b[0m\n\u001b[0;32m    108\u001b[0m \u001b[39mdef\u001b[39;00m \u001b[39mexecute_task\u001b[39m(\u001b[39mself\u001b[39m, objective: \u001b[39mstr\u001b[39m, task: \u001b[39mstr\u001b[39m, k: \u001b[39mint\u001b[39m \u001b[39m=\u001b[39m \u001b[39m5\u001b[39m) \u001b[39m-\u001b[39m\u001b[39m>\u001b[39m \u001b[39mstr\u001b[39m:\n\u001b[0;32m    109\u001b[0m \u001b[39m    \u001b[39m\u001b[39m\"\"\"Execute a task.\"\"\"\u001b[39;00m\n\u001b[1;32m--> 110\u001b[0m     context \u001b[39m=\u001b[39m \u001b[39mself\u001b[39;49m\u001b[39m.\u001b[39;49m_get_top_tasks(query\u001b[39m=\u001b[39;49mobjective, k\u001b[39m=\u001b[39;49mk)\n\u001b[0;32m    111\u001b[0m     \u001b[39mreturn\u001b[39;00m \u001b[39mself\u001b[39m\u001b[39m.\u001b[39mexecution_chain\u001b[39m.\u001b[39mrun(\n\u001b[0;32m    112\u001b[0m         objective\u001b[39m=\u001b[39mobjective, context\u001b[39m=\u001b[39m\u001b[39m\"\u001b[39m\u001b[39m\\n\u001b[39;00m\u001b[39m\"\u001b[39m\u001b[39m.\u001b[39mjoin(context), task\u001b[39m=\u001b[39mtask\n\u001b[0;32m    113\u001b[0m     )\n",
      "File \u001b[1;32mc:\\Users\\jonma\\github_repos\\jonmatthis\\golem_garden\\venv\\lib\\site-packages\\langchain\\experimental\\autonomous_agents\\baby_agi\\baby_agi.py:103\u001b[0m, in \u001b[0;36mBabyAGI._get_top_tasks\u001b[1;34m(self, query, k)\u001b[0m\n\u001b[0;32m    101\u001b[0m \u001b[39mdef\u001b[39;00m \u001b[39m_get_top_tasks\u001b[39m(\u001b[39mself\u001b[39m, query: \u001b[39mstr\u001b[39m, k: \u001b[39mint\u001b[39m) \u001b[39m-\u001b[39m\u001b[39m>\u001b[39m List[\u001b[39mstr\u001b[39m]:\n\u001b[0;32m    102\u001b[0m \u001b[39m    \u001b[39m\u001b[39m\"\"\"Get the top k tasks based on the query.\"\"\"\u001b[39;00m\n\u001b[1;32m--> 103\u001b[0m     results \u001b[39m=\u001b[39m \u001b[39mself\u001b[39;49m\u001b[39m.\u001b[39;49mvectorstore\u001b[39m.\u001b[39;49msimilarity_search(query, k\u001b[39m=\u001b[39;49mk)\n\u001b[0;32m    104\u001b[0m     \u001b[39mif\u001b[39;00m \u001b[39mnot\u001b[39;00m results:\n\u001b[0;32m    105\u001b[0m         \u001b[39mreturn\u001b[39;00m []\n",
      "File \u001b[1;32mc:\\Users\\jonma\\github_repos\\jonmatthis\\golem_garden\\venv\\lib\\site-packages\\langchain\\vectorstores\\faiss.py:226\u001b[0m, in \u001b[0;36mFAISS.similarity_search\u001b[1;34m(self, query, k, **kwargs)\u001b[0m\n\u001b[0;32m    214\u001b[0m \u001b[39mdef\u001b[39;00m \u001b[39msimilarity_search\u001b[39m(\n\u001b[0;32m    215\u001b[0m     \u001b[39mself\u001b[39m, query: \u001b[39mstr\u001b[39m, k: \u001b[39mint\u001b[39m \u001b[39m=\u001b[39m \u001b[39m4\u001b[39m, \u001b[39m*\u001b[39m\u001b[39m*\u001b[39mkwargs: Any\n\u001b[0;32m    216\u001b[0m ) \u001b[39m-\u001b[39m\u001b[39m>\u001b[39m List[Document]:\n\u001b[0;32m    217\u001b[0m \u001b[39m    \u001b[39m\u001b[39m\"\"\"Return docs most similar to query.\u001b[39;00m\n\u001b[0;32m    218\u001b[0m \n\u001b[0;32m    219\u001b[0m \u001b[39m    Args:\u001b[39;00m\n\u001b[1;32m   (...)\u001b[0m\n\u001b[0;32m    224\u001b[0m \u001b[39m        List of Documents most similar to the query.\u001b[39;00m\n\u001b[0;32m    225\u001b[0m \u001b[39m    \"\"\"\u001b[39;00m\n\u001b[1;32m--> 226\u001b[0m     docs_and_scores \u001b[39m=\u001b[39m \u001b[39mself\u001b[39;49m\u001b[39m.\u001b[39;49msimilarity_search_with_score(query, k)\n\u001b[0;32m    227\u001b[0m     \u001b[39mreturn\u001b[39;00m [doc \u001b[39mfor\u001b[39;00m doc, _ \u001b[39min\u001b[39;00m docs_and_scores]\n",
      "File \u001b[1;32mc:\\Users\\jonma\\github_repos\\jonmatthis\\golem_garden\\venv\\lib\\site-packages\\langchain\\vectorstores\\faiss.py:196\u001b[0m, in \u001b[0;36mFAISS.similarity_search_with_score\u001b[1;34m(self, query, k)\u001b[0m\n\u001b[0;32m    186\u001b[0m \u001b[39m\u001b[39m\u001b[39m\"\"\"Return docs most similar to query.\u001b[39;00m\n\u001b[0;32m    187\u001b[0m \n\u001b[0;32m    188\u001b[0m \u001b[39mArgs:\u001b[39;00m\n\u001b[1;32m   (...)\u001b[0m\n\u001b[0;32m    193\u001b[0m \u001b[39m    List of Documents most similar to the query and score for each\u001b[39;00m\n\u001b[0;32m    194\u001b[0m \u001b[39m\"\"\"\u001b[39;00m\n\u001b[0;32m    195\u001b[0m embedding \u001b[39m=\u001b[39m \u001b[39mself\u001b[39m\u001b[39m.\u001b[39membedding_function(query)\n\u001b[1;32m--> 196\u001b[0m docs \u001b[39m=\u001b[39m \u001b[39mself\u001b[39;49m\u001b[39m.\u001b[39;49msimilarity_search_with_score_by_vector(embedding, k)\n\u001b[0;32m    197\u001b[0m \u001b[39mreturn\u001b[39;00m docs\n",
      "File \u001b[1;32mc:\\Users\\jonma\\github_repos\\jonmatthis\\golem_garden\\venv\\lib\\site-packages\\langchain\\vectorstores\\faiss.py:170\u001b[0m, in \u001b[0;36mFAISS.similarity_search_with_score_by_vector\u001b[1;34m(self, embedding, k)\u001b[0m\n\u001b[0;32m    158\u001b[0m \u001b[39mdef\u001b[39;00m \u001b[39msimilarity_search_with_score_by_vector\u001b[39m(\n\u001b[0;32m    159\u001b[0m     \u001b[39mself\u001b[39m, embedding: List[\u001b[39mfloat\u001b[39m], k: \u001b[39mint\u001b[39m \u001b[39m=\u001b[39m \u001b[39m4\u001b[39m\n\u001b[0;32m    160\u001b[0m ) \u001b[39m-\u001b[39m\u001b[39m>\u001b[39m List[Tuple[Document, \u001b[39mfloat\u001b[39m]]:\n\u001b[0;32m    161\u001b[0m \u001b[39m    \u001b[39m\u001b[39m\"\"\"Return docs most similar to query.\u001b[39;00m\n\u001b[0;32m    162\u001b[0m \n\u001b[0;32m    163\u001b[0m \u001b[39m    Args:\u001b[39;00m\n\u001b[1;32m   (...)\u001b[0m\n\u001b[0;32m    168\u001b[0m \u001b[39m        List of Documents most similar to the query and score for each\u001b[39;00m\n\u001b[0;32m    169\u001b[0m \u001b[39m    \"\"\"\u001b[39;00m\n\u001b[1;32m--> 170\u001b[0m     scores, indices \u001b[39m=\u001b[39m \u001b[39mself\u001b[39;49m\u001b[39m.\u001b[39;49mindex\u001b[39m.\u001b[39;49msearch(np\u001b[39m.\u001b[39;49marray([embedding], dtype\u001b[39m=\u001b[39;49mnp\u001b[39m.\u001b[39;49mfloat32), k)\n\u001b[0;32m    171\u001b[0m     docs \u001b[39m=\u001b[39m []\n\u001b[0;32m    172\u001b[0m     \u001b[39mfor\u001b[39;00m j, i \u001b[39min\u001b[39;00m \u001b[39menumerate\u001b[39m(indices[\u001b[39m0\u001b[39m]):\n",
      "File \u001b[1;32mc:\\Users\\jonma\\github_repos\\jonmatthis\\golem_garden\\venv\\lib\\site-packages\\faiss\\class_wrappers.py:329\u001b[0m, in \u001b[0;36mhandle_Index.<locals>.replacement_search\u001b[1;34m(self, x, k, params, D, I)\u001b[0m\n\u001b[0;32m    327\u001b[0m n, d \u001b[39m=\u001b[39m x\u001b[39m.\u001b[39mshape\n\u001b[0;32m    328\u001b[0m x \u001b[39m=\u001b[39m np\u001b[39m.\u001b[39mascontiguousarray(x, dtype\u001b[39m=\u001b[39m\u001b[39m'\u001b[39m\u001b[39mfloat32\u001b[39m\u001b[39m'\u001b[39m)\n\u001b[1;32m--> 329\u001b[0m \u001b[39massert\u001b[39;00m d \u001b[39m==\u001b[39m \u001b[39mself\u001b[39m\u001b[39m.\u001b[39md\n\u001b[0;32m    331\u001b[0m \u001b[39massert\u001b[39;00m k \u001b[39m>\u001b[39m \u001b[39m0\u001b[39m\n\u001b[0;32m    333\u001b[0m \u001b[39mif\u001b[39;00m D \u001b[39mis\u001b[39;00m \u001b[39mNone\u001b[39;00m:\n",
      "\u001b[1;31mAssertionError\u001b[0m: "
     ]
    }
   ],
   "source": [
    "# Define your embedding model\n",
    "from langchain.vectorstores import FAISS\n",
    "from langchain.docstore import InMemoryDocstore\n",
    "from langchain.embeddings import HuggingFaceEmbeddings\n",
    "\n",
    "embeddings_model = HuggingFaceEmbeddings()\n",
    "# Initialize the vectorstore as empty\n",
    "import faiss\n",
    "\n",
    "embedding_size = 384\n",
    "index = faiss.IndexFlatL2(embedding_size)\n",
    "vectorstore = FAISS(embeddings_model.embed_query, index, InMemoryDocstore({}), {})\n",
    "\n",
    "\n",
    "\n",
    "llm = OpenAI(temperature=0)\n",
    "\n",
    "# Logging of LLMChains\n",
    "verbose = False\n",
    "# If None, will keep on going forever\n",
    "max_iterations: Optional[int] = 3\n",
    "baby_agi = BabyAGI.from_llm(\n",
    "    llm=llm, vectorstore=vectorstore, verbose=verbose, max_iterations=max_iterations\n",
    ")\n",
    "\n",
    "OBJECTIVE = \"Write a weather report for Boston today\"\n",
    "baby_agi({\"objective\": OBJECTIVE})"
   ]
  },
  {
   "cell_type": "markdown",
   "id": "05ba762e",
   "metadata": {},
   "source": [
    "### Run the BabyAGI\n",
    "\n",
    "Now it's time to create the BabyAGI controller and watch it try to accomplish your objective."
   ]
  },
  {
   "cell_type": "code",
   "execution_count": 5,
   "id": "3d220b69",
   "metadata": {},
   "outputs": [],
   "source": []
  },
  {
   "cell_type": "code",
   "execution_count": 6,
   "id": "8a8e5543",
   "metadata": {},
   "outputs": [],
   "source": []
  },
  {
   "cell_type": "code",
   "execution_count": 7,
   "id": "3d69899b",
   "metadata": {},
   "outputs": [],
   "source": []
  },
  {
   "cell_type": "code",
   "execution_count": 8,
   "id": "f7957b51",
   "metadata": {
    "scrolled": false
   },
   "outputs": [
    {
     "name": "stdout",
     "output_type": "stream",
     "text": [
      "\u001b[95m\u001b[1m\n",
      "*****TASK LIST*****\n",
      "\u001b[0m\u001b[0m\n",
      "1: Make a todo list\n",
      "\u001b[92m\u001b[1m\n",
      "*****NEXT TASK*****\n",
      "\u001b[0m\u001b[0m\n",
      "1: Make a todo list\n"
     ]
    },
    {
     "ename": "AssertionError",
     "evalue": "",
     "output_type": "error",
     "traceback": [
      "\u001b[1;31m---------------------------------------------------------------------------\u001b[0m",
      "\u001b[1;31mAssertionError\u001b[0m                            Traceback (most recent call last)",
      "Cell \u001b[1;32mIn[8], line 1\u001b[0m\n\u001b[1;32m----> 1\u001b[0m baby_agi({\u001b[39m\"\u001b[39;49m\u001b[39mobjective\u001b[39;49m\u001b[39m\"\u001b[39;49m: OBJECTIVE})\n",
      "File \u001b[1;32mc:\\Users\\jonma\\github_repos\\jonmatthis\\golem_garden\\venv\\lib\\site-packages\\langchain\\chains\\base.py:116\u001b[0m, in \u001b[0;36mChain.__call__\u001b[1;34m(self, inputs, return_only_outputs)\u001b[0m\n\u001b[0;32m    114\u001b[0m \u001b[39mexcept\u001b[39;00m (\u001b[39mKeyboardInterrupt\u001b[39;00m, \u001b[39mException\u001b[39;00m) \u001b[39mas\u001b[39;00m e:\n\u001b[0;32m    115\u001b[0m     \u001b[39mself\u001b[39m\u001b[39m.\u001b[39mcallback_manager\u001b[39m.\u001b[39mon_chain_error(e, verbose\u001b[39m=\u001b[39m\u001b[39mself\u001b[39m\u001b[39m.\u001b[39mverbose)\n\u001b[1;32m--> 116\u001b[0m     \u001b[39mraise\u001b[39;00m e\n\u001b[0;32m    117\u001b[0m \u001b[39mself\u001b[39m\u001b[39m.\u001b[39mcallback_manager\u001b[39m.\u001b[39mon_chain_end(outputs, verbose\u001b[39m=\u001b[39m\u001b[39mself\u001b[39m\u001b[39m.\u001b[39mverbose)\n\u001b[0;32m    118\u001b[0m \u001b[39mreturn\u001b[39;00m \u001b[39mself\u001b[39m\u001b[39m.\u001b[39mprep_outputs(inputs, outputs, return_only_outputs)\n",
      "File \u001b[1;32mc:\\Users\\jonma\\github_repos\\jonmatthis\\golem_garden\\venv\\lib\\site-packages\\langchain\\chains\\base.py:113\u001b[0m, in \u001b[0;36mChain.__call__\u001b[1;34m(self, inputs, return_only_outputs)\u001b[0m\n\u001b[0;32m    107\u001b[0m \u001b[39mself\u001b[39m\u001b[39m.\u001b[39mcallback_manager\u001b[39m.\u001b[39mon_chain_start(\n\u001b[0;32m    108\u001b[0m     {\u001b[39m\"\u001b[39m\u001b[39mname\u001b[39m\u001b[39m\"\u001b[39m: \u001b[39mself\u001b[39m\u001b[39m.\u001b[39m\u001b[39m__class__\u001b[39m\u001b[39m.\u001b[39m\u001b[39m__name__\u001b[39m},\n\u001b[0;32m    109\u001b[0m     inputs,\n\u001b[0;32m    110\u001b[0m     verbose\u001b[39m=\u001b[39m\u001b[39mself\u001b[39m\u001b[39m.\u001b[39mverbose,\n\u001b[0;32m    111\u001b[0m )\n\u001b[0;32m    112\u001b[0m \u001b[39mtry\u001b[39;00m:\n\u001b[1;32m--> 113\u001b[0m     outputs \u001b[39m=\u001b[39m \u001b[39mself\u001b[39;49m\u001b[39m.\u001b[39;49m_call(inputs)\n\u001b[0;32m    114\u001b[0m \u001b[39mexcept\u001b[39;00m (\u001b[39mKeyboardInterrupt\u001b[39;00m, \u001b[39mException\u001b[39;00m) \u001b[39mas\u001b[39;00m e:\n\u001b[0;32m    115\u001b[0m     \u001b[39mself\u001b[39m\u001b[39m.\u001b[39mcallback_manager\u001b[39m.\u001b[39mon_chain_error(e, verbose\u001b[39m=\u001b[39m\u001b[39mself\u001b[39m\u001b[39m.\u001b[39mverbose)\n",
      "File \u001b[1;32mc:\\Users\\jonma\\github_repos\\jonmatthis\\golem_garden\\venv\\lib\\site-packages\\langchain\\experimental\\autonomous_agents\\baby_agi\\baby_agi.py:130\u001b[0m, in \u001b[0;36mBabyAGI._call\u001b[1;34m(self, inputs)\u001b[0m\n\u001b[0;32m    127\u001b[0m \u001b[39mself\u001b[39m\u001b[39m.\u001b[39mprint_next_task(task)\n\u001b[0;32m    129\u001b[0m \u001b[39m# Step 2: Execute the task\u001b[39;00m\n\u001b[1;32m--> 130\u001b[0m result \u001b[39m=\u001b[39m \u001b[39mself\u001b[39;49m\u001b[39m.\u001b[39;49mexecute_task(objective, task[\u001b[39m\"\u001b[39;49m\u001b[39mtask_name\u001b[39;49m\u001b[39m\"\u001b[39;49m])\n\u001b[0;32m    131\u001b[0m this_task_id \u001b[39m=\u001b[39m \u001b[39mint\u001b[39m(task[\u001b[39m\"\u001b[39m\u001b[39mtask_id\u001b[39m\u001b[39m\"\u001b[39m])\n\u001b[0;32m    132\u001b[0m \u001b[39mself\u001b[39m\u001b[39m.\u001b[39mprint_task_result(result)\n",
      "File \u001b[1;32mc:\\Users\\jonma\\github_repos\\jonmatthis\\golem_garden\\venv\\lib\\site-packages\\langchain\\experimental\\autonomous_agents\\baby_agi\\baby_agi.py:110\u001b[0m, in \u001b[0;36mBabyAGI.execute_task\u001b[1;34m(self, objective, task, k)\u001b[0m\n\u001b[0;32m    108\u001b[0m \u001b[39mdef\u001b[39;00m \u001b[39mexecute_task\u001b[39m(\u001b[39mself\u001b[39m, objective: \u001b[39mstr\u001b[39m, task: \u001b[39mstr\u001b[39m, k: \u001b[39mint\u001b[39m \u001b[39m=\u001b[39m \u001b[39m5\u001b[39m) \u001b[39m-\u001b[39m\u001b[39m>\u001b[39m \u001b[39mstr\u001b[39m:\n\u001b[0;32m    109\u001b[0m \u001b[39m    \u001b[39m\u001b[39m\"\"\"Execute a task.\"\"\"\u001b[39;00m\n\u001b[1;32m--> 110\u001b[0m     context \u001b[39m=\u001b[39m \u001b[39mself\u001b[39;49m\u001b[39m.\u001b[39;49m_get_top_tasks(query\u001b[39m=\u001b[39;49mobjective, k\u001b[39m=\u001b[39;49mk)\n\u001b[0;32m    111\u001b[0m     \u001b[39mreturn\u001b[39;00m \u001b[39mself\u001b[39m\u001b[39m.\u001b[39mexecution_chain\u001b[39m.\u001b[39mrun(\n\u001b[0;32m    112\u001b[0m         objective\u001b[39m=\u001b[39mobjective, context\u001b[39m=\u001b[39m\u001b[39m\"\u001b[39m\u001b[39m\\n\u001b[39;00m\u001b[39m\"\u001b[39m\u001b[39m.\u001b[39mjoin(context), task\u001b[39m=\u001b[39mtask\n\u001b[0;32m    113\u001b[0m     )\n",
      "File \u001b[1;32mc:\\Users\\jonma\\github_repos\\jonmatthis\\golem_garden\\venv\\lib\\site-packages\\langchain\\experimental\\autonomous_agents\\baby_agi\\baby_agi.py:103\u001b[0m, in \u001b[0;36mBabyAGI._get_top_tasks\u001b[1;34m(self, query, k)\u001b[0m\n\u001b[0;32m    101\u001b[0m \u001b[39mdef\u001b[39;00m \u001b[39m_get_top_tasks\u001b[39m(\u001b[39mself\u001b[39m, query: \u001b[39mstr\u001b[39m, k: \u001b[39mint\u001b[39m) \u001b[39m-\u001b[39m\u001b[39m>\u001b[39m List[\u001b[39mstr\u001b[39m]:\n\u001b[0;32m    102\u001b[0m \u001b[39m    \u001b[39m\u001b[39m\"\"\"Get the top k tasks based on the query.\"\"\"\u001b[39;00m\n\u001b[1;32m--> 103\u001b[0m     results \u001b[39m=\u001b[39m \u001b[39mself\u001b[39;49m\u001b[39m.\u001b[39;49mvectorstore\u001b[39m.\u001b[39;49msimilarity_search(query, k\u001b[39m=\u001b[39;49mk)\n\u001b[0;32m    104\u001b[0m     \u001b[39mif\u001b[39;00m \u001b[39mnot\u001b[39;00m results:\n\u001b[0;32m    105\u001b[0m         \u001b[39mreturn\u001b[39;00m []\n",
      "File \u001b[1;32mc:\\Users\\jonma\\github_repos\\jonmatthis\\golem_garden\\venv\\lib\\site-packages\\langchain\\vectorstores\\faiss.py:226\u001b[0m, in \u001b[0;36mFAISS.similarity_search\u001b[1;34m(self, query, k, **kwargs)\u001b[0m\n\u001b[0;32m    214\u001b[0m \u001b[39mdef\u001b[39;00m \u001b[39msimilarity_search\u001b[39m(\n\u001b[0;32m    215\u001b[0m     \u001b[39mself\u001b[39m, query: \u001b[39mstr\u001b[39m, k: \u001b[39mint\u001b[39m \u001b[39m=\u001b[39m \u001b[39m4\u001b[39m, \u001b[39m*\u001b[39m\u001b[39m*\u001b[39mkwargs: Any\n\u001b[0;32m    216\u001b[0m ) \u001b[39m-\u001b[39m\u001b[39m>\u001b[39m List[Document]:\n\u001b[0;32m    217\u001b[0m \u001b[39m    \u001b[39m\u001b[39m\"\"\"Return docs most similar to query.\u001b[39;00m\n\u001b[0;32m    218\u001b[0m \n\u001b[0;32m    219\u001b[0m \u001b[39m    Args:\u001b[39;00m\n\u001b[1;32m   (...)\u001b[0m\n\u001b[0;32m    224\u001b[0m \u001b[39m        List of Documents most similar to the query.\u001b[39;00m\n\u001b[0;32m    225\u001b[0m \u001b[39m    \"\"\"\u001b[39;00m\n\u001b[1;32m--> 226\u001b[0m     docs_and_scores \u001b[39m=\u001b[39m \u001b[39mself\u001b[39;49m\u001b[39m.\u001b[39;49msimilarity_search_with_score(query, k)\n\u001b[0;32m    227\u001b[0m     \u001b[39mreturn\u001b[39;00m [doc \u001b[39mfor\u001b[39;00m doc, _ \u001b[39min\u001b[39;00m docs_and_scores]\n",
      "File \u001b[1;32mc:\\Users\\jonma\\github_repos\\jonmatthis\\golem_garden\\venv\\lib\\site-packages\\langchain\\vectorstores\\faiss.py:196\u001b[0m, in \u001b[0;36mFAISS.similarity_search_with_score\u001b[1;34m(self, query, k)\u001b[0m\n\u001b[0;32m    186\u001b[0m \u001b[39m\u001b[39m\u001b[39m\"\"\"Return docs most similar to query.\u001b[39;00m\n\u001b[0;32m    187\u001b[0m \n\u001b[0;32m    188\u001b[0m \u001b[39mArgs:\u001b[39;00m\n\u001b[1;32m   (...)\u001b[0m\n\u001b[0;32m    193\u001b[0m \u001b[39m    List of Documents most similar to the query and score for each\u001b[39;00m\n\u001b[0;32m    194\u001b[0m \u001b[39m\"\"\"\u001b[39;00m\n\u001b[0;32m    195\u001b[0m embedding \u001b[39m=\u001b[39m \u001b[39mself\u001b[39m\u001b[39m.\u001b[39membedding_function(query)\n\u001b[1;32m--> 196\u001b[0m docs \u001b[39m=\u001b[39m \u001b[39mself\u001b[39;49m\u001b[39m.\u001b[39;49msimilarity_search_with_score_by_vector(embedding, k)\n\u001b[0;32m    197\u001b[0m \u001b[39mreturn\u001b[39;00m docs\n",
      "File \u001b[1;32mc:\\Users\\jonma\\github_repos\\jonmatthis\\golem_garden\\venv\\lib\\site-packages\\langchain\\vectorstores\\faiss.py:170\u001b[0m, in \u001b[0;36mFAISS.similarity_search_with_score_by_vector\u001b[1;34m(self, embedding, k)\u001b[0m\n\u001b[0;32m    158\u001b[0m \u001b[39mdef\u001b[39;00m \u001b[39msimilarity_search_with_score_by_vector\u001b[39m(\n\u001b[0;32m    159\u001b[0m     \u001b[39mself\u001b[39m, embedding: List[\u001b[39mfloat\u001b[39m], k: \u001b[39mint\u001b[39m \u001b[39m=\u001b[39m \u001b[39m4\u001b[39m\n\u001b[0;32m    160\u001b[0m ) \u001b[39m-\u001b[39m\u001b[39m>\u001b[39m List[Tuple[Document, \u001b[39mfloat\u001b[39m]]:\n\u001b[0;32m    161\u001b[0m \u001b[39m    \u001b[39m\u001b[39m\"\"\"Return docs most similar to query.\u001b[39;00m\n\u001b[0;32m    162\u001b[0m \n\u001b[0;32m    163\u001b[0m \u001b[39m    Args:\u001b[39;00m\n\u001b[1;32m   (...)\u001b[0m\n\u001b[0;32m    168\u001b[0m \u001b[39m        List of Documents most similar to the query and score for each\u001b[39;00m\n\u001b[0;32m    169\u001b[0m \u001b[39m    \"\"\"\u001b[39;00m\n\u001b[1;32m--> 170\u001b[0m     scores, indices \u001b[39m=\u001b[39m \u001b[39mself\u001b[39;49m\u001b[39m.\u001b[39;49mindex\u001b[39m.\u001b[39;49msearch(np\u001b[39m.\u001b[39;49marray([embedding], dtype\u001b[39m=\u001b[39;49mnp\u001b[39m.\u001b[39;49mfloat32), k)\n\u001b[0;32m    171\u001b[0m     docs \u001b[39m=\u001b[39m []\n\u001b[0;32m    172\u001b[0m     \u001b[39mfor\u001b[39;00m j, i \u001b[39min\u001b[39;00m \u001b[39menumerate\u001b[39m(indices[\u001b[39m0\u001b[39m]):\n",
      "File \u001b[1;32mc:\\Users\\jonma\\github_repos\\jonmatthis\\golem_garden\\venv\\lib\\site-packages\\faiss\\class_wrappers.py:329\u001b[0m, in \u001b[0;36mhandle_Index.<locals>.replacement_search\u001b[1;34m(self, x, k, params, D, I)\u001b[0m\n\u001b[0;32m    327\u001b[0m n, d \u001b[39m=\u001b[39m x\u001b[39m.\u001b[39mshape\n\u001b[0;32m    328\u001b[0m x \u001b[39m=\u001b[39m np\u001b[39m.\u001b[39mascontiguousarray(x, dtype\u001b[39m=\u001b[39m\u001b[39m'\u001b[39m\u001b[39mfloat32\u001b[39m\u001b[39m'\u001b[39m)\n\u001b[1;32m--> 329\u001b[0m \u001b[39massert\u001b[39;00m d \u001b[39m==\u001b[39m \u001b[39mself\u001b[39m\u001b[39m.\u001b[39md\n\u001b[0;32m    331\u001b[0m \u001b[39massert\u001b[39;00m k \u001b[39m>\u001b[39m \u001b[39m0\u001b[39m\n\u001b[0;32m    333\u001b[0m \u001b[39mif\u001b[39;00m D \u001b[39mis\u001b[39;00m \u001b[39mNone\u001b[39;00m:\n",
      "\u001b[1;31mAssertionError\u001b[0m: "
     ]
    }
   ],
   "source": []
  },
  {
   "cell_type": "code",
   "execution_count": null,
   "id": "898a210b",
   "metadata": {},
   "outputs": [],
   "source": []
  }
 ],
 "metadata": {
  "kernelspec": {
   "display_name": "Python 3 (ipykernel)",
   "language": "python",
   "name": "python3"
  },
  "language_info": {
   "codemirror_mode": {
    "name": "ipython",
    "version": 3
   },
   "file_extension": ".py",
   "mimetype": "text/x-python",
   "name": "python",
   "nbconvert_exporter": "python",
   "pygments_lexer": "ipython3",
   "version": "3.10.2"
  }
 },
 "nbformat": 4,
 "nbformat_minor": 5
}
