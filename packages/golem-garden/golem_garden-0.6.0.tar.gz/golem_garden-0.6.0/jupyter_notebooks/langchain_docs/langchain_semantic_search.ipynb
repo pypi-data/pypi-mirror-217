{
  "cells": [
    {
      "cell_type": "markdown",
      "metadata": {
        "colab_type": "text",
        "id": "view-in-github"
      },
      "source": [
        "<a href=\"https://colab.research.google.com/github/venuv/langchain_semantic_search/blob/main/langchain_semantic_search.ipynb\" target=\"_parent\"><img src=\"https://colab.research.google.com/assets/colab-badge.svg\" alt=\"Open In Colab\"/></a>"
      ]
    },
    {
      "cell_type": "code",
      "execution_count": 1,
      "metadata": {
        "colab": {
          "base_uri": "https://localhost:8080/"
        },
        "id": "51Wn8g88JCpu",
        "outputId": "a687699f-f2ab-4121-b77d-065a55a819dc"
      },
      "outputs": [
        {
          "name": "stdout",
          "output_type": "stream",
          "text": [
            "Requirement already satisfied: langchain in /Users/jon/anaconda3/envs/golem_garden/lib/python3.9/site-packages (0.0.136)\n",
            "Requirement already satisfied: tenacity<9.0.0,>=8.1.0 in /Users/jon/anaconda3/envs/golem_garden/lib/python3.9/site-packages (from langchain) (8.2.2)\n",
            "Requirement already satisfied: openapi-schema-pydantic<2.0,>=1.2 in /Users/jon/anaconda3/envs/golem_garden/lib/python3.9/site-packages (from langchain) (1.2.4)\n",
            "Requirement already satisfied: async-timeout<5.0.0,>=4.0.0 in /Users/jon/anaconda3/envs/golem_garden/lib/python3.9/site-packages (from langchain) (4.0.2)\n",
            "Requirement already satisfied: dataclasses-json<0.6.0,>=0.5.7 in /Users/jon/anaconda3/envs/golem_garden/lib/python3.9/site-packages (from langchain) (0.5.7)\n",
            "Requirement already satisfied: PyYAML>=5.4.1 in /Users/jon/anaconda3/envs/golem_garden/lib/python3.9/site-packages (from langchain) (6.0)\n",
            "Requirement already satisfied: pydantic<2,>=1 in /Users/jon/anaconda3/envs/golem_garden/lib/python3.9/site-packages (from langchain) (1.10.7)\n",
            "Requirement already satisfied: aiohttp<4.0.0,>=3.8.3 in /Users/jon/anaconda3/envs/golem_garden/lib/python3.9/site-packages (from langchain) (3.8.4)\n",
            "Requirement already satisfied: requests<3,>=2 in /Users/jon/anaconda3/envs/golem_garden/lib/python3.9/site-packages (from langchain) (2.28.2)\n",
            "Requirement already satisfied: SQLAlchemy<2,>=1 in /Users/jon/anaconda3/envs/golem_garden/lib/python3.9/site-packages (from langchain) (1.4.47)\n",
            "Requirement already satisfied: numpy<2,>=1 in /Users/jon/anaconda3/envs/golem_garden/lib/python3.9/site-packages (from langchain) (1.23.5)\n",
            "Requirement already satisfied: frozenlist>=1.1.1 in /Users/jon/anaconda3/envs/golem_garden/lib/python3.9/site-packages (from aiohttp<4.0.0,>=3.8.3->langchain) (1.3.3)\n",
            "Requirement already satisfied: multidict<7.0,>=4.5 in /Users/jon/anaconda3/envs/golem_garden/lib/python3.9/site-packages (from aiohttp<4.0.0,>=3.8.3->langchain) (6.0.4)\n",
            "Requirement already satisfied: charset-normalizer<4.0,>=2.0 in /Users/jon/anaconda3/envs/golem_garden/lib/python3.9/site-packages (from aiohttp<4.0.0,>=3.8.3->langchain) (3.1.0)\n",
            "Requirement already satisfied: yarl<2.0,>=1.0 in /Users/jon/anaconda3/envs/golem_garden/lib/python3.9/site-packages (from aiohttp<4.0.0,>=3.8.3->langchain) (1.8.2)\n",
            "Requirement already satisfied: aiosignal>=1.1.2 in /Users/jon/anaconda3/envs/golem_garden/lib/python3.9/site-packages (from aiohttp<4.0.0,>=3.8.3->langchain) (1.3.1)\n",
            "Requirement already satisfied: attrs>=17.3.0 in /Users/jon/anaconda3/envs/golem_garden/lib/python3.9/site-packages (from aiohttp<4.0.0,>=3.8.3->langchain) (22.2.0)\n",
            "Requirement already satisfied: marshmallow-enum<2.0.0,>=1.5.1 in /Users/jon/anaconda3/envs/golem_garden/lib/python3.9/site-packages (from dataclasses-json<0.6.0,>=0.5.7->langchain) (1.5.1)\n",
            "Requirement already satisfied: typing-inspect>=0.4.0 in /Users/jon/anaconda3/envs/golem_garden/lib/python3.9/site-packages (from dataclasses-json<0.6.0,>=0.5.7->langchain) (0.8.0)\n",
            "Requirement already satisfied: marshmallow<4.0.0,>=3.3.0 in /Users/jon/anaconda3/envs/golem_garden/lib/python3.9/site-packages (from dataclasses-json<0.6.0,>=0.5.7->langchain) (3.19.0)\n",
            "Requirement already satisfied: typing-extensions>=4.2.0 in /Users/jon/anaconda3/envs/golem_garden/lib/python3.9/site-packages (from pydantic<2,>=1->langchain) (4.5.0)\n",
            "Requirement already satisfied: urllib3<1.27,>=1.21.1 in /Users/jon/anaconda3/envs/golem_garden/lib/python3.9/site-packages (from requests<3,>=2->langchain) (1.26.15)\n",
            "Requirement already satisfied: certifi>=2017.4.17 in /Users/jon/anaconda3/envs/golem_garden/lib/python3.9/site-packages (from requests<3,>=2->langchain) (2022.12.7)\n",
            "Requirement already satisfied: idna<4,>=2.5 in /Users/jon/anaconda3/envs/golem_garden/lib/python3.9/site-packages (from requests<3,>=2->langchain) (3.4)\n",
            "Requirement already satisfied: greenlet!=0.4.17 in /Users/jon/anaconda3/envs/golem_garden/lib/python3.9/site-packages (from SQLAlchemy<2,>=1->langchain) (2.0.2)\n",
            "Requirement already satisfied: packaging>=17.0 in /Users/jon/anaconda3/envs/golem_garden/lib/python3.9/site-packages (from marshmallow<4.0.0,>=3.3.0->dataclasses-json<0.6.0,>=0.5.7->langchain) (23.0)\n",
            "Requirement already satisfied: mypy-extensions>=0.3.0 in /Users/jon/anaconda3/envs/golem_garden/lib/python3.9/site-packages (from typing-inspect>=0.4.0->dataclasses-json<0.6.0,>=0.5.7->langchain) (1.0.0)\n",
            "Requirement already satisfied: openai in /Users/jon/anaconda3/envs/golem_garden/lib/python3.9/site-packages (0.27.4)\n",
            "Requirement already satisfied: requests>=2.20 in /Users/jon/anaconda3/envs/golem_garden/lib/python3.9/site-packages (from openai) (2.28.2)\n",
            "Requirement already satisfied: tqdm in /Users/jon/anaconda3/envs/golem_garden/lib/python3.9/site-packages (from openai) (4.65.0)\n",
            "Requirement already satisfied: aiohttp in /Users/jon/anaconda3/envs/golem_garden/lib/python3.9/site-packages (from openai) (3.8.4)\n",
            "Requirement already satisfied: idna<4,>=2.5 in /Users/jon/anaconda3/envs/golem_garden/lib/python3.9/site-packages (from requests>=2.20->openai) (3.4)\n",
            "Requirement already satisfied: charset-normalizer<4,>=2 in /Users/jon/anaconda3/envs/golem_garden/lib/python3.9/site-packages (from requests>=2.20->openai) (3.1.0)\n",
            "Requirement already satisfied: certifi>=2017.4.17 in /Users/jon/anaconda3/envs/golem_garden/lib/python3.9/site-packages (from requests>=2.20->openai) (2022.12.7)\n",
            "Requirement already satisfied: urllib3<1.27,>=1.21.1 in /Users/jon/anaconda3/envs/golem_garden/lib/python3.9/site-packages (from requests>=2.20->openai) (1.26.15)\n",
            "Requirement already satisfied: multidict<7.0,>=4.5 in /Users/jon/anaconda3/envs/golem_garden/lib/python3.9/site-packages (from aiohttp->openai) (6.0.4)\n",
            "Requirement already satisfied: frozenlist>=1.1.1 in /Users/jon/anaconda3/envs/golem_garden/lib/python3.9/site-packages (from aiohttp->openai) (1.3.3)\n",
            "Requirement already satisfied: async-timeout<5.0,>=4.0.0a3 in /Users/jon/anaconda3/envs/golem_garden/lib/python3.9/site-packages (from aiohttp->openai) (4.0.2)\n",
            "Requirement already satisfied: attrs>=17.3.0 in /Users/jon/anaconda3/envs/golem_garden/lib/python3.9/site-packages (from aiohttp->openai) (22.2.0)\n",
            "Requirement already satisfied: yarl<2.0,>=1.0 in /Users/jon/anaconda3/envs/golem_garden/lib/python3.9/site-packages (from aiohttp->openai) (1.8.2)\n",
            "Requirement already satisfied: aiosignal>=1.1.2 in /Users/jon/anaconda3/envs/golem_garden/lib/python3.9/site-packages (from aiohttp->openai) (1.3.1)\n",
            "Requirement already satisfied: requests in /Users/jon/anaconda3/envs/golem_garden/lib/python3.9/site-packages (2.28.2)\n",
            "Collecting transformers\n",
            "  Using cached transformers-4.27.4-py3-none-any.whl (6.8 MB)\n",
            "Requirement already satisfied: faiss-cpu in /Users/jon/anaconda3/envs/golem_garden/lib/python3.9/site-packages (1.7.3)\n",
            "Requirement already satisfied: charset-normalizer<4,>=2 in /Users/jon/anaconda3/envs/golem_garden/lib/python3.9/site-packages (from requests) (3.1.0)\n",
            "Requirement already satisfied: urllib3<1.27,>=1.21.1 in /Users/jon/anaconda3/envs/golem_garden/lib/python3.9/site-packages (from requests) (1.26.15)\n",
            "Requirement already satisfied: certifi>=2017.4.17 in /Users/jon/anaconda3/envs/golem_garden/lib/python3.9/site-packages (from requests) (2022.12.7)\n",
            "Requirement already satisfied: idna<4,>=2.5 in /Users/jon/anaconda3/envs/golem_garden/lib/python3.9/site-packages (from requests) (3.4)\n",
            "Collecting huggingface-hub<1.0,>=0.11.0\n",
            "  Using cached huggingface_hub-0.13.4-py3-none-any.whl (200 kB)\n",
            "Requirement already satisfied: tqdm>=4.27 in /Users/jon/anaconda3/envs/golem_garden/lib/python3.9/site-packages (from transformers) (4.65.0)\n",
            "Requirement already satisfied: filelock in /Users/jon/anaconda3/envs/golem_garden/lib/python3.9/site-packages (from transformers) (3.11.0)\n",
            "Requirement already satisfied: packaging>=20.0 in /Users/jon/anaconda3/envs/golem_garden/lib/python3.9/site-packages (from transformers) (23.0)\n",
            "Requirement already satisfied: pyyaml>=5.1 in /Users/jon/anaconda3/envs/golem_garden/lib/python3.9/site-packages (from transformers) (6.0)\n",
            "Requirement already satisfied: numpy>=1.17 in /Users/jon/anaconda3/envs/golem_garden/lib/python3.9/site-packages (from transformers) (1.23.5)\n",
            "Collecting tokenizers!=0.11.3,<0.14,>=0.11.1\n",
            "  Downloading tokenizers-0.13.3-cp39-cp39-macosx_10_11_x86_64.whl (4.0 MB)\n",
            "\u001b[2K     \u001b[90m━━━━━━━━━━━━━━━━━━━━━━━━━━━━━━━━━━━━━━━━\u001b[0m \u001b[32m4.0/4.0 MB\u001b[0m \u001b[31m33.2 MB/s\u001b[0m eta \u001b[36m0:00:00\u001b[0m00:01\u001b[0m00:01\u001b[0m\n",
            "\u001b[?25hRequirement already satisfied: regex!=2019.12.17 in /Users/jon/anaconda3/envs/golem_garden/lib/python3.9/site-packages (from transformers) (2023.3.23)\n",
            "Requirement already satisfied: typing-extensions>=3.7.4.3 in /Users/jon/anaconda3/envs/golem_garden/lib/python3.9/site-packages (from huggingface-hub<1.0,>=0.11.0->transformers) (4.5.0)\n",
            "Installing collected packages: tokenizers, huggingface-hub, transformers\n",
            "Successfully installed huggingface-hub-0.13.4 tokenizers-0.13.3 transformers-4.27.4\n",
            "Collecting PyPDF2\n",
            "  Downloading pypdf2-3.0.1-py3-none-any.whl (232 kB)\n",
            "\u001b[2K     \u001b[90m━━━━━━━━━━━━━━━━━━━━━━━━━━━━━━━━━━━━━━━\u001b[0m \u001b[32m232.6/232.6 kB\u001b[0m \u001b[31m4.8 MB/s\u001b[0m eta \u001b[36m0:00:00\u001b[0ma \u001b[36m0:00:01\u001b[0m\n",
            "\u001b[?25hRequirement already satisfied: typing_extensions>=3.10.0.0 in /Users/jon/anaconda3/envs/golem_garden/lib/python3.9/site-packages (from PyPDF2) (4.5.0)\n",
            "Installing collected packages: PyPDF2\n",
            "Successfully installed PyPDF2-3.0.1\n"
          ]
        }
      ],
      "source": [
        "!pip install langchain\n",
        "!pip install openai\n",
        "!pip install requests transformers faiss-cpu\n",
        "!pip install PyPDF2"
      ]
    },
    {
      "cell_type": "code",
      "execution_count": 3,
      "metadata": {
        "id": "56d08n5RJTE9"
      },
      "outputs": [],
      "source": [
        "from langchain.llms import OpenAI\n",
        "from langchain.chains.qa_with_sources import load_qa_with_sources_chain\n",
        "from langchain.docstore.document import Document\n",
        "import requests\n",
        "import os\n",
        "from PyPDF2 import PdfReader\n",
        "from langchain.embeddings.openai import OpenAIEmbeddings\n",
        "from langchain.vectorstores.faiss import FAISS\n",
        "from langchain.text_splitter import CharacterTextSplitter\n",
        "import pickle\n",
        "import os\n"
      ]
    },
    {
      "cell_type": "code",
      "execution_count": null,
      "metadata": {
        "colab": {
          "base_uri": "https://localhost:8080/"
        },
        "id": "VDoiAEP_u7rE",
        "outputId": "1fb52aea-e72e-478f-cc8e-04bacd6756d9"
      },
      "outputs": [
        {
          "name": "stdout",
          "output_type": "stream",
          "text": [
            "env: OPENAI_API_KEY=<your key here. NO QUOTES>\n"
          ]
        }
      ],
      "source": [
        "%env OPENAI_API_KEY = <your key here. NO QUOTES>"
      ]
    },
    {
      "cell_type": "code",
      "execution_count": null,
      "metadata": {
        "colab": {
          "base_uri": "https://localhost:8080/"
        },
        "id": "FtcEDfHQOg2J",
        "outputId": "78f3690d-7e0c-4c15-d2bd-ffe4b1e1fc26"
      },
      "outputs": [
        {
          "name": "stdout",
          "output_type": "stream",
          "text": [
            "Drive already mounted at /content/drive; to attempt to forcibly remount, call drive.mount(\"/content/drive\", force_remount=True).\n"
          ]
        }
      ],
      "source": [
        "drive.mount('/content/drive')\n",
        "gdrive_path = '/content/drive/MyDrive/sleep_pdf/' # or whatever your Google Folder path is"
      ]
    },
    {
      "cell_type": "code",
      "execution_count": null,
      "metadata": {
        "id": "WgvWik96Gi8R"
      },
      "outputs": [],
      "source": [
        "# Langchain Document - https://github.com/hwchase17/langchain/blob/master/langchain/docstore/document.py\n",
        "def get_pdf_data(file_path, num_pages = 1):\n",
        "  reader = PdfReader(gdrive_path+file_path)\n",
        "  full_doc_text = \"\"\n",
        "  for page in range(len(reader.pages)):\n",
        "    current_page = reader.pages[page]\n",
        "    text = current_page.extract_text()\n",
        "    full_doc_text += text\n",
        "\n",
        "\n",
        "  return Document(\n",
        "        page_content=full_doc_text,\n",
        "        metadata = {\"source\": file_path} \n",
        "    )"
      ]
    },
    {
      "cell_type": "code",
      "execution_count": null,
      "metadata": {
        "id": "x5o7bn2J1Vrn"
      },
      "outputs": [],
      "source": [
        "def source_docs():\n",
        "    return [get_pdf_data(file) for file in os.listdir(gdrive_path)]"
      ]
    },
    {
      "cell_type": "code",
      "execution_count": null,
      "metadata": {
        "id": "UOG8Dtht8APG"
      },
      "outputs": [],
      "source": [
        "def search_index(source_docs):\n",
        "    source_chunks = []\n",
        "    splitter = CharacterTextSplitter(separator=\" \", chunk_size=1024, chunk_overlap=0)\n",
        "\n",
        "    for source in source_docs:\n",
        "        for chunk in splitter.split_text(source.page_content):\n",
        "            source_chunks.append(Document(page_content=chunk, metadata=source.metadata))\n",
        "    #more likely you'll pickle this inde\n",
        "    with open(\"search_index.pickle\", \"wb\") as f:\n",
        "        pickle.dump(FAISS.from_documents(source_chunks, OpenAIEmbeddings()), f)"
      ]
    },
    {
      "cell_type": "code",
      "execution_count": null,
      "metadata": {
        "id": "x6d-fA3v8Nnf"
      },
      "outputs": [],
      "source": [
        "#faster but more expensive in $ - chain = load_qa_with_sources_chain(OpenAI(temperature=0),verbose=False,chain_type=\"map_reduce\")\n",
        "chain = load_qa_with_sources_chain(OpenAI(temperature=0),verbose=False, chain_type=\"stuff\")\n",
        "def print_answer(question):\n",
        "    with open(\"search_index.pickle\", \"rb\") as f:\n",
        "        search_index = pickle.load(f)\n",
        "        #print(\"type - \", type(search_index))\n",
        "    print(\n",
        "        chain(\n",
        "            {\n",
        "                \"input_documents\": search_index.similarity_search(question, k=3),\n",
        "                \"question\": question,\n",
        "            },\n",
        "            return_only_outputs=True,\n",
        "        )[\"output_text\"]\n",
        "    \n",
        "    )\n",
        "    "
      ]
    },
    {
      "cell_type": "code",
      "execution_count": null,
      "metadata": {
        "colab": {
          "base_uri": "https://localhost:8080/"
        },
        "id": "g2tTFCZ9Wivd",
        "outputId": "f2c555b3-bd9c-42e8-81e0-8ff99e678223"
      },
      "outputs": [
        {
          "name": "stderr",
          "output_type": "stream",
          "text": [
            "WARNING:root:Created a chunk of size 1092, which is longer than the specified 1024\n"
          ]
        },
        {
          "name": "stdout",
          "output_type": "stream",
          "text": [
            " Sleep devices and actigraphy can both be used to assess sleep quality. Sleep devices measure sleep quality on an accelerometer basis, while actigraphy measures sleep/vigilance patterns.\n",
            "SOURCES: sleep device vs actigraphy.pdf, teeth grinding sleep quality.pdf\n"
          ]
        }
      ],
      "source": [
        "import pdb\n",
        "sources = source_docs()\n",
        "search_index(sources)\n",
        "try:\n",
        "  print_answer(<your question on the document corpus here>) # your question here\n",
        "except Exception as e:\n",
        "  print(f\"Unexpected error: {e}\")"
      ]
    },
    {
      "cell_type": "code",
      "execution_count": null,
      "metadata": {
        "id": "pRnBwxMC0Upj"
      },
      "outputs": [],
      "source": []
    }
  ],
  "metadata": {
    "colab": {
      "authorship_tag": "ABX9TyMac6gKYMjgF3mKpSEoj/3Q",
      "include_colab_link": true,
      "provenance": []
    },
    "kernelspec": {
      "display_name": "Python 3",
      "name": "python3"
    },
    "language_info": {
      "codemirror_mode": {
        "name": "ipython",
        "version": 3
      },
      "file_extension": ".py",
      "mimetype": "text/x-python",
      "name": "python",
      "nbconvert_exporter": "python",
      "pygments_lexer": "ipython3",
      "version": "3.9.16"
    }
  },
  "nbformat": 4,
  "nbformat_minor": 0
}
