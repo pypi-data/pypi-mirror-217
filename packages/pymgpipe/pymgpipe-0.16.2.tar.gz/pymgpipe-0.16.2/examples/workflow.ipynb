{
 "cells": [
  {
   "attachments": {},
   "cell_type": "markdown",
   "metadata": {},
   "source": [
    "### Building models"
   ]
  },
  {
   "cell_type": "code",
   "execution_count": 1,
   "metadata": {},
   "outputs": [
    {
     "data": {
      "text/html": [
       "<div>\n",
       "<style scoped>\n",
       "    .dataframe tbody tr th:only-of-type {\n",
       "        vertical-align: middle;\n",
       "    }\n",
       "\n",
       "    .dataframe tbody tr th {\n",
       "        vertical-align: top;\n",
       "    }\n",
       "\n",
       "    .dataframe thead th {\n",
       "        text-align: right;\n",
       "    }\n",
       "</style>\n",
       "<table border=\"1\" class=\"dataframe\">\n",
       "  <thead>\n",
       "    <tr style=\"text-align: right;\">\n",
       "      <th></th>\n",
       "      <th>sample_01</th>\n",
       "      <th>sample_02</th>\n",
       "      <th>sample_03</th>\n",
       "      <th>sample_04</th>\n",
       "      <th>sample_05</th>\n",
       "      <th>sample_06</th>\n",
       "      <th>sample_07</th>\n",
       "      <th>sample_08</th>\n",
       "      <th>sample_09</th>\n",
       "      <th>sample_010</th>\n",
       "    </tr>\n",
       "  </thead>\n",
       "  <tbody>\n",
       "    <tr>\n",
       "      <th>TaxaD</th>\n",
       "      <td>0.255123</td>\n",
       "      <td>0.204819</td>\n",
       "      <td>0.174660</td>\n",
       "      <td>0.308862</td>\n",
       "      <td>0.357503</td>\n",
       "      <td>0.342088</td>\n",
       "      <td>0.187595</td>\n",
       "      <td>0.231042</td>\n",
       "      <td>0.208297</td>\n",
       "      <td>0.133891</td>\n",
       "    </tr>\n",
       "    <tr>\n",
       "      <th>TaxaB</th>\n",
       "      <td>0.283563</td>\n",
       "      <td>0.136546</td>\n",
       "      <td>0.320900</td>\n",
       "      <td>0.226009</td>\n",
       "      <td>0.154582</td>\n",
       "      <td>0.275421</td>\n",
       "      <td>0.323752</td>\n",
       "      <td>0.289135</td>\n",
       "      <td>0.318341</td>\n",
       "      <td>0.385983</td>\n",
       "    </tr>\n",
       "    <tr>\n",
       "      <th>TaxaA</th>\n",
       "      <td>0.249268</td>\n",
       "      <td>0.362450</td>\n",
       "      <td>0.270574</td>\n",
       "      <td>0.148401</td>\n",
       "      <td>0.359013</td>\n",
       "      <td>0.179798</td>\n",
       "      <td>0.147252</td>\n",
       "      <td>0.303326</td>\n",
       "      <td>0.268122</td>\n",
       "      <td>0.233264</td>\n",
       "    </tr>\n",
       "    <tr>\n",
       "      <th>TaxaC</th>\n",
       "      <td>0.212045</td>\n",
       "      <td>0.296185</td>\n",
       "      <td>0.233866</td>\n",
       "      <td>0.316728</td>\n",
       "      <td>0.128902</td>\n",
       "      <td>0.202694</td>\n",
       "      <td>0.341402</td>\n",
       "      <td>0.176497</td>\n",
       "      <td>0.205240</td>\n",
       "      <td>0.246862</td>\n",
       "    </tr>\n",
       "  </tbody>\n",
       "</table>\n",
       "</div>"
      ],
      "text/plain": [
       "       sample_01  sample_02  sample_03  sample_04  sample_05  sample_06  \\\n",
       "TaxaD   0.255123   0.204819   0.174660   0.308862   0.357503   0.342088   \n",
       "TaxaB   0.283563   0.136546   0.320900   0.226009   0.154582   0.275421   \n",
       "TaxaA   0.249268   0.362450   0.270574   0.148401   0.359013   0.179798   \n",
       "TaxaC   0.212045   0.296185   0.233866   0.316728   0.128902   0.202694   \n",
       "\n",
       "       sample_07  sample_08  sample_09  sample_010  \n",
       "TaxaD   0.187595   0.231042   0.208297    0.133891  \n",
       "TaxaB   0.323752   0.289135   0.318341    0.385983  \n",
       "TaxaA   0.147252   0.303326   0.268122    0.233264  \n",
       "TaxaC   0.341402   0.176497   0.205240    0.246862  "
      ]
     },
     "execution_count": 1,
     "metadata": {},
     "output_type": "execute_result"
    }
   ],
   "source": [
    "from pymgpipe import *\n",
    "from pkg_resources import resource_filename\n",
    "\n",
    "taxa_directory = resource_filename(\"pymgpipe\", \"resources/miniTaxa/\")\n",
    "\n",
    "# Generating random abundance matrix\n",
    "taxa = [x.split('.xml.gz')[0] for x in os.listdir(taxa_directory)]\n",
    "abundances = pd.DataFrame(np.random.randint(250,750,size=(4, 10)),columns=['sample_0'+str(i) for i in range(1,11)],index=taxa)\n",
    "abundances = abundances.apply(lambda x: x/x.sum(),axis=0)\n",
    "abundances"
   ]
  },
  {
   "cell_type": "code",
   "execution_count": 4,
   "metadata": {},
   "outputs": [
    {
     "name": "stdout",
     "output_type": "stream",
     "text": [
      "Found coverage file with 10 samples and 4 unique taxa\n",
      "Building 10 models...\n",
      "\n",
      "----------------Parameters----------------\n",
      "Diet/fecal compartments- TRUE\n",
      "Coupling constraints- TRUE\n",
      "Parallel- TRUE\n",
      "Threads- 7\n",
      "Solver- GUROBI\n",
      "LP type- MPS\n",
      "COBRA type- XML\n",
      "compress- TRUE\n",
      "Output directory- OUT/\n"
     ]
    },
    {
     "name": "stderr",
     "output_type": "stream",
     "text": [
      "  0%|          | 0/10 [00:00<?, ?it/s]pymgpipe.logger - INFO - Finished building mc1 in 0.01 minutes!\n",
      "pymgpipe.logger - INFO - Finished building mc3 in 0.01 minutes!\n",
      "pymgpipe.logger - INFO - Finished building mc7 in 0.01 minutes!\n",
      "pymgpipe.logger - INFO - Finished building mc4 in 0.01 minutes!\n",
      "pymgpipe.logger - INFO - Finished building mc8 in 0.01 minutes!\n",
      "pymgpipe.logger - INFO - Finished building mc5 in 0.01 minutes!\n",
      "pymgpipe.logger - INFO - Finished building mc6 in 0.02 minutes!\n",
      "pymgpipe.logger - INFO - Removing variables from mc1...\n",
      "pymgpipe.logger - INFO - Removing variables from mc4...\n",
      "pymgpipe.logger - INFO - Removing variables from mc3...\n",
      "pymgpipe.logger - INFO - Removing variables from mc7...\n",
      "pymgpipe.logger - INFO - Removing variables from mc8...\n",
      "pymgpipe.logger - INFO - Adding coupling constraints to mc1...\n",
      "pymgpipe.logger - INFO - Adding coupling constraints to mc4...\n",
      "pymgpipe.logger - INFO - Removing variables from mc5...\n",
      "pymgpipe.logger - INFO - Adding coupling constraints to mc3...\n",
      "pymgpipe.logger - INFO - Adding coupling constraints to mc7...\n",
      "pymgpipe.logger - INFO - Adding coupling constraints to mc8...\n",
      "pymgpipe.logger - INFO - Removing variables from mc6...\n",
      "pymgpipe.logger - INFO - Adding coupling constraints to mc5...\n",
      "pymgpipe.logger - INFO - Adding coupling constraints to mc6...\n",
      " 50%|█████     | 5/10 [00:04<00:03,  1.43it/s]pymgpipe.logger - INFO - Finished building mc9 in 0.01 minutes!\n",
      "pymgpipe.logger - INFO - Finished building mc10 in 0.01 minutes!\n",
      "pymgpipe.logger - INFO - Finished building mc2 in 0.01 minutes!\n",
      "pymgpipe.logger - INFO - Removing variables from mc9...\n",
      "pymgpipe.logger - INFO - Removing variables from mc10...\n",
      "pymgpipe.logger - INFO - Removing variables from mc2...\n",
      "pymgpipe.logger - INFO - Adding coupling constraints to mc9...\n",
      "pymgpipe.logger - INFO - Adding coupling constraints to mc10...\n",
      "pymgpipe.logger - INFO - Adding coupling constraints to mc2...\n",
      "100%|██████████| 10/10 [00:05<00:00,  1.81it/s]\n",
      "pymgpipe.logger - INFO - Finished building 10 models and associated LP problems!\n",
      "pymgpipe.logger - INFO - Process took 0.108 minutes to run...\n"
     ]
    },
    {
     "name": "stdout",
     "output_type": "stream",
     "text": [
      "-------------------------------------------------------\n"
     ]
    },
    {
     "data": {
      "image/png": "[encoded data removed]",
      "text/plain": [
       "<Figure size 640x480 with 1 Axes>"
      ]
     },
     "metadata": {},
     "output_type": "display_data"
    }
   ],
   "source": [
    "# ----- STEP 1: BUILD COMMUNITY MODELS ----\n",
    "build_models(\n",
    "    coverage_file=abundances,\n",
    "    taxa_dir=taxa_directory,\n",
    "    out_dir='out',\n",
    "    diet_fecal_compartments=True,\n",
    "    coupling_constraints=True,\n",
    "    remove_reverse_vars_from_lp=True,\n",
    "    hard_remove=True,\n",
    "    compress=True,\n",
    "    threads=-1,\n",
    "    parallel=True,\n",
    "    solver='gurobi',\n",
    "    cobra_type='.xml',\n",
    "    lp_type='.mps',\n",
    "    compute_metrics=True,\n",
    "    sample_prefix='mc',\n",
    "    force=True,\n",
    "    # diet='test_diet.csv', <-- you can try uncommenting this, however this diet will result in infeasibility\n",
    ")"
   ]
  },
  {
   "cell_type": "code",
   "execution_count": null,
   "metadata": {},
   "outputs": [],
   "source": [
    "# ----- STEP 1.2: BUILD INDIVIDUAL MODELS ----\n",
    "my_model = build(\n",
    "    abundances=abundances,\n",
    "    sample='sample_03',\n",
    "    taxa_directory=taxa_directory,\n",
    "    diet_fecal_compartments=True\n",
    ")\n",
    "add_coupling_constraints(my_model)\n",
    "solve_model(my_model)\n",
    "write_lp_problem(my_model, 'my_model.mps')"
   ]
  },
  {
   "attachments": {},
   "cell_type": "markdown",
   "metadata": {},
   "source": [
    "### Simulating communities"
   ]
  },
  {
   "cell_type": "code",
   "execution_count": null,
   "metadata": {},
   "outputs": [],
   "source": [
    "# ----- STEP 2: COMPUTE NMPCS ----\n",
    "res = compute_nmpcs(\n",
    "    samples='out/problems/',\n",
    "    out_dir='out/',\n",
    "    threshold=0,\n",
    "    fva_type=FVA_TYPE.REGULAR,\n",
    "    force=True,\n",
    "    threads=-1,\n",
    "    objective_percent=100,\n",
    "    solver='gurobi'\n",
    ")\n",
    "res.nmpc"
   ]
  },
  {
   "cell_type": "code",
   "execution_count": null,
   "metadata": {},
   "outputs": [],
   "source": [
    "# ----- STEP 2.2: COMPUTE NMPCS FOR INDIVIDUAL MODELS ----\n",
    "res = compute_nmpcs(\n",
    "    samples=my_model,\n",
    "    write_to_file=False\n",
    ")\n",
    "res.nmpc"
   ]
  },
  {
   "attachments": {},
   "cell_type": "markdown",
   "metadata": {},
   "source": [
    "### Optional- working with optlang models"
   ]
  },
  {
   "cell_type": "code",
   "execution_count": null,
   "metadata": {},
   "outputs": [],
   "source": [
    "from pymgpipe import *\n",
    "\n",
    "# To load a model, you can do either of the following. Either one will return the underlying optlang LP problem\n",
    "# Note, anywhere you see a `model` parameter in a function, you can provide either the optlang object or the path to the file\n",
    "\n",
    "model = load_model('out/models/mc1.xml.gz', solver='cplex') # <-- Note, this is the COBRA model, and thus will not have any modifications you have made to the underlying lp (i.e. coupling constraints, diet, removing reverse variables, etc)\n",
    "\n",
    "# OR\n",
    "\n",
    "model = load_model('out/problems/mc1.mps.gz', solver='gurobi') # <-- This WILL have those modifications. It is recommended to always work with the models in the problems/ folder\n",
    "print(model.objective)"
   ]
  },
  {
   "cell_type": "code",
   "execution_count": null,
   "metadata": {},
   "outputs": [],
   "source": [
    "# Adding diets (remember, depending on the model, some diets will result in model infeasibility)\n",
    "\n",
    "print(get_available_diets())\n",
    "\n",
    "add_diet_to_model(model,'GlutenFreeDiet', force_uptake=False)\n",
    "print(get_diet(model))"
   ]
  },
  {
   "cell_type": "code",
   "execution_count": null,
   "metadata": {},
   "outputs": [],
   "source": [
    "# You can also add a diet directly from a file \n",
    "\n",
    "add_diet_to_model(model, 'test_diet.csv')\n",
    "print(get_diet(model))"
   ]
  },
  {
   "cell_type": "code",
   "execution_count": null,
   "metadata": {},
   "outputs": [],
   "source": [
    "# Removing diets \n",
    "\n",
    "remove_diet(model)\n",
    "print(get_diet(model))"
   ]
  },
  {
   "cell_type": "code",
   "execution_count": null,
   "metadata": {},
   "outputs": [],
   "source": [
    "# Adding coupling constraints\n",
    "\n",
    "add_coupling_constraints(model)"
   ]
  },
  {
   "cell_type": "code",
   "execution_count": null,
   "metadata": {},
   "outputs": [],
   "source": [
    "# Removing coupling constraints \n",
    "\n",
    "remove_coupling_constraints(model)"
   ]
  },
  {
   "cell_type": "code",
   "execution_count": null,
   "metadata": {},
   "outputs": [],
   "source": [
    "# Removing reverse variables (this is recommended if model size is an issue)\n",
    "# Setting hard_remove to TRUE will remove the reverse variables from the model entirely (removing the variables can be time consuming)\n",
    "# Setting hard_remove to FALSE will keep the reverse variables in place, but set their bounds to zero (this is done to save time)\n",
    "\n",
    "remove_reverse_vars(model, hard_remove=True)"
   ]
  },
  {
   "cell_type": "code",
   "execution_count": null,
   "metadata": {},
   "outputs": [],
   "source": [
    "# Fetching reactions of interest \n",
    "\n",
    "exchange_reactions = get_reactions(model, regex='EX_.*[fe]')\n",
    "print(exchange_reactions)\n",
    "\n",
    "smaller_subset = get_reactions(model, reactions=exchange_reactions[:5])\n",
    "print(smaller_subset)"
   ]
  },
  {
   "cell_type": "code",
   "execution_count": null,
   "metadata": {},
   "outputs": [],
   "source": [
    "# Setting objectives (remember, if you haven't removed reverse variables, you will need to make to include them in any objective you set, where NET FLUX = forward - reverse)\n",
    "\n",
    "set_objective(model, obj_expression=np.sum(smaller_subset),direction='min')\n",
    "print(model.objective)\n",
    "\n",
    "solve_model(model)"
   ]
  },
  {
   "cell_type": "code",
   "execution_count": null,
   "metadata": {},
   "outputs": [],
   "source": [
    "# Running FVA\n",
    "\n",
    "add_coupling_constraints(model)\n",
    "set_objective(model, 'communityBiomass', 'max')\n",
    "\n",
    "res = fva(\n",
    "    model,\n",
    "    reactions = exchange_reactions,\n",
    "    threads = -1,\n",
    "    fva_type=FVA_TYPE.REGULAR,\n",
    "    objective_percent=100\n",
    ")\n",
    "res"
   ]
  },
  {
   "cell_type": "code",
   "execution_count": null,
   "metadata": {},
   "outputs": [],
   "source": [
    "# If you have VFFVA installed, you can run FVA like so\n",
    "# Note, VFFVA requires the `model` parameter to be an .mps file, so make sure that your desired objective is set before running this function\n",
    "\n",
    "vffva_config.path = '/Users/yolimeydan/Documents/Columbia/VFFVA/'\n",
    "res = fva(\n",
    "    model='out/problems/mc1.mps.gz',\n",
    "    solver='cplex',\n",
    "    reactions = exchange_reactions,\n",
    "    threads = -1,\n",
    "    fva_type=FVA_TYPE.FAST,\n",
    "    objective_percent=100\n",
    ")\n",
    "res"
   ]
  }
 ],
 "metadata": {
  "kernelspec": {
   "display_name": "pymgpipe",
   "language": "python",
   "name": "python3"
  },
  "language_info": {
   "codemirror_mode": {
    "name": "ipython",
    "version": 3
   },
   "file_extension": ".py",
   "mimetype": "text/x-python",
   "name": "python",
   "nbconvert_exporter": "python",
   "pygments_lexer": "ipython3",
   "version": "3.10.11"
  },
  "vscode": {
   "interpreter": {
    "hash": "7b1a2a6941a445ff49892b54b12ef79b5134f773bb4c2f4bfc5706f7d311a07a"
   }
  }
 },
 "nbformat": 4,
 "nbformat_minor": 2
}
